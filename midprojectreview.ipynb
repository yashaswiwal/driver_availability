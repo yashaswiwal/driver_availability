{
 "cells": [
  {
   "cell_type": "markdown",
   "id": "7de1602c",
   "metadata": {},
   "source": [
    "# 1. Introduction\n",
    "Gig workers are independent contractors. They are not in a fixed long-term relationship with the organization and they have the ability to set their own hours and move between different platforms easily. Hence, it is important to assess the daily and hourly activity of these drivers, to have an assurance of driver supply and availability in the near future. A year, month or day ahead forecast can help the utilities plan for a larger time scale but for smoother daily operations an hourly (or even better) forecast can prove very useful.\n",
    "\n",
    "This project will involve analyzing activity of drivers with atleast ~ 2 years of history with the spark app to find trends in Spark On minutes spent around hour of the day, day of the week, season of the year etc. and also to check factors like hiked delivery fees and offer frequency that can impact the driver's willingness to go online. A model can be built to predict the time spent online with given parameters like day of week, time of day etc, season, holiday etc."
   ]
  },
  {
   "cell_type": "code",
   "execution_count": 7,
   "id": "752e9d11",
   "metadata": {},
   "outputs": [
    {
     "data": {
      "text/html": [
       "        <script type=\"text/javascript\">\n",
       "        window.PlotlyConfig = {MathJaxConfig: 'local'};\n",
       "        if (window.MathJax && window.MathJax.Hub && window.MathJax.Hub.Config) {window.MathJax.Hub.Config({SVG: {font: \"STIX-Web\"}});}\n",
       "        if (typeof require !== 'undefined') {\n",
       "        require.undef(\"plotly\");\n",
       "        requirejs.config({\n",
       "            paths: {\n",
       "                'plotly': ['https://cdn.plot.ly/plotly-2.12.1.min']\n",
       "            }\n",
       "        });\n",
       "        require(['plotly'], function(Plotly) {\n",
       "            window._Plotly = Plotly;\n",
       "        });\n",
       "        }\n",
       "        </script>\n",
       "        "
      ]
     },
     "metadata": {},
     "output_type": "display_data"
    }
   ],
   "source": [
    "# Importing libraries\n",
    "import os\n",
    "import warnings\n",
    "warnings.filterwarnings('ignore')\n",
    "import numpy as np \n",
    "import pandas as pd\n",
    "import matplotlib.pyplot as plt\n",
    "plt.style.use('fivethirtyeight') \n",
    "# Above is a special style template for matplotlib, highly useful for visualizing time series data\n",
    "%matplotlib inline\n",
    "from pylab import rcParams\n",
    "from plotly import tools\n",
    "from plotly.offline import init_notebook_mode, iplot\n",
    "init_notebook_mode(connected=True)\n",
    "import plotly.graph_objs as go\n",
    "import plotly.figure_factory as ff\n",
    "import statsmodels.api as sm\n",
    "from numpy.random import normal, seed\n",
    "from scipy.stats import norm\n",
    "from statsmodels.tsa.arima.model import ARIMA\n",
    "from statsmodels.tsa.stattools import adfuller\n",
    "from statsmodels.graphics.tsaplots import plot_acf, plot_pacf\n",
    "from statsmodels.tsa.arima_process import ArmaProcess\n",
    "from statsmodels.tsa.seasonal import seasonal_decompose\n",
    "from statsmodels.tsa.arima_model import ARIMA\n",
    "from statsmodels.tsa.statespace.sarimax import SARIMAX\n",
    "from statsmodels.tsa.stattools import adfuller\n",
    "from statsmodels.graphics.tsaplots import plot_acf, plot_pacf\n",
    "import math\n",
    "from datetime import datetime, timedelta\n",
    "from pandas.tseries.holiday import USFederalHolidayCalendar as calendar\n",
    "import scipy.stats\n",
    "import matplotlib.dates as mdates\n",
    "from google.cloud import bigquery\n",
    "from sklearn.metrics import mean_squared_error"
   ]
  },
  {
   "cell_type": "markdown",
   "id": "83e861be",
   "metadata": {},
   "source": [
    "# 2. Data\n",
    "\n",
    "The table I extracted data from is a join between DRVR_APPLN_ACTV and DRVR. For the purpose of this project, I will be using data pertaining to only the Orlando region (has much data and diverse drivers) to study driver activity. To start off, we will be looking at a univariate analysis of minutes spent online during every hour for the past 2 years and then move on to a multivariate analysis on how other factors could be influencing the drivers. The most important attributes we require are DRVR_USER_ID, DRVR_ACTV_IND, ACTV_START_TS, ACTL_ACTV_END_TS, **ACTV_DUR_MIN_QTY**. The given data is a collection of irregular activity timestamps that are scattered randomly between minutes, hours and days. But for our project, we need a uniform timeline of every hour in the selected period of time and the value of number of minutes spent online during each of these slot hours."
   ]
  },
  {
   "cell_type": "code",
   "execution_count": 8,
   "id": "3fe87e6d",
   "metadata": {},
   "outputs": [],
   "source": [
    "#connecting notebook to gcloud bigquery to query data.\n",
    "cred_file = r\"C:\\Users\\V0V01S7\\AppData\\Roaming\\gcloud\\legacy_credentials\\venkatasaiyashaswi.v@walmart.com\\adc.json\"\n",
    "os.environ[\"GOOGLE_APPLICATION_CREDENTIALS\"]=cred_file\n",
    "def query_bq(QUERY):\n",
    "    client = bigquery.Client(project='wmt-edw-sandbox')\n",
    "    query_job = client.query(QUERY) # API request\n",
    "    rows = query_job.result() # Waits for query to finish\n",
    "    df = rows.to_dataframe()\n",
    "    return df"
   ]
  },
  {
   "cell_type": "code",
   "execution_count": 9,
   "id": "8d7bb99a",
   "metadata": {},
   "outputs": [
    {
     "data": {
      "text/plain": [
       "iphoneskyper@gmail.com          723\n",
       "glocesaga@hotmail.com           704\n",
       "rodriguezriverajc@gmail.com     624\n",
       "vargasefrain.123@gmail.com      507\n",
       "manuelsandoval1976@yahoo.com    504\n",
       "eddielara90@yahoo.com           446\n",
       "tleipelt@ymail.com              425\n",
       "thairymartinez8@gmail.com       422\n",
       "jim@stanley.net                 420\n",
       "joowpublicidade@gmail.com       405\n",
       "Name: DRVR_USER_ID, dtype: int64"
      ]
     },
     "execution_count": 9,
     "metadata": {},
     "output_type": "execute_result"
    }
   ],
   "source": [
    "# choose driver name for forecasting later\n",
    "code = \"\"\"select A.DRVR_USER_ID, \n",
    "B.ACTV_START_TS, B.ACTL_ACTV_END_TS, B.ACTV_DUR_MIN_QTY, B.ACTV_DT, \n",
    "from `wmt-edw-prod.WW_GEC_VM.DRVR` A inner join `wmt-edw-prod.WW_GEC_VM.DRVR_APPLN_ACTV` B on A.DRVR_USER_ID = B.DRVR_USER_ID\n",
    "where A.MARKET_NM = 'Walmart San Jose North' AND B.ACTV_NM = \"ONLINE\"\n",
    "\"\"\"\n",
    "df = query_bq(code)\n",
    "df[\"ACTV_START_TS\"] = pd.to_datetime(df[\"ACTV_START_TS\"])\n",
    "df[\"ACTL_ACTV_END_TS\"] = pd.to_datetime(df[\"ACTL_ACTV_END_TS\"])\n",
    "#df[\"ACTV_START_TS\"] = df[\"ACTV_START_TS\"] + pd.Timedelta(hours=3) #converting pacific time to eastern time (orlando market)\n",
    "#df[\"ACTL_ACTV_END_TS\"] = df[\"ACTL_ACTV_END_TS\"] + pd.Timedelta(hours=3)\n",
    "df[\"DRVR_USER_ID\"].value_counts().nlargest(n=10)"
   ]
  },
  {
   "cell_type": "markdown",
   "id": "2cd1f6e8",
   "metadata": {},
   "source": [
    "Let's look at the top 100 drivers (having more data) to analyze the most active driver by slot hour"
   ]
  },
  {
   "cell_type": "code",
   "execution_count": 10,
   "id": "36124683",
   "metadata": {},
   "outputs": [],
   "source": [
    "dfs = {}\n",
    "for ID in df['DRVR_USER_ID'].value_counts()[0:100].index.tolist():\n",
    "    dfs[ID] = df.loc[df['DRVR_USER_ID'] == ID]"
   ]
  },
  {
   "cell_type": "code",
   "execution_count": 11,
   "id": "2661b7d2",
   "metadata": {},
   "outputs": [],
   "source": [
    "def final(df):\n",
    "    df['dayhour'] = df[\"ACTV_START_TS\"].apply(lambda x: x.replace(minute=0, second=0, microsecond=0))\n",
    "    time_line = pd.date_range(df[\"dayhour\"].min(),df[\"dayhour\"].max(),freq='H')\n",
    "    time_line = time_line.to_series()\n",
    "    ts = pd.DataFrame(time_line,columns = [\"dayhour\"])\n",
    "    ts = ts.set_index(\"dayhour\")\n",
    "    ts = pd.merge(ts,df,how=\"left\",on=[\"dayhour\"])\n",
    "    ts[\"ACTV_DUR_MIN_QTY\"] = ts[\"ACTV_DUR_MIN_QTY\"].fillna(0)\n",
    "    ts = ts.drop([\"DRVR_USER_ID\",\"ACTV_DT\"],axis=1)\n",
    "    ts = ts.set_index([\"dayhour\"],drop=True)\n",
    "    ts = ts.drop_duplicates()\n",
    "    ts = ts.dropna()\n",
    "    ts = ts.reset_index(drop=False)\n",
    "    ts['ACTV_START_TS'] = ts[\"ACTV_START_TS\"].apply(lambda x: x.replace(second=0, microsecond=0))\n",
    "    ts['ACTL_ACTV_END_TS'] = ts[\"ACTL_ACTV_END_TS\"].apply(lambda x: x.replace(second=0, microsecond=0))\n",
    "    def create_final_data(df):\n",
    "        df['minutes'] = (df['ACTL_ACTV_END_TS'] - df['ACTV_START_TS']).dt.total_seconds()/60\n",
    "        df = df[df['minutes']>0].reset_index(drop=True)\n",
    "        # create an IntervalIndex which we can set as the axis (needed for re-indexing).\n",
    "        # subtract one minute from end_time so that the minute of the termination is excluded.\n",
    "        iv_idx = pd.IntervalIndex.from_arrays(df['ACTV_START_TS'],\n",
    "                                              df['ACTL_ACTV_END_TS']-pd.Timedelta(minutes=1),\n",
    "                                              closed='both')\n",
    "        # create a new index with the extended frequency:\n",
    "        new_idx = pd.date_range(df['ACTV_START_TS'].min(), df['ACTL_ACTV_END_TS'].max(), freq='min')\n",
    "        # set the new index to get the extended frequency;\n",
    "        # all minutes will have the value of the whole interval\n",
    "        result = df['minutes'].set_axis(iv_idx).reindex(new_idx)\n",
    "        # we can now calculate the duration per hour by resampling and summing the\n",
    "        # boolean representation of the duration (1/0):\n",
    "        result= result.fillna(0).astype(int).astype(bool).resample('H').sum()\n",
    "        result.index.name = 'start_hour'\n",
    "        return result\n",
    "    re = create_final_data(ts)\n",
    "    re = pd.DataFrame(re)\n",
    "    def create_features(df, label=None):\n",
    "        \"\"\"\n",
    "        Creates time series features from datetime index.\n",
    "        \"\"\"\n",
    "        df = df.copy()\n",
    "        df['date'] = df.index\n",
    "        df['hour'] = df['date'].dt.hour\n",
    "        df['dayofweek'] = df['date'].dt.dayofweek\n",
    "        df['quarter'] = df['date'].dt.quarter\n",
    "        df['month'] = df['date'].dt.month\n",
    "        df['year'] = df['date'].dt.year\n",
    "        df['dayofyear'] = df['date'].dt.dayofyear\n",
    "        df['dayofmonth'] = df['date'].dt.day\n",
    "        df['weekofyear'] = df['date'].dt.weekofyear\n",
    "\n",
    "        X = df[['hour','dayofweek','quarter','month','year',\n",
    "               'dayofyear','dayofmonth','weekofyear']]\n",
    "        if label:\n",
    "            y = df[label]\n",
    "            return X, y\n",
    "        return X\n",
    "\n",
    "    X, y = create_features(re, label='minutes')\n",
    "\n",
    "    ft = pd.concat([X, y], axis=1)\n",
    "    \n",
    "    hour_weekday = ft.pivot_table(values='minutes', index='hour', columns = 'dayofweek', aggfunc = 'mean')\n",
    "    \n",
    "    return hour_weekday"
   ]
  },
  {
   "cell_type": "code",
   "execution_count": 59,
   "id": "60f1226a",
   "metadata": {},
   "outputs": [
    {
     "data": {
      "text/html": [
       "<div>\n",
       "<style scoped>\n",
       "    .dataframe tbody tr th:only-of-type {\n",
       "        vertical-align: middle;\n",
       "    }\n",
       "\n",
       "    .dataframe tbody tr th {\n",
       "        vertical-align: top;\n",
       "    }\n",
       "\n",
       "    .dataframe thead th {\n",
       "        text-align: right;\n",
       "    }\n",
       "</style>\n",
       "<table border=\"1\" class=\"dataframe\">\n",
       "  <thead>\n",
       "    <tr style=\"text-align: right;\">\n",
       "      <th></th>\n",
       "      <th>DRVR_USER_ID</th>\n",
       "      <th>ACTV_START_TS</th>\n",
       "      <th>ACTL_ACTV_END_TS</th>\n",
       "      <th>ACTV_DUR_MIN_QTY</th>\n",
       "      <th>ACTV_DT</th>\n",
       "      <th>dayhour</th>\n",
       "    </tr>\n",
       "  </thead>\n",
       "  <tbody>\n",
       "    <tr>\n",
       "      <th>288</th>\n",
       "      <td>iphoneskyper@gmail.com</td>\n",
       "      <td>2022-04-12 08:56:13.324</td>\n",
       "      <td>2022-04-12 09:13:39.267</td>\n",
       "      <td>17.430000000</td>\n",
       "      <td>2022-04-12</td>\n",
       "      <td>2022-04-12 08:00:00</td>\n",
       "    </tr>\n",
       "    <tr>\n",
       "      <th>289</th>\n",
       "      <td>iphoneskyper@gmail.com</td>\n",
       "      <td>2022-04-12 09:13:39.267</td>\n",
       "      <td>2022-04-12 10:29:35.401</td>\n",
       "      <td>75.930000000</td>\n",
       "      <td>2022-04-12</td>\n",
       "      <td>2022-04-12 09:00:00</td>\n",
       "    </tr>\n",
       "    <tr>\n",
       "      <th>290</th>\n",
       "      <td>iphoneskyper@gmail.com</td>\n",
       "      <td>2022-04-12 10:29:35.401</td>\n",
       "      <td>2022-04-12 10:32:55.147</td>\n",
       "      <td>3.330000000</td>\n",
       "      <td>2022-04-12</td>\n",
       "      <td>2022-04-12 10:00:00</td>\n",
       "    </tr>\n",
       "    <tr>\n",
       "      <th>291</th>\n",
       "      <td>iphoneskyper@gmail.com</td>\n",
       "      <td>2022-04-12 10:35:50.129</td>\n",
       "      <td>2022-04-12 10:37:12.728</td>\n",
       "      <td>1.370000000</td>\n",
       "      <td>2022-04-12</td>\n",
       "      <td>2022-04-12 10:00:00</td>\n",
       "    </tr>\n",
       "    <tr>\n",
       "      <th>292</th>\n",
       "      <td>iphoneskyper@gmail.com</td>\n",
       "      <td>2022-04-12 10:37:12.728</td>\n",
       "      <td>2022-04-12 10:39:46.277</td>\n",
       "      <td>2.570000000</td>\n",
       "      <td>2022-04-12</td>\n",
       "      <td>2022-04-12 10:00:00</td>\n",
       "    </tr>\n",
       "    <tr>\n",
       "      <th>...</th>\n",
       "      <td>...</td>\n",
       "      <td>...</td>\n",
       "      <td>...</td>\n",
       "      <td>...</td>\n",
       "      <td>...</td>\n",
       "      <td>...</td>\n",
       "    </tr>\n",
       "    <tr>\n",
       "      <th>17061</th>\n",
       "      <td>iphoneskyper@gmail.com</td>\n",
       "      <td>2022-06-28 11:19:46.694</td>\n",
       "      <td>2022-06-28 11:27:58.070</td>\n",
       "      <td>8.200000000</td>\n",
       "      <td>2022-06-28</td>\n",
       "      <td>2022-06-28 11:00:00</td>\n",
       "    </tr>\n",
       "    <tr>\n",
       "      <th>17062</th>\n",
       "      <td>iphoneskyper@gmail.com</td>\n",
       "      <td>2022-06-28 11:27:58.070</td>\n",
       "      <td>2022-06-28 11:29:02.785</td>\n",
       "      <td>1.070000000</td>\n",
       "      <td>2022-06-28</td>\n",
       "      <td>2022-06-28 11:00:00</td>\n",
       "    </tr>\n",
       "    <tr>\n",
       "      <th>17063</th>\n",
       "      <td>iphoneskyper@gmail.com</td>\n",
       "      <td>2022-06-28 11:29:02.785</td>\n",
       "      <td>2022-06-28 11:29:57.837</td>\n",
       "      <td>0.920000000</td>\n",
       "      <td>2022-06-28</td>\n",
       "      <td>2022-06-28 11:00:00</td>\n",
       "    </tr>\n",
       "    <tr>\n",
       "      <th>17064</th>\n",
       "      <td>iphoneskyper@gmail.com</td>\n",
       "      <td>2022-06-28 12:19:50.251</td>\n",
       "      <td>2022-06-28 12:23:55.921</td>\n",
       "      <td>4.080000000</td>\n",
       "      <td>2022-06-28</td>\n",
       "      <td>2022-06-28 12:00:00</td>\n",
       "    </tr>\n",
       "    <tr>\n",
       "      <th>17065</th>\n",
       "      <td>iphoneskyper@gmail.com</td>\n",
       "      <td>2022-06-28 13:28:49.942</td>\n",
       "      <td>2022-06-28 13:46:34.256</td>\n",
       "      <td>17.750000000</td>\n",
       "      <td>2022-06-28</td>\n",
       "      <td>2022-06-28 13:00:00</td>\n",
       "    </tr>\n",
       "  </tbody>\n",
       "</table>\n",
       "<p>723 rows × 6 columns</p>\n",
       "</div>"
      ],
      "text/plain": [
       "                 DRVR_USER_ID           ACTV_START_TS        ACTL_ACTV_END_TS  \\\n",
       "288    iphoneskyper@gmail.com 2022-04-12 08:56:13.324 2022-04-12 09:13:39.267   \n",
       "289    iphoneskyper@gmail.com 2022-04-12 09:13:39.267 2022-04-12 10:29:35.401   \n",
       "290    iphoneskyper@gmail.com 2022-04-12 10:29:35.401 2022-04-12 10:32:55.147   \n",
       "291    iphoneskyper@gmail.com 2022-04-12 10:35:50.129 2022-04-12 10:37:12.728   \n",
       "292    iphoneskyper@gmail.com 2022-04-12 10:37:12.728 2022-04-12 10:39:46.277   \n",
       "...                       ...                     ...                     ...   \n",
       "17061  iphoneskyper@gmail.com 2022-06-28 11:19:46.694 2022-06-28 11:27:58.070   \n",
       "17062  iphoneskyper@gmail.com 2022-06-28 11:27:58.070 2022-06-28 11:29:02.785   \n",
       "17063  iphoneskyper@gmail.com 2022-06-28 11:29:02.785 2022-06-28 11:29:57.837   \n",
       "17064  iphoneskyper@gmail.com 2022-06-28 12:19:50.251 2022-06-28 12:23:55.921   \n",
       "17065  iphoneskyper@gmail.com 2022-06-28 13:28:49.942 2022-06-28 13:46:34.256   \n",
       "\n",
       "      ACTV_DUR_MIN_QTY     ACTV_DT             dayhour  \n",
       "288       17.430000000  2022-04-12 2022-04-12 08:00:00  \n",
       "289       75.930000000  2022-04-12 2022-04-12 09:00:00  \n",
       "290        3.330000000  2022-04-12 2022-04-12 10:00:00  \n",
       "291        1.370000000  2022-04-12 2022-04-12 10:00:00  \n",
       "292        2.570000000  2022-04-12 2022-04-12 10:00:00  \n",
       "...                ...         ...                 ...  \n",
       "17061      8.200000000  2022-06-28 2022-06-28 11:00:00  \n",
       "17062      1.070000000  2022-06-28 2022-06-28 11:00:00  \n",
       "17063      0.920000000  2022-06-28 2022-06-28 11:00:00  \n",
       "17064      4.080000000  2022-06-28 2022-06-28 12:00:00  \n",
       "17065     17.750000000  2022-06-28 2022-06-28 13:00:00  \n",
       "\n",
       "[723 rows x 6 columns]"
      ]
     },
     "execution_count": 59,
     "metadata": {},
     "output_type": "execute_result"
    }
   ],
   "source": [
    "# example of how each pivot table for a given driver looks like\n",
    "dfs['iphoneskyper@gmail.com']"
   ]
  },
  {
   "cell_type": "code",
   "execution_count": 17,
   "id": "bffd064e",
   "metadata": {},
   "outputs": [],
   "source": [
    "# creating a set of top 100 drivers and their pivot tables\n",
    "dfs_set = {}\n",
    "for i in dfs.keys():\n",
    "    dfs_set[i] = pd.DataFrame(final(dfs[i]))\n",
    "    dfs_set[i][\"ID\"] = i"
   ]
  },
  {
   "cell_type": "code",
   "execution_count": 18,
   "id": "0f6b2098",
   "metadata": {},
   "outputs": [],
   "source": [
    "dff = pd.concat([dfs_set[i] for i in dfs_set.keys()], ignore_index=False)"
   ]
  },
  {
   "cell_type": "code",
   "execution_count": 19,
   "id": "5dd3607b",
   "metadata": {},
   "outputs": [
    {
     "data": {
      "text/plain": [
       "(2400, 8)"
      ]
     },
     "execution_count": 19,
     "metadata": {},
     "output_type": "execute_result"
    }
   ],
   "source": [
    "dff.shape"
   ]
  },
  {
   "cell_type": "code",
   "execution_count": 20,
   "id": "163b6ebc",
   "metadata": {},
   "outputs": [
    {
     "data": {
      "text/plain": [
       "(24, 7)"
      ]
     },
     "execution_count": 20,
     "metadata": {},
     "output_type": "execute_result"
    }
   ],
   "source": [
    "dffn = dff.to_numpy()\n",
    "dffn = dffn.reshape(100,24,8)\n",
    "zv = np.argmax(dffn[:,:,:7],axis=0)\n",
    "zv.shape"
   ]
  },
  {
   "cell_type": "code",
   "execution_count": 58,
   "id": "92e89da6",
   "metadata": {
    "scrolled": false
   },
   "outputs": [
    {
     "data": {
      "application/vnd.plotly.v1+json": {
       "config": {
        "plotlyServerURL": "https://plot.ly"
       },
       "data": [
        {
         "hoverongaps": false,
         "type": "heatmap",
         "x": [
          1,
          2,
          3,
          4,
          5,
          6
         ],
         "y": [
          1,
          2,
          3,
          4,
          5,
          6,
          7,
          8,
          9,
          10,
          11,
          12,
          13,
          14,
          15,
          16,
          17,
          18,
          19,
          20,
          21,
          22,
          23
         ],
         "z": [
          [
           0,
           0,
           0,
           0,
           0,
           0,
           0
          ],
          [
           0,
           0,
           0,
           0,
           0,
           0,
           0
          ],
          [
           0,
           0,
           0,
           0,
           0,
           0,
           0
          ],
          [
           10,
           56,
           0,
           28,
           0,
           0,
           0
          ],
          [
           10,
           56,
           17,
           28,
           74,
           17,
           13
          ],
          [
           42,
           22,
           55,
           39,
           45,
           4,
           45
          ],
          [
           42,
           39,
           85,
           39,
           39,
           6,
           73
          ],
          [
           1,
           1,
           1,
           1,
           1,
           1,
           42
          ],
          [
           1,
           57,
           1,
           1,
           1,
           1,
           42
          ],
          [
           1,
           91,
           1,
           1,
           91,
           1,
           42
          ],
          [
           1,
           42,
           1,
           42,
           91,
           1,
           42
          ],
          [
           91,
           48,
           1,
           24,
           48,
           83,
           53
          ],
          [
           48,
           19,
           48,
           24,
           24,
           53,
           48
          ],
          [
           48,
           18,
           48,
           48,
           24,
           83,
           48
          ],
          [
           91,
           18,
           18,
           48,
           24,
           83,
           53
          ],
          [
           18,
           18,
           48,
           48,
           24,
           53,
           42
          ],
          [
           18,
           48,
           19,
           18,
           48,
           42,
           42
          ],
          [
           48,
           48,
           19,
           18,
           48,
           42,
           48
          ],
          [
           48,
           18,
           48,
           18,
           21,
           42,
           48
          ],
          [
           48,
           18,
           48,
           48,
           18,
           83,
           31
          ],
          [
           48,
           48,
           18,
           18,
           18,
           48,
           31
          ],
          [
           18,
           48,
           18,
           48,
           48,
           48,
           18
          ],
          [
           0,
           0,
           0,
           0,
           0,
           0,
           0
          ],
          [
           0,
           0,
           0,
           0,
           0,
           0,
           0
          ]
         ]
        }
       ],
       "layout": {
        "height": 500,
        "template": {
         "data": {
          "bar": [
           {
            "error_x": {
             "color": "#2a3f5f"
            },
            "error_y": {
             "color": "#2a3f5f"
            },
            "marker": {
             "line": {
              "color": "#E5ECF6",
              "width": 0.5
             },
             "pattern": {
              "fillmode": "overlay",
              "size": 10,
              "solidity": 0.2
             }
            },
            "type": "bar"
           }
          ],
          "barpolar": [
           {
            "marker": {
             "line": {
              "color": "#E5ECF6",
              "width": 0.5
             },
             "pattern": {
              "fillmode": "overlay",
              "size": 10,
              "solidity": 0.2
             }
            },
            "type": "barpolar"
           }
          ],
          "carpet": [
           {
            "aaxis": {
             "endlinecolor": "#2a3f5f",
             "gridcolor": "white",
             "linecolor": "white",
             "minorgridcolor": "white",
             "startlinecolor": "#2a3f5f"
            },
            "baxis": {
             "endlinecolor": "#2a3f5f",
             "gridcolor": "white",
             "linecolor": "white",
             "minorgridcolor": "white",
             "startlinecolor": "#2a3f5f"
            },
            "type": "carpet"
           }
          ],
          "choropleth": [
           {
            "colorbar": {
             "outlinewidth": 0,
             "ticks": ""
            },
            "type": "choropleth"
           }
          ],
          "contour": [
           {
            "colorbar": {
             "outlinewidth": 0,
             "ticks": ""
            },
            "colorscale": [
             [
              0,
              "#0d0887"
             ],
             [
              0.1111111111111111,
              "#46039f"
             ],
             [
              0.2222222222222222,
              "#7201a8"
             ],
             [
              0.3333333333333333,
              "#9c179e"
             ],
             [
              0.4444444444444444,
              "#bd3786"
             ],
             [
              0.5555555555555556,
              "#d8576b"
             ],
             [
              0.6666666666666666,
              "#ed7953"
             ],
             [
              0.7777777777777778,
              "#fb9f3a"
             ],
             [
              0.8888888888888888,
              "#fdca26"
             ],
             [
              1,
              "#f0f921"
             ]
            ],
            "type": "contour"
           }
          ],
          "contourcarpet": [
           {
            "colorbar": {
             "outlinewidth": 0,
             "ticks": ""
            },
            "type": "contourcarpet"
           }
          ],
          "heatmap": [
           {
            "colorbar": {
             "outlinewidth": 0,
             "ticks": ""
            },
            "colorscale": [
             [
              0,
              "#0d0887"
             ],
             [
              0.1111111111111111,
              "#46039f"
             ],
             [
              0.2222222222222222,
              "#7201a8"
             ],
             [
              0.3333333333333333,
              "#9c179e"
             ],
             [
              0.4444444444444444,
              "#bd3786"
             ],
             [
              0.5555555555555556,
              "#d8576b"
             ],
             [
              0.6666666666666666,
              "#ed7953"
             ],
             [
              0.7777777777777778,
              "#fb9f3a"
             ],
             [
              0.8888888888888888,
              "#fdca26"
             ],
             [
              1,
              "#f0f921"
             ]
            ],
            "type": "heatmap"
           }
          ],
          "heatmapgl": [
           {
            "colorbar": {
             "outlinewidth": 0,
             "ticks": ""
            },
            "colorscale": [
             [
              0,
              "#0d0887"
             ],
             [
              0.1111111111111111,
              "#46039f"
             ],
             [
              0.2222222222222222,
              "#7201a8"
             ],
             [
              0.3333333333333333,
              "#9c179e"
             ],
             [
              0.4444444444444444,
              "#bd3786"
             ],
             [
              0.5555555555555556,
              "#d8576b"
             ],
             [
              0.6666666666666666,
              "#ed7953"
             ],
             [
              0.7777777777777778,
              "#fb9f3a"
             ],
             [
              0.8888888888888888,
              "#fdca26"
             ],
             [
              1,
              "#f0f921"
             ]
            ],
            "type": "heatmapgl"
           }
          ],
          "histogram": [
           {
            "marker": {
             "pattern": {
              "fillmode": "overlay",
              "size": 10,
              "solidity": 0.2
             }
            },
            "type": "histogram"
           }
          ],
          "histogram2d": [
           {
            "colorbar": {
             "outlinewidth": 0,
             "ticks": ""
            },
            "colorscale": [
             [
              0,
              "#0d0887"
             ],
             [
              0.1111111111111111,
              "#46039f"
             ],
             [
              0.2222222222222222,
              "#7201a8"
             ],
             [
              0.3333333333333333,
              "#9c179e"
             ],
             [
              0.4444444444444444,
              "#bd3786"
             ],
             [
              0.5555555555555556,
              "#d8576b"
             ],
             [
              0.6666666666666666,
              "#ed7953"
             ],
             [
              0.7777777777777778,
              "#fb9f3a"
             ],
             [
              0.8888888888888888,
              "#fdca26"
             ],
             [
              1,
              "#f0f921"
             ]
            ],
            "type": "histogram2d"
           }
          ],
          "histogram2dcontour": [
           {
            "colorbar": {
             "outlinewidth": 0,
             "ticks": ""
            },
            "colorscale": [
             [
              0,
              "#0d0887"
             ],
             [
              0.1111111111111111,
              "#46039f"
             ],
             [
              0.2222222222222222,
              "#7201a8"
             ],
             [
              0.3333333333333333,
              "#9c179e"
             ],
             [
              0.4444444444444444,
              "#bd3786"
             ],
             [
              0.5555555555555556,
              "#d8576b"
             ],
             [
              0.6666666666666666,
              "#ed7953"
             ],
             [
              0.7777777777777778,
              "#fb9f3a"
             ],
             [
              0.8888888888888888,
              "#fdca26"
             ],
             [
              1,
              "#f0f921"
             ]
            ],
            "type": "histogram2dcontour"
           }
          ],
          "mesh3d": [
           {
            "colorbar": {
             "outlinewidth": 0,
             "ticks": ""
            },
            "type": "mesh3d"
           }
          ],
          "parcoords": [
           {
            "line": {
             "colorbar": {
              "outlinewidth": 0,
              "ticks": ""
             }
            },
            "type": "parcoords"
           }
          ],
          "pie": [
           {
            "automargin": true,
            "type": "pie"
           }
          ],
          "scatter": [
           {
            "fillpattern": {
             "fillmode": "overlay",
             "size": 10,
             "solidity": 0.2
            },
            "type": "scatter"
           }
          ],
          "scatter3d": [
           {
            "line": {
             "colorbar": {
              "outlinewidth": 0,
              "ticks": ""
             }
            },
            "marker": {
             "colorbar": {
              "outlinewidth": 0,
              "ticks": ""
             }
            },
            "type": "scatter3d"
           }
          ],
          "scattercarpet": [
           {
            "marker": {
             "colorbar": {
              "outlinewidth": 0,
              "ticks": ""
             }
            },
            "type": "scattercarpet"
           }
          ],
          "scattergeo": [
           {
            "marker": {
             "colorbar": {
              "outlinewidth": 0,
              "ticks": ""
             }
            },
            "type": "scattergeo"
           }
          ],
          "scattergl": [
           {
            "marker": {
             "colorbar": {
              "outlinewidth": 0,
              "ticks": ""
             }
            },
            "type": "scattergl"
           }
          ],
          "scattermapbox": [
           {
            "marker": {
             "colorbar": {
              "outlinewidth": 0,
              "ticks": ""
             }
            },
            "type": "scattermapbox"
           }
          ],
          "scatterpolar": [
           {
            "marker": {
             "colorbar": {
              "outlinewidth": 0,
              "ticks": ""
             }
            },
            "type": "scatterpolar"
           }
          ],
          "scatterpolargl": [
           {
            "marker": {
             "colorbar": {
              "outlinewidth": 0,
              "ticks": ""
             }
            },
            "type": "scatterpolargl"
           }
          ],
          "scatterternary": [
           {
            "marker": {
             "colorbar": {
              "outlinewidth": 0,
              "ticks": ""
             }
            },
            "type": "scatterternary"
           }
          ],
          "surface": [
           {
            "colorbar": {
             "outlinewidth": 0,
             "ticks": ""
            },
            "colorscale": [
             [
              0,
              "#0d0887"
             ],
             [
              0.1111111111111111,
              "#46039f"
             ],
             [
              0.2222222222222222,
              "#7201a8"
             ],
             [
              0.3333333333333333,
              "#9c179e"
             ],
             [
              0.4444444444444444,
              "#bd3786"
             ],
             [
              0.5555555555555556,
              "#d8576b"
             ],
             [
              0.6666666666666666,
              "#ed7953"
             ],
             [
              0.7777777777777778,
              "#fb9f3a"
             ],
             [
              0.8888888888888888,
              "#fdca26"
             ],
             [
              1,
              "#f0f921"
             ]
            ],
            "type": "surface"
           }
          ],
          "table": [
           {
            "cells": {
             "fill": {
              "color": "#EBF0F8"
             },
             "line": {
              "color": "white"
             }
            },
            "header": {
             "fill": {
              "color": "#C8D4E3"
             },
             "line": {
              "color": "white"
             }
            },
            "type": "table"
           }
          ]
         },
         "layout": {
          "annotationdefaults": {
           "arrowcolor": "#2a3f5f",
           "arrowhead": 0,
           "arrowwidth": 1
          },
          "autotypenumbers": "strict",
          "coloraxis": {
           "colorbar": {
            "outlinewidth": 0,
            "ticks": ""
           }
          },
          "colorscale": {
           "diverging": [
            [
             0,
             "#8e0152"
            ],
            [
             0.1,
             "#c51b7d"
            ],
            [
             0.2,
             "#de77ae"
            ],
            [
             0.3,
             "#f1b6da"
            ],
            [
             0.4,
             "#fde0ef"
            ],
            [
             0.5,
             "#f7f7f7"
            ],
            [
             0.6,
             "#e6f5d0"
            ],
            [
             0.7,
             "#b8e186"
            ],
            [
             0.8,
             "#7fbc41"
            ],
            [
             0.9,
             "#4d9221"
            ],
            [
             1,
             "#276419"
            ]
           ],
           "sequential": [
            [
             0,
             "#0d0887"
            ],
            [
             0.1111111111111111,
             "#46039f"
            ],
            [
             0.2222222222222222,
             "#7201a8"
            ],
            [
             0.3333333333333333,
             "#9c179e"
            ],
            [
             0.4444444444444444,
             "#bd3786"
            ],
            [
             0.5555555555555556,
             "#d8576b"
            ],
            [
             0.6666666666666666,
             "#ed7953"
            ],
            [
             0.7777777777777778,
             "#fb9f3a"
            ],
            [
             0.8888888888888888,
             "#fdca26"
            ],
            [
             1,
             "#f0f921"
            ]
           ],
           "sequentialminus": [
            [
             0,
             "#0d0887"
            ],
            [
             0.1111111111111111,
             "#46039f"
            ],
            [
             0.2222222222222222,
             "#7201a8"
            ],
            [
             0.3333333333333333,
             "#9c179e"
            ],
            [
             0.4444444444444444,
             "#bd3786"
            ],
            [
             0.5555555555555556,
             "#d8576b"
            ],
            [
             0.6666666666666666,
             "#ed7953"
            ],
            [
             0.7777777777777778,
             "#fb9f3a"
            ],
            [
             0.8888888888888888,
             "#fdca26"
            ],
            [
             1,
             "#f0f921"
            ]
           ]
          },
          "colorway": [
           "#636efa",
           "#EF553B",
           "#00cc96",
           "#ab63fa",
           "#FFA15A",
           "#19d3f3",
           "#FF6692",
           "#B6E880",
           "#FF97FF",
           "#FECB52"
          ],
          "font": {
           "color": "#2a3f5f"
          },
          "geo": {
           "bgcolor": "white",
           "lakecolor": "white",
           "landcolor": "#E5ECF6",
           "showlakes": true,
           "showland": true,
           "subunitcolor": "white"
          },
          "hoverlabel": {
           "align": "left"
          },
          "hovermode": "closest",
          "mapbox": {
           "style": "light"
          },
          "paper_bgcolor": "white",
          "plot_bgcolor": "#E5ECF6",
          "polar": {
           "angularaxis": {
            "gridcolor": "white",
            "linecolor": "white",
            "ticks": ""
           },
           "bgcolor": "#E5ECF6",
           "radialaxis": {
            "gridcolor": "white",
            "linecolor": "white",
            "ticks": ""
           }
          },
          "scene": {
           "xaxis": {
            "backgroundcolor": "#E5ECF6",
            "gridcolor": "white",
            "gridwidth": 2,
            "linecolor": "white",
            "showbackground": true,
            "ticks": "",
            "zerolinecolor": "white"
           },
           "yaxis": {
            "backgroundcolor": "#E5ECF6",
            "gridcolor": "white",
            "gridwidth": 2,
            "linecolor": "white",
            "showbackground": true,
            "ticks": "",
            "zerolinecolor": "white"
           },
           "zaxis": {
            "backgroundcolor": "#E5ECF6",
            "gridcolor": "white",
            "gridwidth": 2,
            "linecolor": "white",
            "showbackground": true,
            "ticks": "",
            "zerolinecolor": "white"
           }
          },
          "shapedefaults": {
           "line": {
            "color": "#2a3f5f"
           }
          },
          "ternary": {
           "aaxis": {
            "gridcolor": "white",
            "linecolor": "white",
            "ticks": ""
           },
           "baxis": {
            "gridcolor": "white",
            "linecolor": "white",
            "ticks": ""
           },
           "bgcolor": "#E5ECF6",
           "caxis": {
            "gridcolor": "white",
            "linecolor": "white",
            "ticks": ""
           }
          },
          "title": {
           "x": 0.05
          },
          "xaxis": {
           "automargin": true,
           "gridcolor": "white",
           "linecolor": "white",
           "ticks": "",
           "title": {
            "standoff": 15
           },
           "zerolinecolor": "white",
           "zerolinewidth": 2
          },
          "yaxis": {
           "automargin": true,
           "gridcolor": "white",
           "linecolor": "white",
           "ticks": "",
           "title": {
            "standoff": 15
           },
           "zerolinecolor": "white",
           "zerolinewidth": 2
          }
         }
        },
        "title": {
         "text": "Most Active Driver for slot-hour"
        },
        "width": 700,
        "xaxis": {
         "title": {
          "text": "Day of week"
         }
        },
        "yaxis": {
         "nticks": 24,
         "title": {
          "text": "Hour of the day"
         }
        }
       }
      },
      "text/html": [
       "<div>                            <div id=\"6067ec79-5c06-4786-97ce-c1114d91947f\" class=\"plotly-graph-div\" style=\"height:500px; width:700px;\"></div>            <script type=\"text/javascript\">                require([\"plotly\"], function(Plotly) {                    window.PLOTLYENV=window.PLOTLYENV || {};                                    if (document.getElementById(\"6067ec79-5c06-4786-97ce-c1114d91947f\")) {                    Plotly.newPlot(                        \"6067ec79-5c06-4786-97ce-c1114d91947f\",                        [{\"hoverongaps\":false,\"x\":[1,2,3,4,5,6],\"y\":[1,2,3,4,5,6,7,8,9,10,11,12,13,14,15,16,17,18,19,20,21,22,23],\"z\":[[0,0,0,0,0,0,0],[0,0,0,0,0,0,0],[0,0,0,0,0,0,0],[10,56,0,28,0,0,0],[10,56,17,28,74,17,13],[42,22,55,39,45,4,45],[42,39,85,39,39,6,73],[1,1,1,1,1,1,42],[1,57,1,1,1,1,42],[1,91,1,1,91,1,42],[1,42,1,42,91,1,42],[91,48,1,24,48,83,53],[48,19,48,24,24,53,48],[48,18,48,48,24,83,48],[91,18,18,48,24,83,53],[18,18,48,48,24,53,42],[18,48,19,18,48,42,42],[48,48,19,18,48,42,48],[48,18,48,18,21,42,48],[48,18,48,48,18,83,31],[48,48,18,18,18,48,31],[18,48,18,48,48,48,18],[0,0,0,0,0,0,0],[0,0,0,0,0,0,0]],\"type\":\"heatmap\"}],                        {\"template\":{\"data\":{\"histogram2dcontour\":[{\"type\":\"histogram2dcontour\",\"colorbar\":{\"outlinewidth\":0,\"ticks\":\"\"},\"colorscale\":[[0.0,\"#0d0887\"],[0.1111111111111111,\"#46039f\"],[0.2222222222222222,\"#7201a8\"],[0.3333333333333333,\"#9c179e\"],[0.4444444444444444,\"#bd3786\"],[0.5555555555555556,\"#d8576b\"],[0.6666666666666666,\"#ed7953\"],[0.7777777777777778,\"#fb9f3a\"],[0.8888888888888888,\"#fdca26\"],[1.0,\"#f0f921\"]]}],\"choropleth\":[{\"type\":\"choropleth\",\"colorbar\":{\"outlinewidth\":0,\"ticks\":\"\"}}],\"histogram2d\":[{\"type\":\"histogram2d\",\"colorbar\":{\"outlinewidth\":0,\"ticks\":\"\"},\"colorscale\":[[0.0,\"#0d0887\"],[0.1111111111111111,\"#46039f\"],[0.2222222222222222,\"#7201a8\"],[0.3333333333333333,\"#9c179e\"],[0.4444444444444444,\"#bd3786\"],[0.5555555555555556,\"#d8576b\"],[0.6666666666666666,\"#ed7953\"],[0.7777777777777778,\"#fb9f3a\"],[0.8888888888888888,\"#fdca26\"],[1.0,\"#f0f921\"]]}],\"heatmap\":[{\"type\":\"heatmap\",\"colorbar\":{\"outlinewidth\":0,\"ticks\":\"\"},\"colorscale\":[[0.0,\"#0d0887\"],[0.1111111111111111,\"#46039f\"],[0.2222222222222222,\"#7201a8\"],[0.3333333333333333,\"#9c179e\"],[0.4444444444444444,\"#bd3786\"],[0.5555555555555556,\"#d8576b\"],[0.6666666666666666,\"#ed7953\"],[0.7777777777777778,\"#fb9f3a\"],[0.8888888888888888,\"#fdca26\"],[1.0,\"#f0f921\"]]}],\"heatmapgl\":[{\"type\":\"heatmapgl\",\"colorbar\":{\"outlinewidth\":0,\"ticks\":\"\"},\"colorscale\":[[0.0,\"#0d0887\"],[0.1111111111111111,\"#46039f\"],[0.2222222222222222,\"#7201a8\"],[0.3333333333333333,\"#9c179e\"],[0.4444444444444444,\"#bd3786\"],[0.5555555555555556,\"#d8576b\"],[0.6666666666666666,\"#ed7953\"],[0.7777777777777778,\"#fb9f3a\"],[0.8888888888888888,\"#fdca26\"],[1.0,\"#f0f921\"]]}],\"contourcarpet\":[{\"type\":\"contourcarpet\",\"colorbar\":{\"outlinewidth\":0,\"ticks\":\"\"}}],\"contour\":[{\"type\":\"contour\",\"colorbar\":{\"outlinewidth\":0,\"ticks\":\"\"},\"colorscale\":[[0.0,\"#0d0887\"],[0.1111111111111111,\"#46039f\"],[0.2222222222222222,\"#7201a8\"],[0.3333333333333333,\"#9c179e\"],[0.4444444444444444,\"#bd3786\"],[0.5555555555555556,\"#d8576b\"],[0.6666666666666666,\"#ed7953\"],[0.7777777777777778,\"#fb9f3a\"],[0.8888888888888888,\"#fdca26\"],[1.0,\"#f0f921\"]]}],\"surface\":[{\"type\":\"surface\",\"colorbar\":{\"outlinewidth\":0,\"ticks\":\"\"},\"colorscale\":[[0.0,\"#0d0887\"],[0.1111111111111111,\"#46039f\"],[0.2222222222222222,\"#7201a8\"],[0.3333333333333333,\"#9c179e\"],[0.4444444444444444,\"#bd3786\"],[0.5555555555555556,\"#d8576b\"],[0.6666666666666666,\"#ed7953\"],[0.7777777777777778,\"#fb9f3a\"],[0.8888888888888888,\"#fdca26\"],[1.0,\"#f0f921\"]]}],\"mesh3d\":[{\"type\":\"mesh3d\",\"colorbar\":{\"outlinewidth\":0,\"ticks\":\"\"}}],\"scatter\":[{\"fillpattern\":{\"fillmode\":\"overlay\",\"size\":10,\"solidity\":0.2},\"type\":\"scatter\"}],\"parcoords\":[{\"type\":\"parcoords\",\"line\":{\"colorbar\":{\"outlinewidth\":0,\"ticks\":\"\"}}}],\"scatterpolargl\":[{\"type\":\"scatterpolargl\",\"marker\":{\"colorbar\":{\"outlinewidth\":0,\"ticks\":\"\"}}}],\"bar\":[{\"error_x\":{\"color\":\"#2a3f5f\"},\"error_y\":{\"color\":\"#2a3f5f\"},\"marker\":{\"line\":{\"color\":\"#E5ECF6\",\"width\":0.5},\"pattern\":{\"fillmode\":\"overlay\",\"size\":10,\"solidity\":0.2}},\"type\":\"bar\"}],\"scattergeo\":[{\"type\":\"scattergeo\",\"marker\":{\"colorbar\":{\"outlinewidth\":0,\"ticks\":\"\"}}}],\"scatterpolar\":[{\"type\":\"scatterpolar\",\"marker\":{\"colorbar\":{\"outlinewidth\":0,\"ticks\":\"\"}}}],\"histogram\":[{\"marker\":{\"pattern\":{\"fillmode\":\"overlay\",\"size\":10,\"solidity\":0.2}},\"type\":\"histogram\"}],\"scattergl\":[{\"type\":\"scattergl\",\"marker\":{\"colorbar\":{\"outlinewidth\":0,\"ticks\":\"\"}}}],\"scatter3d\":[{\"type\":\"scatter3d\",\"line\":{\"colorbar\":{\"outlinewidth\":0,\"ticks\":\"\"}},\"marker\":{\"colorbar\":{\"outlinewidth\":0,\"ticks\":\"\"}}}],\"scattermapbox\":[{\"type\":\"scattermapbox\",\"marker\":{\"colorbar\":{\"outlinewidth\":0,\"ticks\":\"\"}}}],\"scatterternary\":[{\"type\":\"scatterternary\",\"marker\":{\"colorbar\":{\"outlinewidth\":0,\"ticks\":\"\"}}}],\"scattercarpet\":[{\"type\":\"scattercarpet\",\"marker\":{\"colorbar\":{\"outlinewidth\":0,\"ticks\":\"\"}}}],\"carpet\":[{\"aaxis\":{\"endlinecolor\":\"#2a3f5f\",\"gridcolor\":\"white\",\"linecolor\":\"white\",\"minorgridcolor\":\"white\",\"startlinecolor\":\"#2a3f5f\"},\"baxis\":{\"endlinecolor\":\"#2a3f5f\",\"gridcolor\":\"white\",\"linecolor\":\"white\",\"minorgridcolor\":\"white\",\"startlinecolor\":\"#2a3f5f\"},\"type\":\"carpet\"}],\"table\":[{\"cells\":{\"fill\":{\"color\":\"#EBF0F8\"},\"line\":{\"color\":\"white\"}},\"header\":{\"fill\":{\"color\":\"#C8D4E3\"},\"line\":{\"color\":\"white\"}},\"type\":\"table\"}],\"barpolar\":[{\"marker\":{\"line\":{\"color\":\"#E5ECF6\",\"width\":0.5},\"pattern\":{\"fillmode\":\"overlay\",\"size\":10,\"solidity\":0.2}},\"type\":\"barpolar\"}],\"pie\":[{\"automargin\":true,\"type\":\"pie\"}]},\"layout\":{\"autotypenumbers\":\"strict\",\"colorway\":[\"#636efa\",\"#EF553B\",\"#00cc96\",\"#ab63fa\",\"#FFA15A\",\"#19d3f3\",\"#FF6692\",\"#B6E880\",\"#FF97FF\",\"#FECB52\"],\"font\":{\"color\":\"#2a3f5f\"},\"hovermode\":\"closest\",\"hoverlabel\":{\"align\":\"left\"},\"paper_bgcolor\":\"white\",\"plot_bgcolor\":\"#E5ECF6\",\"polar\":{\"bgcolor\":\"#E5ECF6\",\"angularaxis\":{\"gridcolor\":\"white\",\"linecolor\":\"white\",\"ticks\":\"\"},\"radialaxis\":{\"gridcolor\":\"white\",\"linecolor\":\"white\",\"ticks\":\"\"}},\"ternary\":{\"bgcolor\":\"#E5ECF6\",\"aaxis\":{\"gridcolor\":\"white\",\"linecolor\":\"white\",\"ticks\":\"\"},\"baxis\":{\"gridcolor\":\"white\",\"linecolor\":\"white\",\"ticks\":\"\"},\"caxis\":{\"gridcolor\":\"white\",\"linecolor\":\"white\",\"ticks\":\"\"}},\"coloraxis\":{\"colorbar\":{\"outlinewidth\":0,\"ticks\":\"\"}},\"colorscale\":{\"sequential\":[[0.0,\"#0d0887\"],[0.1111111111111111,\"#46039f\"],[0.2222222222222222,\"#7201a8\"],[0.3333333333333333,\"#9c179e\"],[0.4444444444444444,\"#bd3786\"],[0.5555555555555556,\"#d8576b\"],[0.6666666666666666,\"#ed7953\"],[0.7777777777777778,\"#fb9f3a\"],[0.8888888888888888,\"#fdca26\"],[1.0,\"#f0f921\"]],\"sequentialminus\":[[0.0,\"#0d0887\"],[0.1111111111111111,\"#46039f\"],[0.2222222222222222,\"#7201a8\"],[0.3333333333333333,\"#9c179e\"],[0.4444444444444444,\"#bd3786\"],[0.5555555555555556,\"#d8576b\"],[0.6666666666666666,\"#ed7953\"],[0.7777777777777778,\"#fb9f3a\"],[0.8888888888888888,\"#fdca26\"],[1.0,\"#f0f921\"]],\"diverging\":[[0,\"#8e0152\"],[0.1,\"#c51b7d\"],[0.2,\"#de77ae\"],[0.3,\"#f1b6da\"],[0.4,\"#fde0ef\"],[0.5,\"#f7f7f7\"],[0.6,\"#e6f5d0\"],[0.7,\"#b8e186\"],[0.8,\"#7fbc41\"],[0.9,\"#4d9221\"],[1,\"#276419\"]]},\"xaxis\":{\"gridcolor\":\"white\",\"linecolor\":\"white\",\"ticks\":\"\",\"title\":{\"standoff\":15},\"zerolinecolor\":\"white\",\"automargin\":true,\"zerolinewidth\":2},\"yaxis\":{\"gridcolor\":\"white\",\"linecolor\":\"white\",\"ticks\":\"\",\"title\":{\"standoff\":15},\"zerolinecolor\":\"white\",\"automargin\":true,\"zerolinewidth\":2},\"scene\":{\"xaxis\":{\"backgroundcolor\":\"#E5ECF6\",\"gridcolor\":\"white\",\"linecolor\":\"white\",\"showbackground\":true,\"ticks\":\"\",\"zerolinecolor\":\"white\",\"gridwidth\":2},\"yaxis\":{\"backgroundcolor\":\"#E5ECF6\",\"gridcolor\":\"white\",\"linecolor\":\"white\",\"showbackground\":true,\"ticks\":\"\",\"zerolinecolor\":\"white\",\"gridwidth\":2},\"zaxis\":{\"backgroundcolor\":\"#E5ECF6\",\"gridcolor\":\"white\",\"linecolor\":\"white\",\"showbackground\":true,\"ticks\":\"\",\"zerolinecolor\":\"white\",\"gridwidth\":2}},\"shapedefaults\":{\"line\":{\"color\":\"#2a3f5f\"}},\"annotationdefaults\":{\"arrowcolor\":\"#2a3f5f\",\"arrowhead\":0,\"arrowwidth\":1},\"geo\":{\"bgcolor\":\"white\",\"landcolor\":\"#E5ECF6\",\"subunitcolor\":\"white\",\"showland\":true,\"showlakes\":true,\"lakecolor\":\"white\"},\"title\":{\"x\":0.05},\"mapbox\":{\"style\":\"light\"}}},\"yaxis\":{\"title\":{\"text\":\"Hour of the day\"},\"nticks\":24},\"title\":{\"text\":\"Most Active Driver for slot-hour\"},\"xaxis\":{\"title\":{\"text\":\"Day of week\"}},\"height\":500,\"width\":700},                        {\"responsive\": true}                    ).then(function(){\n",
       "                            \n",
       "var gd = document.getElementById('6067ec79-5c06-4786-97ce-c1114d91947f');\n",
       "var x = new MutationObserver(function (mutations, observer) {{\n",
       "        var display = window.getComputedStyle(gd).display;\n",
       "        if (!display || display === 'none') {{\n",
       "            console.log([gd, 'removed!']);\n",
       "            Plotly.purge(gd);\n",
       "            observer.disconnect();\n",
       "        }}\n",
       "}});\n",
       "\n",
       "// Listen for the removal of the full notebook cells\n",
       "var notebookContainer = gd.closest('#notebook-container');\n",
       "if (notebookContainer) {{\n",
       "    x.observe(notebookContainer, {childList: true});\n",
       "}}\n",
       "\n",
       "// Listen for the clearing of the current output cell\n",
       "var outputEl = gd.closest('.output');\n",
       "if (outputEl) {{\n",
       "    x.observe(outputEl, {childList: true});\n",
       "}}\n",
       "\n",
       "                        })                };                });            </script>        </div>"
      ]
     },
     "metadata": {},
     "output_type": "display_data"
    }
   ],
   "source": [
    "import plotly.graph_objects as go\n",
    "fig = go.Figure(data=go.Heatmap(\n",
    "                   z=zv,\n",
    "                   x=list(range(1,7)),\n",
    "                   y=list(range(1,24)),\n",
    "                   hoverongaps = False))\n",
    "fig.update_layout(title=\"Most Active Driver for slot-hour\",\n",
    "                  yaxis={\"title\": 'Hour of the day'},\n",
    "                  xaxis={\"title\": 'Day of week'},\n",
    "                  yaxis_nticks=24,\n",
    "                 height = 500,\n",
    "                 width = 700)\n",
    "\n",
    "fig.show()"
   ]
  },
  {
   "cell_type": "markdown",
   "id": "b83e2899",
   "metadata": {},
   "source": [
    "driver should be given the order first"
   ]
  },
  {
   "cell_type": "markdown",
   "id": "e2930672",
   "metadata": {},
   "source": [
    "## Individual driver analysis\n",
    "\n",
    "Let us study the activity of any individual driver to set up our forecasting model. It is important to check the weekly trend and study the impact of exogenous variables"
   ]
  },
  {
   "cell_type": "code",
   "execution_count": 60,
   "id": "7e4df64a",
   "metadata": {},
   "outputs": [],
   "source": [
    "def final_ft(df):\n",
    "    df['dayhour'] = df[\"ACTV_START_TS\"].apply(lambda x: x.replace(minute=0, second=0, microsecond=0))\n",
    "    time_line = pd.date_range(df[\"dayhour\"].min(),df[\"dayhour\"].max(),freq='H')\n",
    "    time_line = time_line.to_series()\n",
    "    ts = pd.DataFrame(time_line,columns = [\"dayhour\"])\n",
    "    ts = ts.set_index(\"dayhour\")\n",
    "    ts = pd.merge(ts,df,how=\"left\",on=[\"dayhour\"])\n",
    "    ts[\"ACTV_DUR_MIN_QTY\"] = ts[\"ACTV_DUR_MIN_QTY\"].fillna(0)\n",
    "    ts = ts.drop([\"DRVR_USER_ID\",\"ACTV_DT\"],axis=1)\n",
    "    ts = ts.set_index([\"dayhour\"],drop=True)\n",
    "    ts = ts.drop_duplicates()\n",
    "    ts = ts.dropna()\n",
    "    ts = ts.reset_index(drop=False)\n",
    "    ts['ACTV_START_TS'] = ts[\"ACTV_START_TS\"].apply(lambda x: x.replace(second=0, microsecond=0))\n",
    "    ts['ACTL_ACTV_END_TS'] = ts[\"ACTL_ACTV_END_TS\"].apply(lambda x: x.replace(second=0, microsecond=0))\n",
    "    def create_final_data(df):\n",
    "        df['minutes'] = (df['ACTL_ACTV_END_TS'] - df['ACTV_START_TS']).dt.total_seconds()/60\n",
    "        df = df[df['minutes']>0].reset_index(drop=True)\n",
    "        # create an IntervalIndex which we can set as the axis (needed for re-indexing).\n",
    "        # subtract one minute from end_time so that the minute of the termination is excluded.\n",
    "        iv_idx = pd.IntervalIndex.from_arrays(df['ACTV_START_TS'],\n",
    "                                              df['ACTL_ACTV_END_TS']-pd.Timedelta(minutes=1),\n",
    "                                              closed='both')\n",
    "        # create a new index with the extended frequency:\n",
    "        new_idx = pd.date_range(df['ACTV_START_TS'].min(), df['ACTL_ACTV_END_TS'].max(), freq='min')\n",
    "        # set the new index to get the extended frequency;\n",
    "        # all minutes will have the value of the whole interval\n",
    "        result = df['minutes'].set_axis(iv_idx).reindex(new_idx)\n",
    "        # we can now calculate the duration per hour by resampling and summing the\n",
    "        # boolean representation of the duration (1/0):\n",
    "        result= result.fillna(0).astype(int).astype(bool).resample('H').sum()\n",
    "        result.index.name = 'start_hour'\n",
    "        return result\n",
    "    re = create_final_data(ts)\n",
    "    re = pd.DataFrame(re)\n",
    "    def create_features(df, label=None):\n",
    "        \"\"\"\n",
    "        Creates time series features from datetime index.\n",
    "        \"\"\"\n",
    "        df = df.copy()\n",
    "        df['date'] = df.index\n",
    "        df['hour'] = df['date'].dt.hour\n",
    "        df['dayofweek'] = df['date'].dt.dayofweek\n",
    "        df['quarter'] = df['date'].dt.quarter\n",
    "        df['month'] = df['date'].dt.month\n",
    "        df['year'] = df['date'].dt.year\n",
    "        df['dayofyear'] = df['date'].dt.dayofyear\n",
    "        df['dayofmonth'] = df['date'].dt.day\n",
    "        df['weekofyear'] = df['date'].dt.isocalendar().week\n",
    "\n",
    "        X = df[['hour','dayofweek','quarter','month','year',\n",
    "               'dayofyear','dayofmonth','weekofyear']]\n",
    "        if label:\n",
    "            y = df[label]\n",
    "            return X, y\n",
    "        return X\n",
    "\n",
    "    X, y = create_features(re, label='minutes')\n",
    "\n",
    "    ft = pd.concat([X, y], axis=1)\n",
    "    return ft"
   ]
  },
  {
   "cell_type": "code",
   "execution_count": 61,
   "id": "0a0ec028",
   "metadata": {
    "scrolled": true
   },
   "outputs": [
    {
     "data": {
      "text/html": [
       "<div>\n",
       "<style scoped>\n",
       "    .dataframe tbody tr th:only-of-type {\n",
       "        vertical-align: middle;\n",
       "    }\n",
       "\n",
       "    .dataframe tbody tr th {\n",
       "        vertical-align: top;\n",
       "    }\n",
       "\n",
       "    .dataframe thead th {\n",
       "        text-align: right;\n",
       "    }\n",
       "</style>\n",
       "<table border=\"1\" class=\"dataframe\">\n",
       "  <thead>\n",
       "    <tr style=\"text-align: right;\">\n",
       "      <th></th>\n",
       "      <th>hour</th>\n",
       "      <th>dayofweek</th>\n",
       "      <th>quarter</th>\n",
       "      <th>month</th>\n",
       "      <th>year</th>\n",
       "      <th>dayofyear</th>\n",
       "      <th>dayofmonth</th>\n",
       "      <th>weekofyear</th>\n",
       "      <th>minutes</th>\n",
       "    </tr>\n",
       "    <tr>\n",
       "      <th>start_hour</th>\n",
       "      <th></th>\n",
       "      <th></th>\n",
       "      <th></th>\n",
       "      <th></th>\n",
       "      <th></th>\n",
       "      <th></th>\n",
       "      <th></th>\n",
       "      <th></th>\n",
       "      <th></th>\n",
       "    </tr>\n",
       "  </thead>\n",
       "  <tbody>\n",
       "    <tr>\n",
       "      <th>2022-03-29 07:00:00</th>\n",
       "      <td>7</td>\n",
       "      <td>1</td>\n",
       "      <td>1</td>\n",
       "      <td>3</td>\n",
       "      <td>2022</td>\n",
       "      <td>88</td>\n",
       "      <td>29</td>\n",
       "      <td>13</td>\n",
       "      <td>18</td>\n",
       "    </tr>\n",
       "    <tr>\n",
       "      <th>2022-03-29 08:00:00</th>\n",
       "      <td>8</td>\n",
       "      <td>1</td>\n",
       "      <td>1</td>\n",
       "      <td>3</td>\n",
       "      <td>2022</td>\n",
       "      <td>88</td>\n",
       "      <td>29</td>\n",
       "      <td>13</td>\n",
       "      <td>29</td>\n",
       "    </tr>\n",
       "    <tr>\n",
       "      <th>2022-03-29 09:00:00</th>\n",
       "      <td>9</td>\n",
       "      <td>1</td>\n",
       "      <td>1</td>\n",
       "      <td>3</td>\n",
       "      <td>2022</td>\n",
       "      <td>88</td>\n",
       "      <td>29</td>\n",
       "      <td>13</td>\n",
       "      <td>42</td>\n",
       "    </tr>\n",
       "    <tr>\n",
       "      <th>2022-03-29 10:00:00</th>\n",
       "      <td>10</td>\n",
       "      <td>1</td>\n",
       "      <td>1</td>\n",
       "      <td>3</td>\n",
       "      <td>2022</td>\n",
       "      <td>88</td>\n",
       "      <td>29</td>\n",
       "      <td>13</td>\n",
       "      <td>47</td>\n",
       "    </tr>\n",
       "    <tr>\n",
       "      <th>2022-03-29 11:00:00</th>\n",
       "      <td>11</td>\n",
       "      <td>1</td>\n",
       "      <td>1</td>\n",
       "      <td>3</td>\n",
       "      <td>2022</td>\n",
       "      <td>88</td>\n",
       "      <td>29</td>\n",
       "      <td>13</td>\n",
       "      <td>22</td>\n",
       "    </tr>\n",
       "  </tbody>\n",
       "</table>\n",
       "</div>"
      ],
      "text/plain": [
       "                     hour  dayofweek  quarter  month  year  dayofyear  \\\n",
       "start_hour                                                              \n",
       "2022-03-29 07:00:00     7          1        1      3  2022         88   \n",
       "2022-03-29 08:00:00     8          1        1      3  2022         88   \n",
       "2022-03-29 09:00:00     9          1        1      3  2022         88   \n",
       "2022-03-29 10:00:00    10          1        1      3  2022         88   \n",
       "2022-03-29 11:00:00    11          1        1      3  2022         88   \n",
       "\n",
       "                     dayofmonth  weekofyear  minutes  \n",
       "start_hour                                            \n",
       "2022-03-29 07:00:00          29          13       18  \n",
       "2022-03-29 08:00:00          29          13       29  \n",
       "2022-03-29 09:00:00          29          13       42  \n",
       "2022-03-29 10:00:00          29          13       47  \n",
       "2022-03-29 11:00:00          29          13       22  "
      ]
     },
     "execution_count": 61,
     "metadata": {},
     "output_type": "execute_result"
    }
   ],
   "source": [
    "dfl = df.loc[df[\"DRVR_USER_ID\"] == \"iphoneskyper@gmail.com\"]\n",
    "ft = final_ft(dfl)\n",
    "ft.head()"
   ]
  },
  {
   "cell_type": "code",
   "execution_count": 24,
   "id": "04cc2ef6",
   "metadata": {},
   "outputs": [],
   "source": [
    "import seaborn as sns"
   ]
  },
  {
   "cell_type": "code",
   "execution_count": 25,
   "id": "9eb738b9",
   "metadata": {},
   "outputs": [
    {
     "data": {
      "image/png": "[encoded data removed]",
      "text/plain": [
       "<Figure size 1128.75x360 with 3 Axes>"
      ]
     },
     "metadata": {
      "needs_background": "light"
     },
     "output_type": "display_data"
    }
   ],
   "source": [
    "g = sns.pairplot(ft,\n",
    "             hue='hour',\n",
    "             x_vars=['hour','dayofweek',\n",
    "                     'weekofyear'],\n",
    "             y_vars='minutes',\n",
    "             height=5,\n",
    "             plot_kws={'alpha':0.15, 'linewidth':0}\n",
    "            )\n",
    "\n",
    "plt.suptitle('Driver activity by Hour, Day of Week, Year and Week of Year')\n",
    "plt.show()"
   ]
  },
  {
   "cell_type": "code",
   "execution_count": 62,
   "id": "747784db",
   "metadata": {},
   "outputs": [
    {
     "data": {
      "image/png": "[encoded data removed]",
      "text/plain": [
       "<Figure size 1080x1440 with 7 Axes>"
      ]
     },
     "metadata": {
      "needs_background": "light"
     },
     "output_type": "display_data"
    }
   ],
   "source": [
    "fig, ((ax1, ax2), (ax3, ax4), (ax5,ax6)) = plt.subplots(3,2, figsize=(15,20))\n",
    "ax1.plot(ft.groupby('hour')['minutes'].mean())\n",
    "ax1.set_ylabel('Minutes spent online')\n",
    "ax1.set_ylim([0, max(ft.groupby('hour')['minutes'].mean() + 20 )])\n",
    "ax1.set_xticks(ft['hour'].unique())\n",
    "ax1.set_title('Hourly data')\n",
    "\n",
    "ax2.plot(ft.groupby('month')['minutes'].mean())\n",
    "ax2.set_ylabel('Minutes spent online')\n",
    "ax2.set_ylim([0, max(ft.groupby('month')['minutes'].mean() + 20 )])\n",
    "ax2.set_xticks(ft['month'].unique())\n",
    "ax2.set_title('Monthly data')\n",
    "\n",
    "ax3.plot(ft.groupby('dayofweek')['minutes'].mean())\n",
    "ax3.set_ylabel('Minutes spent online')\n",
    "ax3.set_ylim([0, max(ft.groupby('dayofweek')['minutes'].mean() + 20 )])\n",
    "ax3.set_xticks(ft['dayofweek'].unique())\n",
    "ax3.set_title('Day of Week data')\n",
    "\n",
    "sns.heatmap(final(dfl).sort_index(ascending = False), cmap='viridis', ax = ax4)\n",
    "ax4.set_title(\"Average time spent for each hour of each weekday during the entire tenure\", fontsize = 14)\n",
    "\n",
    "sns.distplot(ft['minutes'], kde=False, ax=ax5)\n",
    "ax5.set_title('Number of minutes spent online distribution within 60 minutes')\n",
    "ax5.set_xlabel('Minutes Spent')\n",
    "ax5.set_ylabel('Number of times/count')\n",
    "\n",
    "plt.show()"
   ]
  },
  {
   "cell_type": "code",
   "execution_count": 57,
   "id": "4cd5d53a",
   "metadata": {},
   "outputs": [
    {
     "data": {
      "image/png": "[encoded data removed]",
      "text/plain": [
       "<Figure size 864x576 with 2 Axes>"
      ]
     },
     "metadata": {
      "needs_background": "light"
     },
     "output_type": "display_data"
    }
   ],
   "source": [
    "_ = plt.figure(figsize=(12, 8))\n",
    "ax = sns.heatmap(final(dfl).sort_index(ascending = False), cmap='viridis')\n",
    "_ = ax.set_title(\"Average time spent for each hour of each weekday during the entire tenure\", fontsize = 14)"
   ]
  },
  {
   "cell_type": "markdown",
   "id": "a6c4f7fd",
   "metadata": {},
   "source": [
    "# Time Series Forecasting"
   ]
  },
  {
   "cell_type": "code",
   "execution_count": 90,
   "id": "d0aa44f3",
   "metadata": {},
   "outputs": [
    {
     "data": {
      "text/html": [
       "<div>\n",
       "<style scoped>\n",
       "    .dataframe tbody tr th:only-of-type {\n",
       "        vertical-align: middle;\n",
       "    }\n",
       "\n",
       "    .dataframe tbody tr th {\n",
       "        vertical-align: top;\n",
       "    }\n",
       "\n",
       "    .dataframe thead th {\n",
       "        text-align: right;\n",
       "    }\n",
       "</style>\n",
       "<table border=\"1\" class=\"dataframe\">\n",
       "  <thead>\n",
       "    <tr style=\"text-align: right;\">\n",
       "      <th></th>\n",
       "      <th>minutes</th>\n",
       "    </tr>\n",
       "    <tr>\n",
       "      <th>start_hour</th>\n",
       "      <th></th>\n",
       "    </tr>\n",
       "  </thead>\n",
       "  <tbody>\n",
       "    <tr>\n",
       "      <th>2021-08-11 07:00:00</th>\n",
       "      <td>14</td>\n",
       "    </tr>\n",
       "    <tr>\n",
       "      <th>2021-08-11 08:00:00</th>\n",
       "      <td>60</td>\n",
       "    </tr>\n",
       "    <tr>\n",
       "      <th>2021-08-11 09:00:00</th>\n",
       "      <td>60</td>\n",
       "    </tr>\n",
       "    <tr>\n",
       "      <th>2021-08-11 10:00:00</th>\n",
       "      <td>60</td>\n",
       "    </tr>\n",
       "    <tr>\n",
       "      <th>2021-08-11 11:00:00</th>\n",
       "      <td>0</td>\n",
       "    </tr>\n",
       "  </tbody>\n",
       "</table>\n",
       "</div>"
      ],
      "text/plain": [
       "                     minutes\n",
       "start_hour                  \n",
       "2021-08-11 07:00:00       14\n",
       "2021-08-11 08:00:00       60\n",
       "2021-08-11 09:00:00       60\n",
       "2021-08-11 10:00:00       60\n",
       "2021-08-11 11:00:00        0"
      ]
     },
     "execution_count": 90,
     "metadata": {},
     "output_type": "execute_result"
    }
   ],
   "source": [
    "re = pd.DataFrame(ft.minutes)\n",
    "re.head()"
   ]
  },
  {
   "cell_type": "code",
   "execution_count": 91,
   "id": "b245f72b",
   "metadata": {},
   "outputs": [],
   "source": [
    "re = re[\"2021-08-12 00:00:00\":]"
   ]
  },
  {
   "cell_type": "code",
   "execution_count": 92,
   "id": "b0dc5d81",
   "metadata": {
    "scrolled": true
   },
   "outputs": [
    {
     "data": {
      "image/png": "[encoded data removed]",
      "text/plain": [
       "<Figure size 1080x576 with 4 Axes>"
      ]
     },
     "metadata": {
      "needs_background": "light"
     },
     "output_type": "display_data"
    }
   ],
   "source": [
    "res = seasonal_decompose(re.tail(500))\n",
    "fig = res.plot()\n",
    "fig.set_figheight(8)\n",
    "fig.set_figwidth(15)\n",
    "plt.show()"
   ]
  },
  {
   "cell_type": "code",
   "execution_count": 93,
   "id": "28b4264c",
   "metadata": {},
   "outputs": [],
   "source": [
    "split_date = '01-Jul-2022'\n",
    "ts_train = re.loc[re.index <= split_date].copy()\n",
    "ts_test = re.loc[re.index > split_date].copy()\n",
    "tr_start,tr_end = ts_train.index[0],ts_train.index[-1]\n",
    "te_start,te_end = ts_test.index[0],ts_test.index[-1]"
   ]
  },
  {
   "cell_type": "code",
   "execution_count": 94,
   "id": "6317e79b",
   "metadata": {
    "scrolled": true
   },
   "outputs": [
    {
     "data": {
      "image/png": "[encoded data removed]",
      "text/plain": [
       "<Figure size 1440x1440 with 2 Axes>"
      ]
     },
     "execution_count": 94,
     "metadata": {},
     "output_type": "execute_result"
    },
    {
     "data": {
      "image/png": "[encoded data removed]",
      "text/plain": [
       "<Figure size 1440x1440 with 2 Axes>"
      ]
     },
     "metadata": {
      "needs_background": "light"
     },
     "output_type": "display_data"
    }
   ],
   "source": [
    "fig, (ax1,ax2) = plt.subplots(2, figsize=(20, 20))\n",
    "\n",
    "plot_acf(ts_train, lags = 24, ax = ax1)\n",
    "plot_pacf(ts_train, lags = 24, ax = ax2)"
   ]
  },
  {
   "cell_type": "code",
   "execution_count": 95,
   "id": "840466c4",
   "metadata": {},
   "outputs": [
    {
     "data": {
      "text/html": [
       "<table class=\"simpletable\">\n",
       "<caption>SARIMAX Results</caption>\n",
       "<tr>\n",
       "  <th>Dep. Variable:</th>        <td>minutes</td>     <th>  No. Observations:  </th>    <td>7753</td>   \n",
       "</tr>\n",
       "<tr>\n",
       "  <th>Model:</th>           <td>SARIMAX(1, 0, 1)</td> <th>  Log Likelihood     </th> <td>-31627.729</td>\n",
       "</tr>\n",
       "<tr>\n",
       "  <th>Date:</th>            <td>Wed, 13 Jul 2022</td> <th>  AIC                </th>  <td>63261.459</td>\n",
       "</tr>\n",
       "<tr>\n",
       "  <th>Time:</th>                <td>17:59:02</td>     <th>  BIC                </th>  <td>63282.325</td>\n",
       "</tr>\n",
       "<tr>\n",
       "  <th>Sample:</th>             <td>08-12-2021</td>    <th>  HQIC               </th>  <td>63268.612</td>\n",
       "</tr>\n",
       "<tr>\n",
       "  <th></th>                   <td>- 07-01-2022</td>   <th>                     </th>      <td> </td>    \n",
       "</tr>\n",
       "<tr>\n",
       "  <th>Covariance Type:</th>        <td>opg</td>       <th>                     </th>      <td> </td>    \n",
       "</tr>\n",
       "</table>\n",
       "<table class=\"simpletable\">\n",
       "<tr>\n",
       "     <td></td>       <th>coef</th>     <th>std err</th>      <th>z</th>      <th>P>|z|</th>  <th>[0.025</th>    <th>0.975]</th>  \n",
       "</tr>\n",
       "<tr>\n",
       "  <th>ar.L1</th>  <td>    0.8760</td> <td>    0.006</td> <td>  152.888</td> <td> 0.000</td> <td>    0.865</td> <td>    0.887</td>\n",
       "</tr>\n",
       "<tr>\n",
       "  <th>ma.L1</th>  <td>    0.1308</td> <td>    0.012</td> <td>   11.286</td> <td> 0.000</td> <td>    0.108</td> <td>    0.154</td>\n",
       "</tr>\n",
       "<tr>\n",
       "  <th>sigma2</th> <td>  205.1091</td> <td>    1.726</td> <td>  118.839</td> <td> 0.000</td> <td>  201.726</td> <td>  208.492</td>\n",
       "</tr>\n",
       "</table>\n",
       "<table class=\"simpletable\">\n",
       "<tr>\n",
       "  <th>Ljung-Box (L1) (Q):</th>     <td>4.11</td> <th>  Jarque-Bera (JB):  </th> <td>16872.64</td>\n",
       "</tr>\n",
       "<tr>\n",
       "  <th>Prob(Q):</th>                <td>0.04</td> <th>  Prob(JB):          </th>   <td>0.00</td>  \n",
       "</tr>\n",
       "<tr>\n",
       "  <th>Heteroskedasticity (H):</th> <td>0.90</td> <th>  Skew:              </th>   <td>0.60</td>  \n",
       "</tr>\n",
       "<tr>\n",
       "  <th>Prob(H) (two-sided):</th>    <td>0.01</td> <th>  Kurtosis:          </th>   <td>10.13</td> \n",
       "</tr>\n",
       "</table><br/><br/>Warnings:<br/>[1] Covariance matrix calculated using the outer product of gradients (complex-step)."
      ],
      "text/plain": [
       "<class 'statsmodels.iolib.summary.Summary'>\n",
       "\"\"\"\n",
       "                               SARIMAX Results                                \n",
       "==============================================================================\n",
       "Dep. Variable:                minutes   No. Observations:                 7753\n",
       "Model:               SARIMAX(1, 0, 1)   Log Likelihood              -31627.729\n",
       "Date:                Wed, 13 Jul 2022   AIC                          63261.459\n",
       "Time:                        17:59:02   BIC                          63282.325\n",
       "Sample:                    08-12-2021   HQIC                         63268.612\n",
       "                         - 07-01-2022                                         \n",
       "Covariance Type:                  opg                                         \n",
       "==============================================================================\n",
       "                 coef    std err          z      P>|z|      [0.025      0.975]\n",
       "------------------------------------------------------------------------------\n",
       "ar.L1          0.8760      0.006    152.888      0.000       0.865       0.887\n",
       "ma.L1          0.1308      0.012     11.286      0.000       0.108       0.154\n",
       "sigma2       205.1091      1.726    118.839      0.000     201.726     208.492\n",
       "===================================================================================\n",
       "Ljung-Box (L1) (Q):                   4.11   Jarque-Bera (JB):             16872.64\n",
       "Prob(Q):                              0.04   Prob(JB):                         0.00\n",
       "Heteroskedasticity (H):               0.90   Skew:                             0.60\n",
       "Prob(H) (two-sided):                  0.01   Kurtosis:                        10.13\n",
       "===================================================================================\n",
       "\n",
       "Warnings:\n",
       "[1] Covariance matrix calculated using the outer product of gradients (complex-step).\n",
       "\"\"\""
      ]
     },
     "execution_count": 95,
     "metadata": {},
     "output_type": "execute_result"
    }
   ],
   "source": [
    "arima = sm.tsa.statespace.SARIMAX(ts_train,order=(1,0,1),freq='H',seasonal_order=(0,0,0,0),\n",
    "                                 enforce_stationarity=False, enforce_invertibility=False,).fit()\n",
    "arima.summary()"
   ]
  },
  {
   "cell_type": "code",
   "execution_count": 96,
   "id": "4aae303e",
   "metadata": {},
   "outputs": [
    {
     "name": "stdout",
     "output_type": "stream",
     "text": [
      "ARIMA model MSE:895.3202752256359\n"
     ]
    }
   ],
   "source": [
    "pred = arima.predict(tr_end,te_end)[1:]\n",
    "print('ARIMA model MSE:{}'.format(mean_squared_error(ts_test,pred)))"
   ]
  },
  {
   "cell_type": "code",
   "execution_count": 97,
   "id": "5d6561be",
   "metadata": {
    "scrolled": true
   },
   "outputs": [
    {
     "data": {
      "image/png": "[encoded data removed]",
      "text/plain": [
       "<Figure size 432x288 with 1 Axes>"
      ]
     },
     "metadata": {
      "needs_background": "light"
     },
     "output_type": "display_data"
    }
   ],
   "source": [
    "pred = pd.DataFrame(pred)\n",
    "pd.DataFrame({'test':ts_test.minutes,'pred':pred.predicted_mean}).plot()\n",
    "plt.show()"
   ]
  },
  {
   "cell_type": "code",
   "execution_count": 103,
   "id": "74d5e258",
   "metadata": {
    "scrolled": true
   },
   "outputs": [
    {
     "data": {
      "text/html": [
       "<div>\n",
       "<style scoped>\n",
       "    .dataframe tbody tr th:only-of-type {\n",
       "        vertical-align: middle;\n",
       "    }\n",
       "\n",
       "    .dataframe tbody tr th {\n",
       "        vertical-align: top;\n",
       "    }\n",
       "\n",
       "    .dataframe thead th {\n",
       "        text-align: right;\n",
       "    }\n",
       "</style>\n",
       "<table border=\"1\" class=\"dataframe\">\n",
       "  <thead>\n",
       "    <tr style=\"text-align: right;\">\n",
       "      <th></th>\n",
       "      <th>hour</th>\n",
       "      <th>dayofweek</th>\n",
       "      <th>quarter</th>\n",
       "      <th>month</th>\n",
       "      <th>year</th>\n",
       "      <th>dayofyear</th>\n",
       "      <th>dayofmonth</th>\n",
       "      <th>weekofyear</th>\n",
       "      <th>minutes</th>\n",
       "    </tr>\n",
       "    <tr>\n",
       "      <th>start_hour</th>\n",
       "      <th></th>\n",
       "      <th></th>\n",
       "      <th></th>\n",
       "      <th></th>\n",
       "      <th></th>\n",
       "      <th></th>\n",
       "      <th></th>\n",
       "      <th></th>\n",
       "      <th></th>\n",
       "    </tr>\n",
       "  </thead>\n",
       "  <tbody>\n",
       "    <tr>\n",
       "      <th>2021-08-11 07:00:00</th>\n",
       "      <td>7</td>\n",
       "      <td>2</td>\n",
       "      <td>3</td>\n",
       "      <td>8</td>\n",
       "      <td>2021</td>\n",
       "      <td>223</td>\n",
       "      <td>11</td>\n",
       "      <td>32</td>\n",
       "      <td>14</td>\n",
       "    </tr>\n",
       "    <tr>\n",
       "      <th>2021-08-11 08:00:00</th>\n",
       "      <td>8</td>\n",
       "      <td>2</td>\n",
       "      <td>3</td>\n",
       "      <td>8</td>\n",
       "      <td>2021</td>\n",
       "      <td>223</td>\n",
       "      <td>11</td>\n",
       "      <td>32</td>\n",
       "      <td>60</td>\n",
       "    </tr>\n",
       "    <tr>\n",
       "      <th>2021-08-11 09:00:00</th>\n",
       "      <td>9</td>\n",
       "      <td>2</td>\n",
       "      <td>3</td>\n",
       "      <td>8</td>\n",
       "      <td>2021</td>\n",
       "      <td>223</td>\n",
       "      <td>11</td>\n",
       "      <td>32</td>\n",
       "      <td>60</td>\n",
       "    </tr>\n",
       "    <tr>\n",
       "      <th>2021-08-11 10:00:00</th>\n",
       "      <td>10</td>\n",
       "      <td>2</td>\n",
       "      <td>3</td>\n",
       "      <td>8</td>\n",
       "      <td>2021</td>\n",
       "      <td>223</td>\n",
       "      <td>11</td>\n",
       "      <td>32</td>\n",
       "      <td>60</td>\n",
       "    </tr>\n",
       "    <tr>\n",
       "      <th>2021-08-11 11:00:00</th>\n",
       "      <td>11</td>\n",
       "      <td>2</td>\n",
       "      <td>3</td>\n",
       "      <td>8</td>\n",
       "      <td>2021</td>\n",
       "      <td>223</td>\n",
       "      <td>11</td>\n",
       "      <td>32</td>\n",
       "      <td>0</td>\n",
       "    </tr>\n",
       "    <tr>\n",
       "      <th>...</th>\n",
       "      <td>...</td>\n",
       "      <td>...</td>\n",
       "      <td>...</td>\n",
       "      <td>...</td>\n",
       "      <td>...</td>\n",
       "      <td>...</td>\n",
       "      <td>...</td>\n",
       "      <td>...</td>\n",
       "      <td>...</td>\n",
       "    </tr>\n",
       "    <tr>\n",
       "      <th>2022-07-13 14:00:00</th>\n",
       "      <td>14</td>\n",
       "      <td>2</td>\n",
       "      <td>3</td>\n",
       "      <td>7</td>\n",
       "      <td>2022</td>\n",
       "      <td>194</td>\n",
       "      <td>13</td>\n",
       "      <td>28</td>\n",
       "      <td>55</td>\n",
       "    </tr>\n",
       "    <tr>\n",
       "      <th>2022-07-13 15:00:00</th>\n",
       "      <td>15</td>\n",
       "      <td>2</td>\n",
       "      <td>3</td>\n",
       "      <td>7</td>\n",
       "      <td>2022</td>\n",
       "      <td>194</td>\n",
       "      <td>13</td>\n",
       "      <td>28</td>\n",
       "      <td>55</td>\n",
       "    </tr>\n",
       "    <tr>\n",
       "      <th>2022-07-13 16:00:00</th>\n",
       "      <td>16</td>\n",
       "      <td>2</td>\n",
       "      <td>3</td>\n",
       "      <td>7</td>\n",
       "      <td>2022</td>\n",
       "      <td>194</td>\n",
       "      <td>13</td>\n",
       "      <td>28</td>\n",
       "      <td>55</td>\n",
       "    </tr>\n",
       "    <tr>\n",
       "      <th>2022-07-13 17:00:00</th>\n",
       "      <td>17</td>\n",
       "      <td>2</td>\n",
       "      <td>3</td>\n",
       "      <td>7</td>\n",
       "      <td>2022</td>\n",
       "      <td>194</td>\n",
       "      <td>13</td>\n",
       "      <td>28</td>\n",
       "      <td>55</td>\n",
       "    </tr>\n",
       "    <tr>\n",
       "      <th>2022-07-13 18:00:00</th>\n",
       "      <td>18</td>\n",
       "      <td>2</td>\n",
       "      <td>3</td>\n",
       "      <td>7</td>\n",
       "      <td>2022</td>\n",
       "      <td>194</td>\n",
       "      <td>13</td>\n",
       "      <td>28</td>\n",
       "      <td>14</td>\n",
       "    </tr>\n",
       "  </tbody>\n",
       "</table>\n",
       "<p>8076 rows × 9 columns</p>\n",
       "</div>"
      ],
      "text/plain": [
       "                     hour  dayofweek  quarter  month  year  dayofyear  \\\n",
       "start_hour                                                              \n",
       "2021-08-11 07:00:00     7          2        3      8  2021        223   \n",
       "2021-08-11 08:00:00     8          2        3      8  2021        223   \n",
       "2021-08-11 09:00:00     9          2        3      8  2021        223   \n",
       "2021-08-11 10:00:00    10          2        3      8  2021        223   \n",
       "2021-08-11 11:00:00    11          2        3      8  2021        223   \n",
       "...                   ...        ...      ...    ...   ...        ...   \n",
       "2022-07-13 14:00:00    14          2        3      7  2022        194   \n",
       "2022-07-13 15:00:00    15          2        3      7  2022        194   \n",
       "2022-07-13 16:00:00    16          2        3      7  2022        194   \n",
       "2022-07-13 17:00:00    17          2        3      7  2022        194   \n",
       "2022-07-13 18:00:00    18          2        3      7  2022        194   \n",
       "\n",
       "                     dayofmonth  weekofyear  minutes  \n",
       "start_hour                                            \n",
       "2021-08-11 07:00:00          11          32       14  \n",
       "2021-08-11 08:00:00          11          32       60  \n",
       "2021-08-11 09:00:00          11          32       60  \n",
       "2021-08-11 10:00:00          11          32       60  \n",
       "2021-08-11 11:00:00          11          32        0  \n",
       "...                         ...         ...      ...  \n",
       "2022-07-13 14:00:00          13          28       55  \n",
       "2022-07-13 15:00:00          13          28       55  \n",
       "2022-07-13 16:00:00          13          28       55  \n",
       "2022-07-13 17:00:00          13          28       55  \n",
       "2022-07-13 18:00:00          13          28       14  \n",
       "\n",
       "[8076 rows x 9 columns]"
      ]
     },
     "execution_count": 103,
     "metadata": {},
     "output_type": "execute_result"
    }
   ],
   "source": [
    "ft"
   ]
  },
  {
   "cell_type": "code",
   "execution_count": 227,
   "id": "a660a88f",
   "metadata": {},
   "outputs": [
    {
     "data": {
      "text/html": [
       "<div>\n",
       "<style scoped>\n",
       "    .dataframe tbody tr th:only-of-type {\n",
       "        vertical-align: middle;\n",
       "    }\n",
       "\n",
       "    .dataframe tbody tr th {\n",
       "        vertical-align: top;\n",
       "    }\n",
       "\n",
       "    .dataframe thead th {\n",
       "        text-align: right;\n",
       "    }\n",
       "</style>\n",
       "<table border=\"1\" class=\"dataframe\">\n",
       "  <thead>\n",
       "    <tr style=\"text-align: right;\">\n",
       "      <th></th>\n",
       "      <th>hour</th>\n",
       "      <th>dayofweek</th>\n",
       "      <th>quarter</th>\n",
       "      <th>month</th>\n",
       "      <th>year</th>\n",
       "      <th>dayofyear</th>\n",
       "      <th>dayofmonth</th>\n",
       "      <th>weekofyear</th>\n",
       "      <th>minutes</th>\n",
       "      <th>monday</th>\n",
       "      <th>tuesday</th>\n",
       "      <th>wednesday</th>\n",
       "      <th>thursday</th>\n",
       "      <th>friday</th>\n",
       "      <th>saturday</th>\n",
       "      <th>sunday</th>\n",
       "    </tr>\n",
       "    <tr>\n",
       "      <th>start_hour</th>\n",
       "      <th></th>\n",
       "      <th></th>\n",
       "      <th></th>\n",
       "      <th></th>\n",
       "      <th></th>\n",
       "      <th></th>\n",
       "      <th></th>\n",
       "      <th></th>\n",
       "      <th></th>\n",
       "      <th></th>\n",
       "      <th></th>\n",
       "      <th></th>\n",
       "      <th></th>\n",
       "      <th></th>\n",
       "      <th></th>\n",
       "      <th></th>\n",
       "    </tr>\n",
       "  </thead>\n",
       "  <tbody>\n",
       "    <tr>\n",
       "      <th>2022-07-13 14:00:00</th>\n",
       "      <td>14</td>\n",
       "      <td>2</td>\n",
       "      <td>3</td>\n",
       "      <td>7</td>\n",
       "      <td>2022</td>\n",
       "      <td>194</td>\n",
       "      <td>13</td>\n",
       "      <td>28</td>\n",
       "      <td>55</td>\n",
       "      <td>0.0</td>\n",
       "      <td>0.0</td>\n",
       "      <td>0.0</td>\n",
       "      <td>0.0</td>\n",
       "      <td>0.0</td>\n",
       "      <td>0.0</td>\n",
       "      <td>0.0</td>\n",
       "    </tr>\n",
       "    <tr>\n",
       "      <th>2022-07-13 15:00:00</th>\n",
       "      <td>15</td>\n",
       "      <td>2</td>\n",
       "      <td>3</td>\n",
       "      <td>7</td>\n",
       "      <td>2022</td>\n",
       "      <td>194</td>\n",
       "      <td>13</td>\n",
       "      <td>28</td>\n",
       "      <td>55</td>\n",
       "      <td>0.0</td>\n",
       "      <td>0.0</td>\n",
       "      <td>0.0</td>\n",
       "      <td>0.0</td>\n",
       "      <td>0.0</td>\n",
       "      <td>0.0</td>\n",
       "      <td>0.0</td>\n",
       "    </tr>\n",
       "    <tr>\n",
       "      <th>2022-07-13 16:00:00</th>\n",
       "      <td>16</td>\n",
       "      <td>2</td>\n",
       "      <td>3</td>\n",
       "      <td>7</td>\n",
       "      <td>2022</td>\n",
       "      <td>194</td>\n",
       "      <td>13</td>\n",
       "      <td>28</td>\n",
       "      <td>55</td>\n",
       "      <td>0.0</td>\n",
       "      <td>0.0</td>\n",
       "      <td>0.0</td>\n",
       "      <td>0.0</td>\n",
       "      <td>0.0</td>\n",
       "      <td>0.0</td>\n",
       "      <td>0.0</td>\n",
       "    </tr>\n",
       "    <tr>\n",
       "      <th>2022-07-13 17:00:00</th>\n",
       "      <td>17</td>\n",
       "      <td>2</td>\n",
       "      <td>3</td>\n",
       "      <td>7</td>\n",
       "      <td>2022</td>\n",
       "      <td>194</td>\n",
       "      <td>13</td>\n",
       "      <td>28</td>\n",
       "      <td>55</td>\n",
       "      <td>0.0</td>\n",
       "      <td>0.0</td>\n",
       "      <td>0.0</td>\n",
       "      <td>0.0</td>\n",
       "      <td>0.0</td>\n",
       "      <td>0.0</td>\n",
       "      <td>0.0</td>\n",
       "    </tr>\n",
       "    <tr>\n",
       "      <th>2022-07-13 18:00:00</th>\n",
       "      <td>18</td>\n",
       "      <td>2</td>\n",
       "      <td>3</td>\n",
       "      <td>7</td>\n",
       "      <td>2022</td>\n",
       "      <td>194</td>\n",
       "      <td>13</td>\n",
       "      <td>28</td>\n",
       "      <td>14</td>\n",
       "      <td>0.0</td>\n",
       "      <td>0.0</td>\n",
       "      <td>0.0</td>\n",
       "      <td>0.0</td>\n",
       "      <td>0.0</td>\n",
       "      <td>0.0</td>\n",
       "      <td>0.0</td>\n",
       "    </tr>\n",
       "  </tbody>\n",
       "</table>\n",
       "</div>"
      ],
      "text/plain": [
       "                     hour  dayofweek  quarter  month  year  dayofyear  \\\n",
       "start_hour                                                              \n",
       "2022-07-13 14:00:00    14          2        3      7  2022        194   \n",
       "2022-07-13 15:00:00    15          2        3      7  2022        194   \n",
       "2022-07-13 16:00:00    16          2        3      7  2022        194   \n",
       "2022-07-13 17:00:00    17          2        3      7  2022        194   \n",
       "2022-07-13 18:00:00    18          2        3      7  2022        194   \n",
       "\n",
       "                     dayofmonth  weekofyear  minutes  monday  tuesday  \\\n",
       "start_hour                                                              \n",
       "2022-07-13 14:00:00          13          28       55     0.0      0.0   \n",
       "2022-07-13 15:00:00          13          28       55     0.0      0.0   \n",
       "2022-07-13 16:00:00          13          28       55     0.0      0.0   \n",
       "2022-07-13 17:00:00          13          28       55     0.0      0.0   \n",
       "2022-07-13 18:00:00          13          28       14     0.0      0.0   \n",
       "\n",
       "                     wednesday  thursday  friday  saturday  sunday  \n",
       "start_hour                                                          \n",
       "2022-07-13 14:00:00        0.0       0.0     0.0       0.0     0.0  \n",
       "2022-07-13 15:00:00        0.0       0.0     0.0       0.0     0.0  \n",
       "2022-07-13 16:00:00        0.0       0.0     0.0       0.0     0.0  \n",
       "2022-07-13 17:00:00        0.0       0.0     0.0       0.0     0.0  \n",
       "2022-07-13 18:00:00        0.0       0.0     0.0       0.0     0.0  "
      ]
     },
     "execution_count": 227,
     "metadata": {},
     "output_type": "execute_result"
    }
   ],
   "source": [
    "from sklearn.preprocessing import OneHotEncoder\n",
    "\n",
    "encoder = OneHotEncoder(handle_unknown='ignore')\n",
    "\n",
    "#perform one-hot encoding on 'team' column \n",
    "encoder_df = pd.DataFrame(encoder.fit_transform(ft[['dayofweek']]).toarray())\n",
    "\n",
    "\n",
    "#merge one-hot encoded columns back with original DataFrame\n",
    "final_df = ft.join(encoder_df)\n",
    "\n",
    "#view final df\n",
    "final_df.columns = [\"hour\",\"dayofweek\",\"quarter\",\"month\",\"year\",\"dayofyear\",\"dayofmonth\",\"weekofyear\",\"minutes\",\"monday\",\"tuesday\",\"wednesday\",\"thursday\",\"friday\",\"saturday\",\"sunday\"]\n",
    "final_df = final_df.fillna(0)\n",
    "final_df.tail()"
   ]
  },
  {
   "cell_type": "code",
   "execution_count": 228,
   "id": "0246ed4f",
   "metadata": {
    "scrolled": true
   },
   "outputs": [
    {
     "data": {
      "text/html": [
       "<div>\n",
       "<style scoped>\n",
       "    .dataframe tbody tr th:only-of-type {\n",
       "        vertical-align: middle;\n",
       "    }\n",
       "\n",
       "    .dataframe tbody tr th {\n",
       "        vertical-align: top;\n",
       "    }\n",
       "\n",
       "    .dataframe thead th {\n",
       "        text-align: right;\n",
       "    }\n",
       "</style>\n",
       "<table border=\"1\" class=\"dataframe\">\n",
       "  <thead>\n",
       "    <tr style=\"text-align: right;\">\n",
       "      <th></th>\n",
       "      <th>0</th>\n",
       "      <th>1</th>\n",
       "      <th>2</th>\n",
       "      <th>3</th>\n",
       "      <th>4</th>\n",
       "      <th>5</th>\n",
       "      <th>6</th>\n",
       "    </tr>\n",
       "    <tr>\n",
       "      <th>dayhour</th>\n",
       "      <th></th>\n",
       "      <th></th>\n",
       "      <th></th>\n",
       "      <th></th>\n",
       "      <th></th>\n",
       "      <th></th>\n",
       "      <th></th>\n",
       "    </tr>\n",
       "  </thead>\n",
       "  <tbody>\n",
       "    <tr>\n",
       "      <th>2021-08-11 07:00:00</th>\n",
       "      <td>0.0</td>\n",
       "      <td>0.0</td>\n",
       "      <td>1.0</td>\n",
       "      <td>0.0</td>\n",
       "      <td>0.0</td>\n",
       "      <td>0.0</td>\n",
       "      <td>0.0</td>\n",
       "    </tr>\n",
       "    <tr>\n",
       "      <th>2021-08-11 08:00:00</th>\n",
       "      <td>0.0</td>\n",
       "      <td>0.0</td>\n",
       "      <td>1.0</td>\n",
       "      <td>0.0</td>\n",
       "      <td>0.0</td>\n",
       "      <td>0.0</td>\n",
       "      <td>0.0</td>\n",
       "    </tr>\n",
       "    <tr>\n",
       "      <th>2021-08-11 09:00:00</th>\n",
       "      <td>0.0</td>\n",
       "      <td>0.0</td>\n",
       "      <td>1.0</td>\n",
       "      <td>0.0</td>\n",
       "      <td>0.0</td>\n",
       "      <td>0.0</td>\n",
       "      <td>0.0</td>\n",
       "    </tr>\n",
       "    <tr>\n",
       "      <th>2021-08-11 10:00:00</th>\n",
       "      <td>0.0</td>\n",
       "      <td>0.0</td>\n",
       "      <td>1.0</td>\n",
       "      <td>0.0</td>\n",
       "      <td>0.0</td>\n",
       "      <td>0.0</td>\n",
       "      <td>0.0</td>\n",
       "    </tr>\n",
       "    <tr>\n",
       "      <th>2021-08-11 11:00:00</th>\n",
       "      <td>0.0</td>\n",
       "      <td>0.0</td>\n",
       "      <td>1.0</td>\n",
       "      <td>0.0</td>\n",
       "      <td>0.0</td>\n",
       "      <td>0.0</td>\n",
       "      <td>0.0</td>\n",
       "    </tr>\n",
       "    <tr>\n",
       "      <th>...</th>\n",
       "      <td>...</td>\n",
       "      <td>...</td>\n",
       "      <td>...</td>\n",
       "      <td>...</td>\n",
       "      <td>...</td>\n",
       "      <td>...</td>\n",
       "      <td>...</td>\n",
       "    </tr>\n",
       "    <tr>\n",
       "      <th>2022-07-13 14:00:00</th>\n",
       "      <td>0.0</td>\n",
       "      <td>0.0</td>\n",
       "      <td>1.0</td>\n",
       "      <td>0.0</td>\n",
       "      <td>0.0</td>\n",
       "      <td>0.0</td>\n",
       "      <td>0.0</td>\n",
       "    </tr>\n",
       "    <tr>\n",
       "      <th>2022-07-13 15:00:00</th>\n",
       "      <td>0.0</td>\n",
       "      <td>0.0</td>\n",
       "      <td>1.0</td>\n",
       "      <td>0.0</td>\n",
       "      <td>0.0</td>\n",
       "      <td>0.0</td>\n",
       "      <td>0.0</td>\n",
       "    </tr>\n",
       "    <tr>\n",
       "      <th>2022-07-13 16:00:00</th>\n",
       "      <td>0.0</td>\n",
       "      <td>0.0</td>\n",
       "      <td>1.0</td>\n",
       "      <td>0.0</td>\n",
       "      <td>0.0</td>\n",
       "      <td>0.0</td>\n",
       "      <td>0.0</td>\n",
       "    </tr>\n",
       "    <tr>\n",
       "      <th>2022-07-13 17:00:00</th>\n",
       "      <td>0.0</td>\n",
       "      <td>0.0</td>\n",
       "      <td>1.0</td>\n",
       "      <td>0.0</td>\n",
       "      <td>0.0</td>\n",
       "      <td>0.0</td>\n",
       "      <td>0.0</td>\n",
       "    </tr>\n",
       "    <tr>\n",
       "      <th>2022-07-13 18:00:00</th>\n",
       "      <td>0.0</td>\n",
       "      <td>0.0</td>\n",
       "      <td>1.0</td>\n",
       "      <td>0.0</td>\n",
       "      <td>0.0</td>\n",
       "      <td>0.0</td>\n",
       "      <td>0.0</td>\n",
       "    </tr>\n",
       "  </tbody>\n",
       "</table>\n",
       "<p>8076 rows × 7 columns</p>\n",
       "</div>"
      ],
      "text/plain": [
       "                       0    1    2    3    4    5    6\n",
       "dayhour                                               \n",
       "2021-08-11 07:00:00  0.0  0.0  1.0  0.0  0.0  0.0  0.0\n",
       "2021-08-11 08:00:00  0.0  0.0  1.0  0.0  0.0  0.0  0.0\n",
       "2021-08-11 09:00:00  0.0  0.0  1.0  0.0  0.0  0.0  0.0\n",
       "2021-08-11 10:00:00  0.0  0.0  1.0  0.0  0.0  0.0  0.0\n",
       "2021-08-11 11:00:00  0.0  0.0  1.0  0.0  0.0  0.0  0.0\n",
       "...                  ...  ...  ...  ...  ...  ...  ...\n",
       "2022-07-13 14:00:00  0.0  0.0  1.0  0.0  0.0  0.0  0.0\n",
       "2022-07-13 15:00:00  0.0  0.0  1.0  0.0  0.0  0.0  0.0\n",
       "2022-07-13 16:00:00  0.0  0.0  1.0  0.0  0.0  0.0  0.0\n",
       "2022-07-13 17:00:00  0.0  0.0  1.0  0.0  0.0  0.0  0.0\n",
       "2022-07-13 18:00:00  0.0  0.0  1.0  0.0  0.0  0.0  0.0\n",
       "\n",
       "[8076 rows x 7 columns]"
      ]
     },
     "execution_count": 228,
     "metadata": {},
     "output_type": "execute_result"
    }
   ],
   "source": [
    "encoder_df[\"dayhour\"] = ft.index\n",
    "encoder_df = encoder_df.set_index(\"dayhour\",drop=True)\n",
    "encoder_df"
   ]
  },
  {
   "cell_type": "code",
   "execution_count": 229,
   "id": "42a98d8a",
   "metadata": {
    "scrolled": true
   },
   "outputs": [
    {
     "data": {
      "text/html": [
       "<div>\n",
       "<style scoped>\n",
       "    .dataframe tbody tr th:only-of-type {\n",
       "        vertical-align: middle;\n",
       "    }\n",
       "\n",
       "    .dataframe tbody tr th {\n",
       "        vertical-align: top;\n",
       "    }\n",
       "\n",
       "    .dataframe thead th {\n",
       "        text-align: right;\n",
       "    }\n",
       "</style>\n",
       "<table border=\"1\" class=\"dataframe\">\n",
       "  <thead>\n",
       "    <tr style=\"text-align: right;\">\n",
       "      <th></th>\n",
       "      <th>hour</th>\n",
       "      <th>dayofweek</th>\n",
       "      <th>quarter</th>\n",
       "      <th>month</th>\n",
       "      <th>year</th>\n",
       "      <th>dayofyear</th>\n",
       "      <th>dayofmonth</th>\n",
       "      <th>weekofyear</th>\n",
       "      <th>minutes</th>\n",
       "      <th>monday</th>\n",
       "      <th>tuesday</th>\n",
       "      <th>wednesday</th>\n",
       "      <th>thursday</th>\n",
       "      <th>friday</th>\n",
       "      <th>saturday</th>\n",
       "      <th>sunday</th>\n",
       "    </tr>\n",
       "    <tr>\n",
       "      <th>start_hour</th>\n",
       "      <th></th>\n",
       "      <th></th>\n",
       "      <th></th>\n",
       "      <th></th>\n",
       "      <th></th>\n",
       "      <th></th>\n",
       "      <th></th>\n",
       "      <th></th>\n",
       "      <th></th>\n",
       "      <th></th>\n",
       "      <th></th>\n",
       "      <th></th>\n",
       "      <th></th>\n",
       "      <th></th>\n",
       "      <th></th>\n",
       "      <th></th>\n",
       "    </tr>\n",
       "  </thead>\n",
       "  <tbody>\n",
       "    <tr>\n",
       "      <th>2021-08-11 07:00:00</th>\n",
       "      <td>7</td>\n",
       "      <td>2</td>\n",
       "      <td>3</td>\n",
       "      <td>8</td>\n",
       "      <td>2021</td>\n",
       "      <td>223</td>\n",
       "      <td>11</td>\n",
       "      <td>32</td>\n",
       "      <td>14</td>\n",
       "      <td>0.0</td>\n",
       "      <td>0.0</td>\n",
       "      <td>1.0</td>\n",
       "      <td>0.0</td>\n",
       "      <td>0.0</td>\n",
       "      <td>0.0</td>\n",
       "      <td>0.0</td>\n",
       "    </tr>\n",
       "    <tr>\n",
       "      <th>2021-08-11 08:00:00</th>\n",
       "      <td>8</td>\n",
       "      <td>2</td>\n",
       "      <td>3</td>\n",
       "      <td>8</td>\n",
       "      <td>2021</td>\n",
       "      <td>223</td>\n",
       "      <td>11</td>\n",
       "      <td>32</td>\n",
       "      <td>60</td>\n",
       "      <td>0.0</td>\n",
       "      <td>0.0</td>\n",
       "      <td>1.0</td>\n",
       "      <td>0.0</td>\n",
       "      <td>0.0</td>\n",
       "      <td>0.0</td>\n",
       "      <td>0.0</td>\n",
       "    </tr>\n",
       "    <tr>\n",
       "      <th>2021-08-11 09:00:00</th>\n",
       "      <td>9</td>\n",
       "      <td>2</td>\n",
       "      <td>3</td>\n",
       "      <td>8</td>\n",
       "      <td>2021</td>\n",
       "      <td>223</td>\n",
       "      <td>11</td>\n",
       "      <td>32</td>\n",
       "      <td>60</td>\n",
       "      <td>0.0</td>\n",
       "      <td>0.0</td>\n",
       "      <td>1.0</td>\n",
       "      <td>0.0</td>\n",
       "      <td>0.0</td>\n",
       "      <td>0.0</td>\n",
       "      <td>0.0</td>\n",
       "    </tr>\n",
       "    <tr>\n",
       "      <th>2021-08-11 10:00:00</th>\n",
       "      <td>10</td>\n",
       "      <td>2</td>\n",
       "      <td>3</td>\n",
       "      <td>8</td>\n",
       "      <td>2021</td>\n",
       "      <td>223</td>\n",
       "      <td>11</td>\n",
       "      <td>32</td>\n",
       "      <td>60</td>\n",
       "      <td>0.0</td>\n",
       "      <td>0.0</td>\n",
       "      <td>1.0</td>\n",
       "      <td>0.0</td>\n",
       "      <td>0.0</td>\n",
       "      <td>0.0</td>\n",
       "      <td>0.0</td>\n",
       "    </tr>\n",
       "    <tr>\n",
       "      <th>2021-08-11 11:00:00</th>\n",
       "      <td>11</td>\n",
       "      <td>2</td>\n",
       "      <td>3</td>\n",
       "      <td>8</td>\n",
       "      <td>2021</td>\n",
       "      <td>223</td>\n",
       "      <td>11</td>\n",
       "      <td>32</td>\n",
       "      <td>0</td>\n",
       "      <td>0.0</td>\n",
       "      <td>0.0</td>\n",
       "      <td>1.0</td>\n",
       "      <td>0.0</td>\n",
       "      <td>0.0</td>\n",
       "      <td>0.0</td>\n",
       "      <td>0.0</td>\n",
       "    </tr>\n",
       "    <tr>\n",
       "      <th>...</th>\n",
       "      <td>...</td>\n",
       "      <td>...</td>\n",
       "      <td>...</td>\n",
       "      <td>...</td>\n",
       "      <td>...</td>\n",
       "      <td>...</td>\n",
       "      <td>...</td>\n",
       "      <td>...</td>\n",
       "      <td>...</td>\n",
       "      <td>...</td>\n",
       "      <td>...</td>\n",
       "      <td>...</td>\n",
       "      <td>...</td>\n",
       "      <td>...</td>\n",
       "      <td>...</td>\n",
       "      <td>...</td>\n",
       "    </tr>\n",
       "    <tr>\n",
       "      <th>2022-07-13 14:00:00</th>\n",
       "      <td>14</td>\n",
       "      <td>2</td>\n",
       "      <td>3</td>\n",
       "      <td>7</td>\n",
       "      <td>2022</td>\n",
       "      <td>194</td>\n",
       "      <td>13</td>\n",
       "      <td>28</td>\n",
       "      <td>55</td>\n",
       "      <td>0.0</td>\n",
       "      <td>0.0</td>\n",
       "      <td>1.0</td>\n",
       "      <td>0.0</td>\n",
       "      <td>0.0</td>\n",
       "      <td>0.0</td>\n",
       "      <td>0.0</td>\n",
       "    </tr>\n",
       "    <tr>\n",
       "      <th>2022-07-13 15:00:00</th>\n",
       "      <td>15</td>\n",
       "      <td>2</td>\n",
       "      <td>3</td>\n",
       "      <td>7</td>\n",
       "      <td>2022</td>\n",
       "      <td>194</td>\n",
       "      <td>13</td>\n",
       "      <td>28</td>\n",
       "      <td>55</td>\n",
       "      <td>0.0</td>\n",
       "      <td>0.0</td>\n",
       "      <td>1.0</td>\n",
       "      <td>0.0</td>\n",
       "      <td>0.0</td>\n",
       "      <td>0.0</td>\n",
       "      <td>0.0</td>\n",
       "    </tr>\n",
       "    <tr>\n",
       "      <th>2022-07-13 16:00:00</th>\n",
       "      <td>16</td>\n",
       "      <td>2</td>\n",
       "      <td>3</td>\n",
       "      <td>7</td>\n",
       "      <td>2022</td>\n",
       "      <td>194</td>\n",
       "      <td>13</td>\n",
       "      <td>28</td>\n",
       "      <td>55</td>\n",
       "      <td>0.0</td>\n",
       "      <td>0.0</td>\n",
       "      <td>1.0</td>\n",
       "      <td>0.0</td>\n",
       "      <td>0.0</td>\n",
       "      <td>0.0</td>\n",
       "      <td>0.0</td>\n",
       "    </tr>\n",
       "    <tr>\n",
       "      <th>2022-07-13 17:00:00</th>\n",
       "      <td>17</td>\n",
       "      <td>2</td>\n",
       "      <td>3</td>\n",
       "      <td>7</td>\n",
       "      <td>2022</td>\n",
       "      <td>194</td>\n",
       "      <td>13</td>\n",
       "      <td>28</td>\n",
       "      <td>55</td>\n",
       "      <td>0.0</td>\n",
       "      <td>0.0</td>\n",
       "      <td>1.0</td>\n",
       "      <td>0.0</td>\n",
       "      <td>0.0</td>\n",
       "      <td>0.0</td>\n",
       "      <td>0.0</td>\n",
       "    </tr>\n",
       "    <tr>\n",
       "      <th>2022-07-13 18:00:00</th>\n",
       "      <td>18</td>\n",
       "      <td>2</td>\n",
       "      <td>3</td>\n",
       "      <td>7</td>\n",
       "      <td>2022</td>\n",
       "      <td>194</td>\n",
       "      <td>13</td>\n",
       "      <td>28</td>\n",
       "      <td>14</td>\n",
       "      <td>0.0</td>\n",
       "      <td>0.0</td>\n",
       "      <td>1.0</td>\n",
       "      <td>0.0</td>\n",
       "      <td>0.0</td>\n",
       "      <td>0.0</td>\n",
       "      <td>0.0</td>\n",
       "    </tr>\n",
       "  </tbody>\n",
       "</table>\n",
       "<p>8076 rows × 16 columns</p>\n",
       "</div>"
      ],
      "text/plain": [
       "                     hour  dayofweek  quarter  month  year  dayofyear  \\\n",
       "start_hour                                                              \n",
       "2021-08-11 07:00:00     7          2        3      8  2021        223   \n",
       "2021-08-11 08:00:00     8          2        3      8  2021        223   \n",
       "2021-08-11 09:00:00     9          2        3      8  2021        223   \n",
       "2021-08-11 10:00:00    10          2        3      8  2021        223   \n",
       "2021-08-11 11:00:00    11          2        3      8  2021        223   \n",
       "...                   ...        ...      ...    ...   ...        ...   \n",
       "2022-07-13 14:00:00    14          2        3      7  2022        194   \n",
       "2022-07-13 15:00:00    15          2        3      7  2022        194   \n",
       "2022-07-13 16:00:00    16          2        3      7  2022        194   \n",
       "2022-07-13 17:00:00    17          2        3      7  2022        194   \n",
       "2022-07-13 18:00:00    18          2        3      7  2022        194   \n",
       "\n",
       "                     dayofmonth  weekofyear  minutes  monday  tuesday  \\\n",
       "start_hour                                                              \n",
       "2021-08-11 07:00:00          11          32       14     0.0      0.0   \n",
       "2021-08-11 08:00:00          11          32       60     0.0      0.0   \n",
       "2021-08-11 09:00:00          11          32       60     0.0      0.0   \n",
       "2021-08-11 10:00:00          11          32       60     0.0      0.0   \n",
       "2021-08-11 11:00:00          11          32        0     0.0      0.0   \n",
       "...                         ...         ...      ...     ...      ...   \n",
       "2022-07-13 14:00:00          13          28       55     0.0      0.0   \n",
       "2022-07-13 15:00:00          13          28       55     0.0      0.0   \n",
       "2022-07-13 16:00:00          13          28       55     0.0      0.0   \n",
       "2022-07-13 17:00:00          13          28       55     0.0      0.0   \n",
       "2022-07-13 18:00:00          13          28       14     0.0      0.0   \n",
       "\n",
       "                     wednesday  thursday  friday  saturday  sunday  \n",
       "start_hour                                                          \n",
       "2021-08-11 07:00:00        1.0       0.0     0.0       0.0     0.0  \n",
       "2021-08-11 08:00:00        1.0       0.0     0.0       0.0     0.0  \n",
       "2021-08-11 09:00:00        1.0       0.0     0.0       0.0     0.0  \n",
       "2021-08-11 10:00:00        1.0       0.0     0.0       0.0     0.0  \n",
       "2021-08-11 11:00:00        1.0       0.0     0.0       0.0     0.0  \n",
       "...                        ...       ...     ...       ...     ...  \n",
       "2022-07-13 14:00:00        1.0       0.0     0.0       0.0     0.0  \n",
       "2022-07-13 15:00:00        1.0       0.0     0.0       0.0     0.0  \n",
       "2022-07-13 16:00:00        1.0       0.0     0.0       0.0     0.0  \n",
       "2022-07-13 17:00:00        1.0       0.0     0.0       0.0     0.0  \n",
       "2022-07-13 18:00:00        1.0       0.0     0.0       0.0     0.0  \n",
       "\n",
       "[8076 rows x 16 columns]"
      ]
     },
     "execution_count": 229,
     "metadata": {},
     "output_type": "execute_result"
    }
   ],
   "source": [
    "final_df = ft.join(encoder_df)\n",
    "final_df\n",
    "final_df.columns = [\"hour\",\"dayofweek\",\"quarter\",\"month\",\"year\",\"dayofyear\",\"dayofmonth\",\"weekofyear\",\"minutes\",\"monday\",\"tuesday\",\"wednesday\",\"thursday\",\"friday\",\"saturday\",\"sunday\"]\n",
    "final_df"
   ]
  },
  {
   "cell_type": "code",
   "execution_count": 188,
   "id": "6d1c731f",
   "metadata": {},
   "outputs": [
    {
     "data": {
      "text/html": [
       "<table class=\"simpletable\">\n",
       "<caption>SARIMAX Results</caption>\n",
       "<tr>\n",
       "  <th>Dep. Variable:</th>               <td>minutes</td>            <th>  No. Observations:  </th>    <td>7770</td>   \n",
       "</tr>\n",
       "<tr>\n",
       "  <th>Model:</th>           <td>SARIMAX(1, 0, 1)x(1, 0, 1, 24)</td> <th>  Log Likelihood     </th> <td>-29312.492</td>\n",
       "</tr>\n",
       "<tr>\n",
       "  <th>Date:</th>                   <td>Thu, 14 Jul 2022</td>        <th>  AIC                </th>  <td>58648.985</td>\n",
       "</tr>\n",
       "<tr>\n",
       "  <th>Time:</th>                       <td>11:02:44</td>            <th>  BIC                </th>  <td>58732.441</td>\n",
       "</tr>\n",
       "<tr>\n",
       "  <th>Sample:</th>                    <td>08-11-2021</td>           <th>  HQIC               </th>  <td>58677.597</td>\n",
       "</tr>\n",
       "<tr>\n",
       "  <th></th>                          <td>- 07-01-2022</td>          <th>                     </th>      <td> </td>    \n",
       "</tr>\n",
       "<tr>\n",
       "  <th>Covariance Type:</th>               <td>opg</td>              <th>                     </th>      <td> </td>    \n",
       "</tr>\n",
       "</table>\n",
       "<table class=\"simpletable\">\n",
       "<tr>\n",
       "      <td></td>         <th>coef</th>     <th>std err</th>      <th>z</th>      <th>P>|z|</th>  <th>[0.025</th>    <th>0.975]</th>  \n",
       "</tr>\n",
       "<tr>\n",
       "  <th>monday</th>    <td>   19.3508</td> <td>   14.763</td> <td>    1.311</td> <td> 0.190</td> <td>   -9.583</td> <td>   48.285</td>\n",
       "</tr>\n",
       "<tr>\n",
       "  <th>tuesday</th>   <td>   21.8582</td> <td>   14.773</td> <td>    1.480</td> <td> 0.139</td> <td>   -7.097</td> <td>   50.813</td>\n",
       "</tr>\n",
       "<tr>\n",
       "  <th>wednesday</th> <td>   23.0640</td> <td>   14.785</td> <td>    1.560</td> <td> 0.119</td> <td>   -5.915</td> <td>   52.043</td>\n",
       "</tr>\n",
       "<tr>\n",
       "  <th>thursday</th>  <td>   22.9713</td> <td>   14.795</td> <td>    1.553</td> <td> 0.121</td> <td>   -6.026</td> <td>   51.969</td>\n",
       "</tr>\n",
       "<tr>\n",
       "  <th>friday</th>    <td>   20.5725</td> <td>   14.873</td> <td>    1.383</td> <td> 0.167</td> <td>   -8.578</td> <td>   49.723</td>\n",
       "</tr>\n",
       "<tr>\n",
       "  <th>saturday</th>  <td>   14.8007</td> <td>   14.794</td> <td>    1.000</td> <td> 0.317</td> <td>  -14.196</td> <td>   43.797</td>\n",
       "</tr>\n",
       "<tr>\n",
       "  <th>sunday</th>    <td>   13.7371</td> <td>   14.846</td> <td>    0.925</td> <td> 0.355</td> <td>  -15.360</td> <td>   42.835</td>\n",
       "</tr>\n",
       "<tr>\n",
       "  <th>ar.L1</th>     <td>    0.7367</td> <td>    0.009</td> <td>   84.408</td> <td> 0.000</td> <td>    0.720</td> <td>    0.754</td>\n",
       "</tr>\n",
       "<tr>\n",
       "  <th>ma.L1</th>     <td>    0.0648</td> <td>    0.011</td> <td>    5.679</td> <td> 0.000</td> <td>    0.042</td> <td>    0.087</td>\n",
       "</tr>\n",
       "<tr>\n",
       "  <th>ar.S.L24</th>  <td>    0.9986</td> <td>    0.000</td> <td> 3114.749</td> <td> 0.000</td> <td>    0.998</td> <td>    0.999</td>\n",
       "</tr>\n",
       "<tr>\n",
       "  <th>ma.S.L24</th>  <td>   -0.9677</td> <td>    0.002</td> <td> -460.519</td> <td> 0.000</td> <td>   -0.972</td> <td>   -0.964</td>\n",
       "</tr>\n",
       "<tr>\n",
       "  <th>sigma2</th>    <td>  112.6137</td> <td>    1.193</td> <td>   94.386</td> <td> 0.000</td> <td>  110.275</td> <td>  114.952</td>\n",
       "</tr>\n",
       "</table>\n",
       "<table class=\"simpletable\">\n",
       "<tr>\n",
       "  <th>Ljung-Box (L1) (Q):</th>     <td>0.01</td> <th>  Jarque-Bera (JB):  </th> <td>14210.34</td>\n",
       "</tr>\n",
       "<tr>\n",
       "  <th>Prob(Q):</th>                <td>0.92</td> <th>  Prob(JB):          </th>   <td>0.00</td>  \n",
       "</tr>\n",
       "<tr>\n",
       "  <th>Heteroskedasticity (H):</th> <td>0.96</td> <th>  Skew:              </th>   <td>-1.05</td> \n",
       "</tr>\n",
       "<tr>\n",
       "  <th>Prob(H) (two-sided):</th>    <td>0.31</td> <th>  Kurtosis:          </th>   <td>9.30</td>  \n",
       "</tr>\n",
       "</table><br/><br/>Warnings:<br/>[1] Covariance matrix calculated using the outer product of gradients (complex-step)."
      ],
      "text/plain": [
       "<class 'statsmodels.iolib.summary.Summary'>\n",
       "\"\"\"\n",
       "                                     SARIMAX Results                                      \n",
       "==========================================================================================\n",
       "Dep. Variable:                            minutes   No. Observations:                 7770\n",
       "Model:             SARIMAX(1, 0, 1)x(1, 0, 1, 24)   Log Likelihood              -29312.492\n",
       "Date:                            Thu, 14 Jul 2022   AIC                          58648.985\n",
       "Time:                                    11:02:44   BIC                          58732.441\n",
       "Sample:                                08-11-2021   HQIC                         58677.597\n",
       "                                     - 07-01-2022                                         \n",
       "Covariance Type:                              opg                                         \n",
       "==============================================================================\n",
       "                 coef    std err          z      P>|z|      [0.025      0.975]\n",
       "------------------------------------------------------------------------------\n",
       "monday        19.3508     14.763      1.311      0.190      -9.583      48.285\n",
       "tuesday       21.8582     14.773      1.480      0.139      -7.097      50.813\n",
       "wednesday     23.0640     14.785      1.560      0.119      -5.915      52.043\n",
       "thursday      22.9713     14.795      1.553      0.121      -6.026      51.969\n",
       "friday        20.5725     14.873      1.383      0.167      -8.578      49.723\n",
       "saturday      14.8007     14.794      1.000      0.317     -14.196      43.797\n",
       "sunday        13.7371     14.846      0.925      0.355     -15.360      42.835\n",
       "ar.L1          0.7367      0.009     84.408      0.000       0.720       0.754\n",
       "ma.L1          0.0648      0.011      5.679      0.000       0.042       0.087\n",
       "ar.S.L24       0.9986      0.000   3114.749      0.000       0.998       0.999\n",
       "ma.S.L24      -0.9677      0.002   -460.519      0.000      -0.972      -0.964\n",
       "sigma2       112.6137      1.193     94.386      0.000     110.275     114.952\n",
       "===================================================================================\n",
       "Ljung-Box (L1) (Q):                   0.01   Jarque-Bera (JB):             14210.34\n",
       "Prob(Q):                              0.92   Prob(JB):                         0.00\n",
       "Heteroskedasticity (H):               0.96   Skew:                            -1.05\n",
       "Prob(H) (two-sided):                  0.31   Kurtosis:                         9.30\n",
       "===================================================================================\n",
       "\n",
       "Warnings:\n",
       "[1] Covariance matrix calculated using the outer product of gradients (complex-step).\n",
       "\"\"\""
      ]
     },
     "execution_count": 188,
     "metadata": {},
     "output_type": "execute_result"
    }
   ],
   "source": [
    "sarima = sm.tsa.statespace.SARIMAX(ft[:tr_end].minutes,exog = final_df[:tr_end][[\"monday\",\"tuesday\",\"wednesday\",\"thursday\",\"friday\",\"saturday\",\"sunday\"]], order=(1,0,1),seasonal_order=(1,0,1,24),\n",
    "                                enforce_stationarity=False, enforce_invertibility=False,freq='H').fit()\n",
    "sarima.summary()"
   ]
  },
  {
   "cell_type": "code",
   "execution_count": 189,
   "id": "c947168b",
   "metadata": {},
   "outputs": [
    {
     "name": "stdout",
     "output_type": "stream",
     "text": [
      "SARIMA model MSE:311.75866904424237\n"
     ]
    }
   ],
   "source": [
    "exog_forecast = final_df[te_start:te_end][[\"monday\",\"tuesday\",\"wednesday\",\"thursday\",\"friday\",\"saturday\",\"sunday\"]]\n",
    "pred_s = sarima.predict(tr_end,te_end, exog = exog_forecast)[1:]\n",
    "print('SARIMA model MSE:{}'.format(mean_squared_error(ts_test,pred_s)))"
   ]
  },
  {
   "cell_type": "code",
   "execution_count": 197,
   "id": "a44176e9",
   "metadata": {},
   "outputs": [
    {
     "name": "stdout",
     "output_type": "stream",
     "text": [
      "SARIMA model MSE:309.0046364566022\n"
     ]
    }
   ],
   "source": [
    "print('SARIMA model MSE:{}'.format(mean_squared_error(ts_test,pred_s)))"
   ]
  },
  {
   "cell_type": "code",
   "execution_count": 199,
   "id": "b99ca4e4",
   "metadata": {},
   "outputs": [
    {
     "data": {
      "text/plain": [
       "17.578395831246947"
      ]
     },
     "execution_count": 199,
     "metadata": {},
     "output_type": "execute_result"
    }
   ],
   "source": [
    "math.sqrt(309)"
   ]
  },
  {
   "cell_type": "code",
   "execution_count": 194,
   "id": "5113e559",
   "metadata": {
    "scrolled": true
   },
   "outputs": [
    {
     "data": {
      "image/png": "[encoded data removed]",
      "text/plain": [
       "<Figure size 432x288 with 1 Axes>"
      ]
     },
     "metadata": {
      "needs_background": "light"
     },
     "output_type": "display_data"
    }
   ],
   "source": [
    "pred_s = pd.DataFrame(pred_s)\n",
    "pd.DataFrame({'test':ts_test.tail(500).minutes,'pred':pred_s.tail(500).predicted_mean}).plot()\n",
    "plt.show()"
   ]
  },
  {
   "cell_type": "code",
   "execution_count": 193,
   "id": "c9cca4bf",
   "metadata": {},
   "outputs": [
    {
     "data": {
      "text/html": [
       "<div>\n",
       "<style scoped>\n",
       "    .dataframe tbody tr th:only-of-type {\n",
       "        vertical-align: middle;\n",
       "    }\n",
       "\n",
       "    .dataframe tbody tr th {\n",
       "        vertical-align: top;\n",
       "    }\n",
       "\n",
       "    .dataframe thead th {\n",
       "        text-align: right;\n",
       "    }\n",
       "</style>\n",
       "<table border=\"1\" class=\"dataframe\">\n",
       "  <thead>\n",
       "    <tr style=\"text-align: right;\">\n",
       "      <th></th>\n",
       "      <th>predicted_mean</th>\n",
       "    </tr>\n",
       "  </thead>\n",
       "  <tbody>\n",
       "    <tr>\n",
       "      <th>2022-07-01 01:00:00</th>\n",
       "      <td>0.560026</td>\n",
       "    </tr>\n",
       "    <tr>\n",
       "      <th>2022-07-01 02:00:00</th>\n",
       "      <td>0.878697</td>\n",
       "    </tr>\n",
       "    <tr>\n",
       "      <th>2022-07-01 03:00:00</th>\n",
       "      <td>1.113466</td>\n",
       "    </tr>\n",
       "    <tr>\n",
       "      <th>2022-07-01 04:00:00</th>\n",
       "      <td>1.286425</td>\n",
       "    </tr>\n",
       "    <tr>\n",
       "      <th>2022-07-01 05:00:00</th>\n",
       "      <td>1.413847</td>\n",
       "    </tr>\n",
       "    <tr>\n",
       "      <th>...</th>\n",
       "      <td>...</td>\n",
       "    </tr>\n",
       "    <tr>\n",
       "      <th>2022-07-13 14:00:00</th>\n",
       "      <td>48.442059</td>\n",
       "    </tr>\n",
       "    <tr>\n",
       "      <th>2022-07-13 15:00:00</th>\n",
       "      <td>48.076187</td>\n",
       "    </tr>\n",
       "    <tr>\n",
       "      <th>2022-07-13 16:00:00</th>\n",
       "      <td>44.270336</td>\n",
       "    </tr>\n",
       "    <tr>\n",
       "      <th>2022-07-13 17:00:00</th>\n",
       "      <td>30.044941</td>\n",
       "    </tr>\n",
       "    <tr>\n",
       "      <th>2022-07-13 18:00:00</th>\n",
       "      <td>17.894527</td>\n",
       "    </tr>\n",
       "  </tbody>\n",
       "</table>\n",
       "<p>306 rows × 1 columns</p>\n",
       "</div>"
      ],
      "text/plain": [
       "                     predicted_mean\n",
       "2022-07-01 01:00:00        0.560026\n",
       "2022-07-01 02:00:00        0.878697\n",
       "2022-07-01 03:00:00        1.113466\n",
       "2022-07-01 04:00:00        1.286425\n",
       "2022-07-01 05:00:00        1.413847\n",
       "...                             ...\n",
       "2022-07-13 14:00:00       48.442059\n",
       "2022-07-13 15:00:00       48.076187\n",
       "2022-07-13 16:00:00       44.270336\n",
       "2022-07-13 17:00:00       30.044941\n",
       "2022-07-13 18:00:00       17.894527\n",
       "\n",
       "[306 rows x 1 columns]"
      ]
     },
     "execution_count": 193,
     "metadata": {},
     "output_type": "execute_result"
    }
   ],
   "source": [
    "pred_s[pred_s.predicted_mean < 0] = 0\n",
    "pred_s"
   ]
  },
  {
   "cell_type": "code",
   "execution_count": 196,
   "id": "f9f3e51f",
   "metadata": {},
   "outputs": [],
   "source": [
    "pred_s.to_csv(\"Desktop/pred_s.csv\")\n",
    "ts_test.to_csv(\"Desktop/ts_test.csv\")"
   ]
  }
 ],
 "metadata": {
  "kernelspec": {
   "display_name": "Python 3 (ipykernel)",
   "language": "python",
   "name": "python3"
  },
  "language_info": {
   "codemirror_mode": {
    "name": "ipython",
    "version": 3
   },
   "file_extension": ".py",
   "mimetype": "text/x-python",
   "name": "python",
   "nbconvert_exporter": "python",
   "pygments_lexer": "ipython3",
   "version": "3.10.5"
  }
 },
 "nbformat": 4,
 "nbformat_minor": 5
}
