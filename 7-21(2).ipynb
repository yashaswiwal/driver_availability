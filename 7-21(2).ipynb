{
 "cells": [
  {
   "cell_type": "code",
   "execution_count": 1,
   "id": "7f39f24e",
   "metadata": {},
   "outputs": [],
   "source": [
    "#importing all the required libraries and modules\n",
    "import pandas as pd\n",
    "import numpy as np\n",
    "import os\n",
    "import matplotlib.pyplot as plt\n",
    "import seaborn as sns\n",
    "from datetime import datetime, timedelta\n",
    "from pandas.tseries.holiday import USFederalHolidayCalendar\n",
    "import scipy.stats\n",
    "import matplotlib.dates as mdates\n",
    "from google.cloud import bigquery"
   ]
  },
  {
   "cell_type": "code",
   "execution_count": 2,
   "id": "574d8286",
   "metadata": {},
   "outputs": [],
   "source": [
    "#connecting notebook to gcloud bigquery to query data.\n",
    "cred_file = r\"C:\\Users\\V0V01S7\\AppData\\Roaming\\gcloud\\legacy_credentials\\venkatasaiyashaswi.v@walmart.com\\adc.json\"\n",
    "os.environ[\"GOOGLE_APPLICATION_CREDENTIALS\"]=cred_file\n",
    "def query_bq(QUERY):\n",
    "    client = bigquery.Client(project='wmt-edw-sandbox')\n",
    "    query_job = client.query(QUERY) # API request\n",
    "    rows = query_job.result() # Waits for query to finish\n",
    "    df = rows.to_dataframe()\n",
    "    return df"
   ]
  },
  {
   "cell_type": "code",
   "execution_count": 44,
   "id": "ec49bbfd",
   "metadata": {},
   "outputs": [
    {
     "data": {
      "text/html": [
       "<div>\n",
       "<style scoped>\n",
       "    .dataframe tbody tr th:only-of-type {\n",
       "        vertical-align: middle;\n",
       "    }\n",
       "\n",
       "    .dataframe tbody tr th {\n",
       "        vertical-align: top;\n",
       "    }\n",
       "\n",
       "    .dataframe thead th {\n",
       "        text-align: right;\n",
       "    }\n",
       "</style>\n",
       "<table border=\"1\" class=\"dataframe\">\n",
       "  <thead>\n",
       "    <tr style=\"text-align: right;\">\n",
       "      <th></th>\n",
       "      <th>DRVR_USER_ID</th>\n",
       "      <th>MARKET_NM</th>\n",
       "      <th>ACTV_NM</th>\n",
       "      <th>ACTV_START_TS</th>\n",
       "      <th>EXPC_ACTV_END_TS</th>\n",
       "      <th>ACTL_ACTV_END_TS</th>\n",
       "      <th>ACTV_DUR_MIN_QTY</th>\n",
       "      <th>ACTV_DT</th>\n",
       "    </tr>\n",
       "  </thead>\n",
       "  <tbody>\n",
       "    <tr>\n",
       "      <th>0</th>\n",
       "      <td>taboada4@icloud.com</td>\n",
       "      <td>Walmart Chicago</td>\n",
       "      <td>ONLINE</td>\n",
       "      <td>2022-01-01 05:45:07.381</td>\n",
       "      <td>2022-01-01 07:30:00</td>\n",
       "      <td>2022-01-01 06:22:26.588</td>\n",
       "      <td>37.320000000</td>\n",
       "      <td>2022-01-01</td>\n",
       "    </tr>\n",
       "    <tr>\n",
       "      <th>1</th>\n",
       "      <td>baybayturnipseed@icloud.com</td>\n",
       "      <td>Walmart Chicago</td>\n",
       "      <td>ONLINE</td>\n",
       "      <td>2022-01-01 07:05:40.896</td>\n",
       "      <td>2022-01-01 09:00:00</td>\n",
       "      <td>2022-01-01 09:08:23.100</td>\n",
       "      <td>122.720000000</td>\n",
       "      <td>2022-01-01</td>\n",
       "    </tr>\n",
       "    <tr>\n",
       "      <th>2</th>\n",
       "      <td>taboada4@icloud.com</td>\n",
       "      <td>Walmart Chicago</td>\n",
       "      <td>ONLINE</td>\n",
       "      <td>2022-01-01 07:56:57.280</td>\n",
       "      <td>2022-01-01 10:00:00</td>\n",
       "      <td>2022-01-01 11:55:09.370</td>\n",
       "      <td>238.200000000</td>\n",
       "      <td>2022-01-01</td>\n",
       "    </tr>\n",
       "    <tr>\n",
       "      <th>3</th>\n",
       "      <td>daniellebriscoe1982@gmail.com</td>\n",
       "      <td>Walmart Chicago</td>\n",
       "      <td>ONLINE</td>\n",
       "      <td>2022-01-01 09:36:37.655</td>\n",
       "      <td>2022-01-01 11:30:00</td>\n",
       "      <td>2022-01-01 10:28:45.480</td>\n",
       "      <td>52.130000000</td>\n",
       "      <td>2022-01-01</td>\n",
       "    </tr>\n",
       "    <tr>\n",
       "      <th>4</th>\n",
       "      <td>bisitenny@gmail.com</td>\n",
       "      <td>Walmart Chicago</td>\n",
       "      <td>ONLINE</td>\n",
       "      <td>2022-01-01 09:44:17.450</td>\n",
       "      <td>2022-01-01 10:00:00</td>\n",
       "      <td>2022-01-01 09:45:45.439</td>\n",
       "      <td>1.470000000</td>\n",
       "      <td>2022-01-01</td>\n",
       "    </tr>\n",
       "  </tbody>\n",
       "</table>\n",
       "</div>"
      ],
      "text/plain": [
       "                    DRVR_USER_ID        MARKET_NM ACTV_NM  \\\n",
       "0            taboada4@icloud.com  Walmart Chicago  ONLINE   \n",
       "1    baybayturnipseed@icloud.com  Walmart Chicago  ONLINE   \n",
       "2            taboada4@icloud.com  Walmart Chicago  ONLINE   \n",
       "3  daniellebriscoe1982@gmail.com  Walmart Chicago  ONLINE   \n",
       "4            bisitenny@gmail.com  Walmart Chicago  ONLINE   \n",
       "\n",
       "            ACTV_START_TS    EXPC_ACTV_END_TS        ACTL_ACTV_END_TS  \\\n",
       "0 2022-01-01 05:45:07.381 2022-01-01 07:30:00 2022-01-01 06:22:26.588   \n",
       "1 2022-01-01 07:05:40.896 2022-01-01 09:00:00 2022-01-01 09:08:23.100   \n",
       "2 2022-01-01 07:56:57.280 2022-01-01 10:00:00 2022-01-01 11:55:09.370   \n",
       "3 2022-01-01 09:36:37.655 2022-01-01 11:30:00 2022-01-01 10:28:45.480   \n",
       "4 2022-01-01 09:44:17.450 2022-01-01 10:00:00 2022-01-01 09:45:45.439   \n",
       "\n",
       "  ACTV_DUR_MIN_QTY     ACTV_DT  \n",
       "0     37.320000000  2022-01-01  \n",
       "1    122.720000000  2022-01-01  \n",
       "2    238.200000000  2022-01-01  \n",
       "3     52.130000000  2022-01-01  \n",
       "4      1.470000000  2022-01-01  "
      ]
     },
     "execution_count": 44,
     "metadata": {},
     "output_type": "execute_result"
    }
   ],
   "source": [
    "code = \"\"\"select A.DRVR_USER_ID, A.MARKET_NM, \n",
    "B.ACTV_NM, B.ACTV_START_TS, B.EXPC_ACTV_END_TS, B.ACTL_ACTV_END_TS, B.ACTV_DUR_MIN_QTY, B.ACTV_DT, \n",
    "from `wmt-edw-prod.WW_GEC_VM.DRVR` A inner join `wmt-edw-prod.WW_GEC_VM.DRVR_APPLN_ACTV` B on A.DRVR_USER_ID = B.DRVR_USER_ID\n",
    "where A.MARKET_NM = 'Walmart Chicago' and B.ACTV_NM = \"ONLINE\" AND B.ACTV_START_TS BETWEEN \"2022-01-01\" AND \"2022-07-18\"\n",
    "ORDER BY B.ACTV_START_TS \"\"\"\n",
    "df = query_bq(code)\n",
    "df[\"ACTV_START_TS\"] = pd.to_datetime(df[\"ACTV_START_TS\"])\n",
    "df[\"ACTL_ACTV_END_TS\"] = pd.to_datetime(df[\"ACTL_ACTV_END_TS\"])\n",
    "df[\"ACTV_START_TS\"] = df[\"ACTV_START_TS\"] + pd.Timedelta(hours=2) #converting pacific time to eastern time (orlando market)\n",
    "df[\"ACTL_ACTV_END_TS\"] = df[\"ACTL_ACTV_END_TS\"] + pd.Timedelta(hours=2)\n",
    "df.head()"
   ]
  },
  {
   "cell_type": "code",
   "execution_count": 19,
   "id": "d38671ef",
   "metadata": {},
   "outputs": [
    {
     "data": {
      "text/plain": [
       "0       87.420000000\n",
       "1      117.380000000\n",
       "2       14.430000000\n",
       "3      193.920000000\n",
       "4        6.870000000\n",
       "           ...      \n",
       "248      6.280000000\n",
       "249    152.950000000\n",
       "250      2.020000000\n",
       "251    178.820000000\n",
       "252      2.600000000\n",
       "Name: ACTV_DUR_MIN_QTY, Length: 253, dtype: object"
      ]
     },
     "execution_count": 19,
     "metadata": {},
     "output_type": "execute_result"
    }
   ],
   "source": [
    "df.loc[(df[\"ACTV_START_TS\"] >= \"2022-07-11\") & (df[\"ACTV_START_TS\"] <= \"2022-07-15\")][\"ACTV_DUR_MIN_QTY\"]"
   ]
  },
  {
   "cell_type": "code",
   "execution_count": 36,
   "id": "37176eb5",
   "metadata": {},
   "outputs": [],
   "source": [
    "df = df.loc[df[\"ACTV_DUR_MIN_QTY\"]>0]"
   ]
  },
  {
   "cell_type": "code",
   "execution_count": 30,
   "id": "fb52923d",
   "metadata": {},
   "outputs": [
    {
     "data": {
      "text/plain": [
       "92.84849315068493"
      ]
     },
     "execution_count": 30,
     "metadata": {},
     "output_type": "execute_result"
    }
   ],
   "source": [
    "df.loc[(df[\"ACTV_START_TS\"] >= \"2022-07-11\") & (df[\"ACTV_START_TS\"] <= \"2022-07-15\")][\"ACTV_DUR_MIN_QTY\"].mean()"
   ]
  },
  {
   "cell_type": "code",
   "execution_count": 31,
   "id": "0ca3d670",
   "metadata": {},
   "outputs": [
    {
     "data": {
      "text/plain": [
       "79.51313725490196"
      ]
     },
     "execution_count": 31,
     "metadata": {},
     "output_type": "execute_result"
    }
   ],
   "source": [
    "df.loc[(df[\"ACTV_START_TS\"] >= \"2022-07-16\") & (df[\"ACTV_START_TS\"] <= \"2022-07-17\")][\"ACTV_DUR_MIN_QTY\"].mean()"
   ]
  },
  {
   "cell_type": "code",
   "execution_count": 32,
   "id": "3e0826df",
   "metadata": {},
   "outputs": [
    {
     "data": {
      "text/plain": [
       "73.8709090909091"
      ]
     },
     "execution_count": 32,
     "metadata": {},
     "output_type": "execute_result"
    }
   ],
   "source": [
    "df.loc[(df[\"ACTV_START_TS\"] >= \"2022-07-04\") & (df[\"ACTV_START_TS\"] <= \"2022-07-08\")][\"ACTV_DUR_MIN_QTY\"].mean()"
   ]
  },
  {
   "cell_type": "code",
   "execution_count": 33,
   "id": "f418c8fe",
   "metadata": {},
   "outputs": [
    {
     "data": {
      "text/plain": [
       "99.47200000000001"
      ]
     },
     "execution_count": 33,
     "metadata": {},
     "output_type": "execute_result"
    }
   ],
   "source": [
    "df.loc[(df[\"ACTV_START_TS\"] >= \"2022-07-09\") & (df[\"ACTV_START_TS\"] <= \"2022-07-10\")][\"ACTV_DUR_MIN_QTY\"].mean()"
   ]
  },
  {
   "cell_type": "code",
   "execution_count": 37,
   "id": "6980f73d",
   "metadata": {},
   "outputs": [
    {
     "data": {
      "text/plain": [
       "86.65798994974874"
      ]
     },
     "execution_count": 37,
     "metadata": {},
     "output_type": "execute_result"
    }
   ],
   "source": [
    "df.loc[(df[\"ACTV_START_TS\"] >= \"2022-06-27\") & (df[\"ACTV_START_TS\"] <= \"2022-07-01\")][\"ACTV_DUR_MIN_QTY\"].mean()"
   ]
  },
  {
   "cell_type": "code",
   "execution_count": 38,
   "id": "a727ebf6",
   "metadata": {},
   "outputs": [
    {
     "data": {
      "text/plain": [
       "70.2445"
      ]
     },
     "execution_count": 38,
     "metadata": {},
     "output_type": "execute_result"
    }
   ],
   "source": [
    "df.loc[(df[\"ACTV_START_TS\"] >= \"2022-07-02\") & (df[\"ACTV_START_TS\"] <= \"2022-07-03\")][\"ACTV_DUR_MIN_QTY\"].mean()"
   ]
  },
  {
   "cell_type": "code",
   "execution_count": 39,
   "id": "8cc95c31",
   "metadata": {},
   "outputs": [
    {
     "data": {
      "text/plain": [
       "81.93533333333332"
      ]
     },
     "execution_count": 39,
     "metadata": {},
     "output_type": "execute_result"
    }
   ],
   "source": [
    "df.loc[(df[\"ACTV_START_TS\"] >= \"2022-06-20\") & (df[\"ACTV_START_TS\"] <= \"2022-06-24\")][\"ACTV_DUR_MIN_QTY\"].mean()"
   ]
  },
  {
   "cell_type": "code",
   "execution_count": 40,
   "id": "265e0b6e",
   "metadata": {},
   "outputs": [
    {
     "data": {
      "text/plain": [
       "76.18838709677419"
      ]
     },
     "execution_count": 40,
     "metadata": {},
     "output_type": "execute_result"
    }
   ],
   "source": [
    "df.loc[(df[\"ACTV_START_TS\"] >= \"2022-06-25\") & (df[\"ACTV_START_TS\"] <= \"2022-06-26\")][\"ACTV_DUR_MIN_QTY\"].mean()"
   ]
  },
  {
   "cell_type": "code",
   "execution_count": 42,
   "id": "5241f236",
   "metadata": {},
   "outputs": [
    {
     "data": {
      "text/plain": [
       "245"
      ]
     },
     "execution_count": 42,
     "metadata": {},
     "output_type": "execute_result"
    }
   ],
   "source": [
    "len(df.loc[df[\"ACTV_DUR_MIN_QTY\"]<0])"
   ]
  },
  {
   "cell_type": "code",
   "execution_count": 48,
   "id": "5170a224",
   "metadata": {},
   "outputs": [
    {
     "data": {
      "text/html": [
       "<div>\n",
       "<style scoped>\n",
       "    .dataframe tbody tr th:only-of-type {\n",
       "        vertical-align: middle;\n",
       "    }\n",
       "\n",
       "    .dataframe tbody tr th {\n",
       "        vertical-align: top;\n",
       "    }\n",
       "\n",
       "    .dataframe thead th {\n",
       "        text-align: right;\n",
       "    }\n",
       "</style>\n",
       "<table border=\"1\" class=\"dataframe\">\n",
       "  <thead>\n",
       "    <tr style=\"text-align: right;\">\n",
       "      <th></th>\n",
       "      <th>DRVR_USER_ID</th>\n",
       "      <th>MARKET_NM</th>\n",
       "      <th>ACTV_NM</th>\n",
       "      <th>ACTV_START_TS</th>\n",
       "      <th>EXPC_ACTV_END_TS</th>\n",
       "      <th>ACTL_ACTV_END_TS</th>\n",
       "      <th>ACTV_DUR_MIN_QTY</th>\n",
       "      <th>ACTV_DT</th>\n",
       "    </tr>\n",
       "  </thead>\n",
       "  <tbody>\n",
       "    <tr>\n",
       "      <th>6056</th>\n",
       "      <td>carvilservice@gmail.com</td>\n",
       "      <td>Walmart Chicago</td>\n",
       "      <td>ONLINE</td>\n",
       "      <td>2022-03-15 04:03:43.304</td>\n",
       "      <td>2022-03-14 16:30:00</td>\n",
       "      <td>2022-03-14 18:30:00</td>\n",
       "      <td>-573.720000000</td>\n",
       "      <td>2022-03-15</td>\n",
       "    </tr>\n",
       "    <tr>\n",
       "      <th>6057</th>\n",
       "      <td>carvilservice@gmail.com</td>\n",
       "      <td>Walmart Chicago</td>\n",
       "      <td>ONLINE</td>\n",
       "      <td>2022-03-15 04:03:46.276</td>\n",
       "      <td>2022-03-14 16:30:00</td>\n",
       "      <td>2022-03-14 18:30:00</td>\n",
       "      <td>-573.770000000</td>\n",
       "      <td>2022-03-15</td>\n",
       "    </tr>\n",
       "    <tr>\n",
       "      <th>6058</th>\n",
       "      <td>nwamina.philip@gmail.com</td>\n",
       "      <td>Walmart Chicago</td>\n",
       "      <td>ONLINE</td>\n",
       "      <td>2022-03-15 04:05:03.488</td>\n",
       "      <td>2022-03-14 20:00:00</td>\n",
       "      <td>2022-03-14 22:00:00</td>\n",
       "      <td>-365.050000000</td>\n",
       "      <td>2022-03-15</td>\n",
       "    </tr>\n",
       "    <tr>\n",
       "      <th>6339</th>\n",
       "      <td>sparkwalmart1@gmail.com</td>\n",
       "      <td>Walmart Chicago</td>\n",
       "      <td>ONLINE</td>\n",
       "      <td>2022-03-17 12:02:31.185</td>\n",
       "      <td>2022-03-16 13:00:00</td>\n",
       "      <td>2022-03-16 15:00:00</td>\n",
       "      <td>-1262.520000000</td>\n",
       "      <td>2022-03-17</td>\n",
       "    </tr>\n",
       "    <tr>\n",
       "      <th>6340</th>\n",
       "      <td>sparkwalmart1@gmail.com</td>\n",
       "      <td>Walmart Chicago</td>\n",
       "      <td>ONLINE</td>\n",
       "      <td>2022-03-17 12:02:31.185</td>\n",
       "      <td>2022-03-16 13:00:00</td>\n",
       "      <td>2022-03-16 15:00:00</td>\n",
       "      <td>-1262.520000000</td>\n",
       "      <td>2022-03-17</td>\n",
       "    </tr>\n",
       "    <tr>\n",
       "      <th>...</th>\n",
       "      <td>...</td>\n",
       "      <td>...</td>\n",
       "      <td>...</td>\n",
       "      <td>...</td>\n",
       "      <td>...</td>\n",
       "      <td>...</td>\n",
       "      <td>...</td>\n",
       "      <td>...</td>\n",
       "    </tr>\n",
       "    <tr>\n",
       "      <th>14540</th>\n",
       "      <td>davidduran91@icloud.com</td>\n",
       "      <td>Walmart Chicago</td>\n",
       "      <td>ONLINE</td>\n",
       "      <td>2022-07-14 12:23:33.818</td>\n",
       "      <td>2022-05-23 11:30:00</td>\n",
       "      <td>2022-05-23 13:30:00</td>\n",
       "      <td>-74813.550000000</td>\n",
       "      <td>2022-07-14</td>\n",
       "    </tr>\n",
       "    <tr>\n",
       "      <th>14541</th>\n",
       "      <td>davidduran91@icloud.com</td>\n",
       "      <td>Walmart Chicago</td>\n",
       "      <td>ONLINE</td>\n",
       "      <td>2022-07-14 12:23:36.012</td>\n",
       "      <td>2022-05-23 11:30:00</td>\n",
       "      <td>2022-05-23 13:30:00</td>\n",
       "      <td>-74813.600000000</td>\n",
       "      <td>2022-07-14</td>\n",
       "    </tr>\n",
       "    <tr>\n",
       "      <th>14542</th>\n",
       "      <td>davidduran91@icloud.com</td>\n",
       "      <td>Walmart Chicago</td>\n",
       "      <td>ONLINE</td>\n",
       "      <td>2022-07-14 12:23:37.836</td>\n",
       "      <td>2022-05-23 11:30:00</td>\n",
       "      <td>2022-05-23 13:30:00</td>\n",
       "      <td>-74813.620000000</td>\n",
       "      <td>2022-07-14</td>\n",
       "    </tr>\n",
       "    <tr>\n",
       "      <th>14686</th>\n",
       "      <td>bdale83@gmail.com</td>\n",
       "      <td>Walmart Chicago</td>\n",
       "      <td>ONLINE</td>\n",
       "      <td>2022-07-17 14:39:51.908</td>\n",
       "      <td>2021-04-12 08:30:00</td>\n",
       "      <td>2021-04-12 10:30:00</td>\n",
       "      <td>-664089.850000000</td>\n",
       "      <td>2022-07-17</td>\n",
       "    </tr>\n",
       "    <tr>\n",
       "      <th>14696</th>\n",
       "      <td>jbrye85@gmail.com</td>\n",
       "      <td>Walmart Chicago</td>\n",
       "      <td>ONLINE</td>\n",
       "      <td>2022-07-17 18:15:35.931</td>\n",
       "      <td>2022-07-14 10:30:00</td>\n",
       "      <td>2022-07-14 12:30:00</td>\n",
       "      <td>-4665.580000000</td>\n",
       "      <td>2022-07-17</td>\n",
       "    </tr>\n",
       "  </tbody>\n",
       "</table>\n",
       "<p>245 rows × 8 columns</p>\n",
       "</div>"
      ],
      "text/plain": [
       "                   DRVR_USER_ID        MARKET_NM ACTV_NM  \\\n",
       "6056    carvilservice@gmail.com  Walmart Chicago  ONLINE   \n",
       "6057    carvilservice@gmail.com  Walmart Chicago  ONLINE   \n",
       "6058   nwamina.philip@gmail.com  Walmart Chicago  ONLINE   \n",
       "6339    sparkwalmart1@gmail.com  Walmart Chicago  ONLINE   \n",
       "6340    sparkwalmart1@gmail.com  Walmart Chicago  ONLINE   \n",
       "...                         ...              ...     ...   \n",
       "14540   davidduran91@icloud.com  Walmart Chicago  ONLINE   \n",
       "14541   davidduran91@icloud.com  Walmart Chicago  ONLINE   \n",
       "14542   davidduran91@icloud.com  Walmart Chicago  ONLINE   \n",
       "14686         bdale83@gmail.com  Walmart Chicago  ONLINE   \n",
       "14696         jbrye85@gmail.com  Walmart Chicago  ONLINE   \n",
       "\n",
       "                ACTV_START_TS    EXPC_ACTV_END_TS    ACTL_ACTV_END_TS  \\\n",
       "6056  2022-03-15 04:03:43.304 2022-03-14 16:30:00 2022-03-14 18:30:00   \n",
       "6057  2022-03-15 04:03:46.276 2022-03-14 16:30:00 2022-03-14 18:30:00   \n",
       "6058  2022-03-15 04:05:03.488 2022-03-14 20:00:00 2022-03-14 22:00:00   \n",
       "6339  2022-03-17 12:02:31.185 2022-03-16 13:00:00 2022-03-16 15:00:00   \n",
       "6340  2022-03-17 12:02:31.185 2022-03-16 13:00:00 2022-03-16 15:00:00   \n",
       "...                       ...                 ...                 ...   \n",
       "14540 2022-07-14 12:23:33.818 2022-05-23 11:30:00 2022-05-23 13:30:00   \n",
       "14541 2022-07-14 12:23:36.012 2022-05-23 11:30:00 2022-05-23 13:30:00   \n",
       "14542 2022-07-14 12:23:37.836 2022-05-23 11:30:00 2022-05-23 13:30:00   \n",
       "14686 2022-07-17 14:39:51.908 2021-04-12 08:30:00 2021-04-12 10:30:00   \n",
       "14696 2022-07-17 18:15:35.931 2022-07-14 10:30:00 2022-07-14 12:30:00   \n",
       "\n",
       "        ACTV_DUR_MIN_QTY     ACTV_DT  \n",
       "6056      -573.720000000  2022-03-15  \n",
       "6057      -573.770000000  2022-03-15  \n",
       "6058      -365.050000000  2022-03-15  \n",
       "6339     -1262.520000000  2022-03-17  \n",
       "6340     -1262.520000000  2022-03-17  \n",
       "...                  ...         ...  \n",
       "14540   -74813.550000000  2022-07-14  \n",
       "14541   -74813.600000000  2022-07-14  \n",
       "14542   -74813.620000000  2022-07-14  \n",
       "14686  -664089.850000000  2022-07-17  \n",
       "14696    -4665.580000000  2022-07-17  \n",
       "\n",
       "[245 rows x 8 columns]"
      ]
     },
     "execution_count": 48,
     "metadata": {},
     "output_type": "execute_result"
    }
   ],
   "source": [
    "df.loc[(df[\"ACTV_DUR_MIN_QTY\"]<0)]"
   ]
  }
 ],
 "metadata": {
  "kernelspec": {
   "display_name": "Python 3 (ipykernel)",
   "language": "python",
   "name": "python3"
  },
  "language_info": {
   "codemirror_mode": {
    "name": "ipython",
    "version": 3
   },
   "file_extension": ".py",
   "mimetype": "text/x-python",
   "name": "python",
   "nbconvert_exporter": "python",
   "pygments_lexer": "ipython3",
   "version": "3.10.5"
  }
 },
 "nbformat": 4,
 "nbformat_minor": 5
}
