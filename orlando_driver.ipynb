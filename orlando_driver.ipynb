{
 "cells": [
  {
   "cell_type": "code",
   "execution_count": 127,
   "id": "3c972c79",
   "metadata": {},
   "outputs": [],
   "source": [
    "import pandas as pd\n",
    "import numpy as np\n",
    "import matplotlib.pylab as plt\n",
    "import matplotlib as mpl\n",
    "%matplotlib inline"
   ]
  },
  {
   "cell_type": "code",
   "execution_count": 6,
   "id": "50770a70",
   "metadata": {},
   "outputs": [],
   "source": [
    "data = pd.read_csv(r'C:\\Users\\V0V01S7\\Downloads\\bquxjob_792c1722_181872f0f81.csv')"
   ]
  },
  {
   "cell_type": "code",
   "execution_count": 7,
   "id": "e07b92ab",
   "metadata": {},
   "outputs": [
    {
     "data": {
      "text/html": [
       "<div>\n",
       "<style scoped>\n",
       "    .dataframe tbody tr th:only-of-type {\n",
       "        vertical-align: middle;\n",
       "    }\n",
       "\n",
       "    .dataframe tbody tr th {\n",
       "        vertical-align: top;\n",
       "    }\n",
       "\n",
       "    .dataframe thead th {\n",
       "        text-align: right;\n",
       "    }\n",
       "</style>\n",
       "<table border=\"1\" class=\"dataframe\">\n",
       "  <thead>\n",
       "    <tr style=\"text-align: right;\">\n",
       "      <th></th>\n",
       "      <th>DRVR_USER_ID</th>\n",
       "      <th>ACTV_TYPE_NM</th>\n",
       "      <th>ACTV_NM</th>\n",
       "      <th>ACTV_START_TS_UTC</th>\n",
       "      <th>ACTV_START_TS</th>\n",
       "      <th>EXPC_ACTV_END_TS_UTC</th>\n",
       "      <th>EXPC_ACTV_END_TS</th>\n",
       "      <th>ACTL_ACTV_END_TS_UTC</th>\n",
       "      <th>ACTL_ACTV_END_TS</th>\n",
       "      <th>ACTV_DUR_MIN_QTY</th>\n",
       "      <th>...</th>\n",
       "      <th>DATA_SRC_CD</th>\n",
       "      <th>SRC_RCV_TS_UTC</th>\n",
       "      <th>SRC_RCV_TS</th>\n",
       "      <th>TZ_CD</th>\n",
       "      <th>CREATE_TS_UTC</th>\n",
       "      <th>CREATE_TS</th>\n",
       "      <th>UPD_TS_UTC</th>\n",
       "      <th>UPD_TS</th>\n",
       "      <th>CREATE_USER</th>\n",
       "      <th>UPD_USER</th>\n",
       "    </tr>\n",
       "  </thead>\n",
       "  <tbody>\n",
       "    <tr>\n",
       "      <th>0</th>\n",
       "      <td>yesenia_leal_89@hotmail.com</td>\n",
       "      <td>BOOSTER_OFFER</td>\n",
       "      <td>ONLINE</td>\n",
       "      <td>2021-08-20T18:22:01.958Z</td>\n",
       "      <td>2021-08-20T11:22:01.958000</td>\n",
       "      <td>2021-08-20T22:30:00Z</td>\n",
       "      <td>2021-08-20T15:30:00</td>\n",
       "      <td>2021-08-20T18:46:24.031Z</td>\n",
       "      <td>2021-08-20T11:46:24.031000</td>\n",
       "      <td>24.38</td>\n",
       "      <td>...</td>\n",
       "      <td>DMS</td>\n",
       "      <td>2021-08-21T08:04:15.747Z</td>\n",
       "      <td>2021-08-21T01:04:15.747000</td>\n",
       "      <td>UTC</td>\n",
       "      <td>2021-08-21T08:04:15.747Z</td>\n",
       "      <td>2021-08-21T01:04:15.747000</td>\n",
       "      <td>2021-08-21T08:04:15.747Z</td>\n",
       "      <td>2021-08-21T01:04:15.747000</td>\n",
       "      <td>SVCLMDDATS</td>\n",
       "      <td>SVCLMDDATS</td>\n",
       "    </tr>\n",
       "    <tr>\n",
       "      <th>1</th>\n",
       "      <td>yesenia_leal_89@hotmail.com</td>\n",
       "      <td>BOOSTER_OFFER</td>\n",
       "      <td>ONLINE</td>\n",
       "      <td>2021-08-20T16:33:13.767Z</td>\n",
       "      <td>2021-08-20T09:33:13.767000</td>\n",
       "      <td>2021-08-20T20:30:00Z</td>\n",
       "      <td>2021-08-20T13:30:00</td>\n",
       "      <td>2021-08-20T18:21:53.115Z</td>\n",
       "      <td>2021-08-20T11:21:53.115000</td>\n",
       "      <td>108.67</td>\n",
       "      <td>...</td>\n",
       "      <td>DMS</td>\n",
       "      <td>2021-08-21T08:04:15.747Z</td>\n",
       "      <td>2021-08-21T01:04:15.747000</td>\n",
       "      <td>UTC</td>\n",
       "      <td>2021-08-21T08:04:15.747Z</td>\n",
       "      <td>2021-08-21T01:04:15.747000</td>\n",
       "      <td>2021-08-21T08:04:15.747Z</td>\n",
       "      <td>2021-08-21T01:04:15.747000</td>\n",
       "      <td>SVCLMDDATS</td>\n",
       "      <td>SVCLMDDATS</td>\n",
       "    </tr>\n",
       "    <tr>\n",
       "      <th>2</th>\n",
       "      <td>yesenia_leal_89@hotmail.com</td>\n",
       "      <td>BOOSTER_OFFER</td>\n",
       "      <td>ONLINE</td>\n",
       "      <td>2021-08-20T23:07:48.314Z</td>\n",
       "      <td>2021-08-20T16:07:48.314000</td>\n",
       "      <td>2021-08-21T02:00:00Z</td>\n",
       "      <td>2021-08-20T19:00:00</td>\n",
       "      <td>2021-08-20T23:10:30.310Z</td>\n",
       "      <td>2021-08-20T16:10:30.310000</td>\n",
       "      <td>2.70</td>\n",
       "      <td>...</td>\n",
       "      <td>DMS</td>\n",
       "      <td>2021-08-21T08:04:15.747Z</td>\n",
       "      <td>2021-08-21T01:04:15.747000</td>\n",
       "      <td>UTC</td>\n",
       "      <td>2021-08-21T08:04:15.747Z</td>\n",
       "      <td>2021-08-21T01:04:15.747000</td>\n",
       "      <td>2021-08-21T08:04:15.747Z</td>\n",
       "      <td>2021-08-21T01:04:15.747000</td>\n",
       "      <td>SVCLMDDATS</td>\n",
       "      <td>SVCLMDDATS</td>\n",
       "    </tr>\n",
       "    <tr>\n",
       "      <th>3</th>\n",
       "      <td>yesenia_leal_89@hotmail.com</td>\n",
       "      <td>BOOSTER_OFFER</td>\n",
       "      <td>ONLINE</td>\n",
       "      <td>2021-08-20T23:40:19.276Z</td>\n",
       "      <td>2021-08-20T16:40:19.276000</td>\n",
       "      <td>2021-08-21T02:00:00Z</td>\n",
       "      <td>2021-08-20T19:00:00</td>\n",
       "      <td>2021-08-21T01:11:47.686Z</td>\n",
       "      <td>2021-08-20T18:11:47.686000</td>\n",
       "      <td>91.47</td>\n",
       "      <td>...</td>\n",
       "      <td>DMS</td>\n",
       "      <td>2021-08-21T08:04:15.747Z</td>\n",
       "      <td>2021-08-21T01:04:15.747000</td>\n",
       "      <td>UTC</td>\n",
       "      <td>2021-08-21T08:04:15.747Z</td>\n",
       "      <td>2021-08-21T01:04:15.747000</td>\n",
       "      <td>2021-08-21T08:04:15.747Z</td>\n",
       "      <td>2021-08-21T01:04:15.747000</td>\n",
       "      <td>SVCLMDDATS</td>\n",
       "      <td>SVCLMDDATS</td>\n",
       "    </tr>\n",
       "    <tr>\n",
       "      <th>4</th>\n",
       "      <td>yesenia_leal_89@hotmail.com</td>\n",
       "      <td>BOOSTER_OFFER</td>\n",
       "      <td>ONLINE</td>\n",
       "      <td>2021-08-20T16:10:23.666Z</td>\n",
       "      <td>2021-08-20T09:10:23.666000</td>\n",
       "      <td>2021-08-20T20:00:00Z</td>\n",
       "      <td>2021-08-20T13:00:00</td>\n",
       "      <td>2021-08-20T16:12:37.247Z</td>\n",
       "      <td>2021-08-20T09:12:37.247000</td>\n",
       "      <td>2.23</td>\n",
       "      <td>...</td>\n",
       "      <td>DMS</td>\n",
       "      <td>2021-08-21T08:04:15.747Z</td>\n",
       "      <td>2021-08-21T01:04:15.747000</td>\n",
       "      <td>UTC</td>\n",
       "      <td>2021-08-21T08:04:15.747Z</td>\n",
       "      <td>2021-08-21T01:04:15.747000</td>\n",
       "      <td>2021-08-21T08:04:15.747Z</td>\n",
       "      <td>2021-08-21T01:04:15.747000</td>\n",
       "      <td>SVCLMDDATS</td>\n",
       "      <td>SVCLMDDATS</td>\n",
       "    </tr>\n",
       "  </tbody>\n",
       "</table>\n",
       "<p>5 rows × 22 columns</p>\n",
       "</div>"
      ],
      "text/plain": [
       "                  DRVR_USER_ID   ACTV_TYPE_NM ACTV_NM  \\\n",
       "0  yesenia_leal_89@hotmail.com  BOOSTER_OFFER  ONLINE   \n",
       "1  yesenia_leal_89@hotmail.com  BOOSTER_OFFER  ONLINE   \n",
       "2  yesenia_leal_89@hotmail.com  BOOSTER_OFFER  ONLINE   \n",
       "3  yesenia_leal_89@hotmail.com  BOOSTER_OFFER  ONLINE   \n",
       "4  yesenia_leal_89@hotmail.com  BOOSTER_OFFER  ONLINE   \n",
       "\n",
       "          ACTV_START_TS_UTC               ACTV_START_TS  EXPC_ACTV_END_TS_UTC  \\\n",
       "0  2021-08-20T18:22:01.958Z  2021-08-20T11:22:01.958000  2021-08-20T22:30:00Z   \n",
       "1  2021-08-20T16:33:13.767Z  2021-08-20T09:33:13.767000  2021-08-20T20:30:00Z   \n",
       "2  2021-08-20T23:07:48.314Z  2021-08-20T16:07:48.314000  2021-08-21T02:00:00Z   \n",
       "3  2021-08-20T23:40:19.276Z  2021-08-20T16:40:19.276000  2021-08-21T02:00:00Z   \n",
       "4  2021-08-20T16:10:23.666Z  2021-08-20T09:10:23.666000  2021-08-20T20:00:00Z   \n",
       "\n",
       "      EXPC_ACTV_END_TS      ACTL_ACTV_END_TS_UTC            ACTL_ACTV_END_TS  \\\n",
       "0  2021-08-20T15:30:00  2021-08-20T18:46:24.031Z  2021-08-20T11:46:24.031000   \n",
       "1  2021-08-20T13:30:00  2021-08-20T18:21:53.115Z  2021-08-20T11:21:53.115000   \n",
       "2  2021-08-20T19:00:00  2021-08-20T23:10:30.310Z  2021-08-20T16:10:30.310000   \n",
       "3  2021-08-20T19:00:00  2021-08-21T01:11:47.686Z  2021-08-20T18:11:47.686000   \n",
       "4  2021-08-20T13:00:00  2021-08-20T16:12:37.247Z  2021-08-20T09:12:37.247000   \n",
       "\n",
       "   ACTV_DUR_MIN_QTY  ... DATA_SRC_CD            SRC_RCV_TS_UTC  \\\n",
       "0             24.38  ...         DMS  2021-08-21T08:04:15.747Z   \n",
       "1            108.67  ...         DMS  2021-08-21T08:04:15.747Z   \n",
       "2              2.70  ...         DMS  2021-08-21T08:04:15.747Z   \n",
       "3             91.47  ...         DMS  2021-08-21T08:04:15.747Z   \n",
       "4              2.23  ...         DMS  2021-08-21T08:04:15.747Z   \n",
       "\n",
       "                   SRC_RCV_TS TZ_CD             CREATE_TS_UTC  \\\n",
       "0  2021-08-21T01:04:15.747000   UTC  2021-08-21T08:04:15.747Z   \n",
       "1  2021-08-21T01:04:15.747000   UTC  2021-08-21T08:04:15.747Z   \n",
       "2  2021-08-21T01:04:15.747000   UTC  2021-08-21T08:04:15.747Z   \n",
       "3  2021-08-21T01:04:15.747000   UTC  2021-08-21T08:04:15.747Z   \n",
       "4  2021-08-21T01:04:15.747000   UTC  2021-08-21T08:04:15.747Z   \n",
       "\n",
       "                    CREATE_TS                UPD_TS_UTC  \\\n",
       "0  2021-08-21T01:04:15.747000  2021-08-21T08:04:15.747Z   \n",
       "1  2021-08-21T01:04:15.747000  2021-08-21T08:04:15.747Z   \n",
       "2  2021-08-21T01:04:15.747000  2021-08-21T08:04:15.747Z   \n",
       "3  2021-08-21T01:04:15.747000  2021-08-21T08:04:15.747Z   \n",
       "4  2021-08-21T01:04:15.747000  2021-08-21T08:04:15.747Z   \n",
       "\n",
       "                       UPD_TS CREATE_USER    UPD_USER  \n",
       "0  2021-08-21T01:04:15.747000  SVCLMDDATS  SVCLMDDATS  \n",
       "1  2021-08-21T01:04:15.747000  SVCLMDDATS  SVCLMDDATS  \n",
       "2  2021-08-21T01:04:15.747000  SVCLMDDATS  SVCLMDDATS  \n",
       "3  2021-08-21T01:04:15.747000  SVCLMDDATS  SVCLMDDATS  \n",
       "4  2021-08-21T01:04:15.747000  SVCLMDDATS  SVCLMDDATS  \n",
       "\n",
       "[5 rows x 22 columns]"
      ]
     },
     "execution_count": 7,
     "metadata": {},
     "output_type": "execute_result"
    }
   ],
   "source": [
    "data.head()"
   ]
  },
  {
   "cell_type": "code",
   "execution_count": 10,
   "id": "aa23e1ae",
   "metadata": {},
   "outputs": [
    {
     "name": "stdout",
     "output_type": "stream",
     "text": [
      "datetime64[ns]\n"
     ]
    }
   ],
   "source": [
    "from datetime import datetime\n",
    "data['ACTV_START_TS'] = pd.to_datetime(data['ACTV_START_TS'])\n",
    "print(data['ACTV_START_TS'].dtypes)"
   ]
  },
  {
   "cell_type": "code",
   "execution_count": 97,
   "id": "be3d9441",
   "metadata": {},
   "outputs": [],
   "source": [
    "data = data.reset_index(drop=True)"
   ]
  },
  {
   "cell_type": "code",
   "execution_count": 98,
   "id": "5ac6c7f2",
   "metadata": {},
   "outputs": [
    {
     "data": {
      "text/plain": [
       "0   2021-08-20 11:22:01.958\n",
       "1   2021-08-20 09:33:13.767\n",
       "2   2021-08-20 16:07:48.314\n",
       "3   2021-08-20 16:40:19.276\n",
       "4   2021-08-20 09:10:23.666\n",
       "Name: ACTV_START_TS, dtype: datetime64[ns]"
      ]
     },
     "execution_count": 98,
     "metadata": {},
     "output_type": "execute_result"
    }
   ],
   "source": [
    "data['ACTV_START_TS'].head()"
   ]
  },
  {
   "cell_type": "code",
   "execution_count": 99,
   "id": "174a888f",
   "metadata": {},
   "outputs": [
    {
     "data": {
      "text/plain": [
       "1881"
      ]
     },
     "execution_count": 99,
     "metadata": {},
     "output_type": "execute_result"
    }
   ],
   "source": [
    "data = data.dropna()\n",
    "len(data)"
   ]
  },
  {
   "cell_type": "code",
   "execution_count": 101,
   "id": "b66a014d",
   "metadata": {},
   "outputs": [],
   "source": [
    "ts = data['ACTV_START_TS']\n"
   ]
  },
  {
   "cell_type": "code",
   "execution_count": 102,
   "id": "ccc9de97",
   "metadata": {},
   "outputs": [
    {
     "data": {
      "text/plain": [
       "1881"
      ]
     },
     "execution_count": 102,
     "metadata": {},
     "output_type": "execute_result"
    }
   ],
   "source": [
    "len(ts)"
   ]
  },
  {
   "cell_type": "code",
   "execution_count": 167,
   "id": "cc861376",
   "metadata": {},
   "outputs": [
    {
     "data": {
      "text/plain": [
       "340"
      ]
     },
     "execution_count": 167,
     "metadata": {},
     "output_type": "execute_result"
    }
   ],
   "source": [
    "x = []\n",
    "y = []\n",
    "for i in range(len(ts)):\n",
    "    if ts[i].date().year == 2022 and ts[i].date().month == 2 :\n",
    "        x.append(ts[i].date())\n",
    "        y.append(ts[i].time().hour)\n",
    "\n",
    "\n",
    "\n",
    "len(y)"
   ]
  },
  {
   "cell_type": "code",
   "execution_count": 169,
   "id": "d1d62b53",
   "metadata": {},
   "outputs": [
    {
     "data": {
      "image/png": "[encoded data removed]",
      "text/plain": [
       "<Figure size 1440x864 with 1 Axes>"
      ]
     },
     "metadata": {
      "needs_background": "light"
     },
     "output_type": "display_data"
    }
   ],
   "source": [
    "fig = plt.figure()\n",
    "fig.set_size_inches(20, 12)\n",
    "ax = fig.add_subplot(111)\n",
    "ax.grid()\n",
    "ax.grid(False)\n",
    "plt.scatter(x,y)\n",
    "plt.xlabel('Date')\n",
    "plt.xticks(rotation=45)\n",
    "plt.ylabel('Time')\n",
    "plt.title('Peak Time')\n",
    "plt.show()"
   ]
  },
  {
   "cell_type": "code",
   "execution_count": 128,
   "id": "5ec24b43",
   "metadata": {},
   "outputs": [
    {
     "data": {
      "text/plain": [
       "[<matplotlib.lines.Line2D at 0x168b4feb2e0>]"
      ]
     },
     "execution_count": 128,
     "metadata": {},
     "output_type": "execute_result"
    },
    {
     "data": {
      "image/png": "[encoded data removed]",
      "text/plain": [
       "<Figure size 432x288 with 1 Axes>"
      ]
     },
     "metadata": {
      "needs_background": "light"
     },
     "output_type": "display_data"
    }
   ],
   "source": [
    "plt.plot_date(x[1],1)"
   ]
  },
  {
   "cell_type": "code",
   "execution_count": 133,
   "id": "077b6a6c",
   "metadata": {},
   "outputs": [],
   "source": [
    "from datetime import timedelta"
   ]
  },
  {
   "cell_type": "code",
   "execution_count": 170,
   "id": "bee1edda",
   "metadata": {},
   "outputs": [
    {
     "data": {
      "text/plain": [
       "(array([18993., 18997., 19001., 19005., 19009., 19013., 19017., 19021.]),\n",
       " [Text(0, 0, ''),\n",
       "  Text(0, 0, ''),\n",
       "  Text(0, 0, ''),\n",
       "  Text(0, 0, ''),\n",
       "  Text(0, 0, ''),\n",
       "  Text(0, 0, ''),\n",
       "  Text(0, 0, ''),\n",
       "  Text(0, 0, '')])"
      ]
     },
     "execution_count": 170,
     "metadata": {},
     "output_type": "execute_result"
    },
    {
     "data": {
      "image/png": "[encoded data removed]",
      "text/plain": [
       "<Figure size 3600x2160 with 1 Axes>"
      ]
     },
     "metadata": {
      "needs_background": "light"
     },
     "output_type": "display_data"
    }
   ],
   "source": [
    "fig = plt.figure()\n",
    "fig.set_size_inches(50, 30)\n",
    "x = mpl.dates.drange(datetime(2022,1,1), \n",
    "                     datetime(2022,1,31), \n",
    "                     timedelta(days=1))\n",
    "times = x % 1 + int(x[0])\n",
    "plt.plot_date(x,times)\n",
    "plt.xticks(rotation=45)"
   ]
  },
  {
   "cell_type": "code",
   "execution_count": 156,
   "id": "3578fdc2",
   "metadata": {},
   "outputs": [],
   "source": [
    "data = data.reset_index(drop=True)\n",
    "ts = data['ACTV_START_TS']"
   ]
  },
  {
   "cell_type": "code",
   "execution_count": 161,
   "id": "12bd1d25",
   "metadata": {},
   "outputs": [
    {
     "data": {
      "text/plain": [
       "11"
      ]
     },
     "execution_count": 161,
     "metadata": {},
     "output_type": "execute_result"
    }
   ],
   "source": [
    "dates = []\n",
    "times = []\n",
    "for i in range(len(ts)):\n",
    "    dates.append(ts[i].date())\n",
    "    times.append(ts[i].time())\n"
   ]
  },
  {
   "cell_type": "code",
   "execution_count": null,
   "id": "82bfe2b1",
   "metadata": {},
   "outputs": [],
   "source": [
    "ts.index"
   ]
  }
 ],
 "metadata": {
  "kernelspec": {
   "display_name": "Python 3 (ipykernel)",
   "language": "python",
   "name": "python3"
  },
  "language_info": {
   "codemirror_mode": {
    "name": "ipython",
    "version": 3
   },
   "file_extension": ".py",
   "mimetype": "text/x-python",
   "name": "python",
   "nbconvert_exporter": "python",
   "pygments_lexer": "ipython3",
   "version": "3.10.5"
  }
 },
 "nbformat": 4,
 "nbformat_minor": 5
}
