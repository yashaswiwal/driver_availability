{
 "cells": [
  {
   "cell_type": "code",
   "execution_count": 98,
   "id": "5ae65139",
   "metadata": {},
   "outputs": [],
   "source": [
    "#importing all the required libraries and modules\n",
    "import pandas as pd\n",
    "from pandas.tseries.holiday import USFederalHolidayCalendar as calendar\n",
    "import numpy as np\n",
    "import matplotlib.pyplot as plt\n",
    "import matplotlib.dates as mdates\n",
    "plt.style.use('fivethirtyeight') \n",
    "\n",
    "import os\n",
    "\n",
    "import seaborn as sns\n",
    "from datetime import datetime, timedelta\n",
    "\n",
    "from google.cloud import bigquery\n",
    "\n",
    "\n",
    "import itertools\n",
    "\n",
    "from random import gauss, shuffle \n",
    "\n",
    "from statsmodels.graphics.tsaplots import plot_acf, plot_pacf\n",
    "from statsmodels.stats.diagnostic import het_arch, acorr_ljungbox\n",
    "\n",
    "from sklearn.metrics import mean_absolute_percentage_error as mape, mean_squared_error as mse, mean_absolute_error as mae\n",
    "from scipy.stats import shapiro, probplot\n",
    "from sklearn.preprocessing import LabelEncoder, OneHotEncoder\n",
    "from sklearn.linear_model import LinearRegression, Ridge\n",
    "from sklearn.multioutput import MultiOutputRegressor\n",
    "from sklearn.cluster import KMeans\n",
    "\n",
    "import lightgbm as lgb\n",
    "\n",
    "import gc, copy\n",
    "\n",
    "from gensim.models import Word2Vec \n",
    "\n",
    "import warnings\n",
    "warnings.simplefilter(action='ignore', category= FutureWarning)"
   ]
  },
  {
   "cell_type": "code",
   "execution_count": 99,
   "id": "58a474b6",
   "metadata": {},
   "outputs": [],
   "source": [
    "#connecting notebook to gcloud bigquery to query data.\n",
    "cred_file = r\"C:\\Users\\V0V01S7\\AppData\\Roaming\\gcloud\\legacy_credentials\\venkatasaiyashaswi.v@walmart.com\\adc.json\"\n",
    "os.environ[\"GOOGLE_APPLICATION_CREDENTIALS\"]=cred_file\n",
    "def query_bq(QUERY):\n",
    "    client = bigquery.Client(project='wmt-edw-sandbox')\n",
    "    query_job = client.query(QUERY) # API request\n",
    "    rows = query_job.result() # Waits for query to finish\n",
    "    df = rows.to_dataframe()\n",
    "    return df"
   ]
  },
  {
   "cell_type": "code",
   "execution_count": 100,
   "id": "3ff0619f",
   "metadata": {},
   "outputs": [
    {
     "data": {
      "text/html": [
       "<div>\n",
       "<style scoped>\n",
       "    .dataframe tbody tr th:only-of-type {\n",
       "        vertical-align: middle;\n",
       "    }\n",
       "\n",
       "    .dataframe tbody tr th {\n",
       "        vertical-align: top;\n",
       "    }\n",
       "\n",
       "    .dataframe thead th {\n",
       "        text-align: right;\n",
       "    }\n",
       "</style>\n",
       "<table border=\"1\" class=\"dataframe\">\n",
       "  <thead>\n",
       "    <tr style=\"text-align: right;\">\n",
       "      <th></th>\n",
       "      <th>DRVR_USER_ID</th>\n",
       "      <th>ACTV_START_TS</th>\n",
       "      <th>ACTL_ACTV_END_TS</th>\n",
       "      <th>ACTV_DUR_MIN_QTY</th>\n",
       "      <th>ACTV_DT</th>\n",
       "    </tr>\n",
       "  </thead>\n",
       "  <tbody>\n",
       "    <tr>\n",
       "      <th>0</th>\n",
       "      <td>contreras_correia@hotmail.com</td>\n",
       "      <td>2021-11-25 09:04:09.691</td>\n",
       "      <td>2021-11-25 09:05:06.584</td>\n",
       "      <td>0.950000000</td>\n",
       "      <td>2021-11-25</td>\n",
       "    </tr>\n",
       "    <tr>\n",
       "      <th>1</th>\n",
       "      <td>contreras_correia@hotmail.com</td>\n",
       "      <td>2021-11-25 08:32:07.297</td>\n",
       "      <td>2021-11-25 09:00:00.000</td>\n",
       "      <td>27.880000000</td>\n",
       "      <td>2021-11-25</td>\n",
       "    </tr>\n",
       "    <tr>\n",
       "      <th>2</th>\n",
       "      <td>contreras_correia@hotmail.com</td>\n",
       "      <td>2021-11-25 12:09:39.648</td>\n",
       "      <td>2021-11-25 12:10:54.513</td>\n",
       "      <td>1.250000000</td>\n",
       "      <td>2021-11-25</td>\n",
       "    </tr>\n",
       "    <tr>\n",
       "      <th>3</th>\n",
       "      <td>contreras_correia@hotmail.com</td>\n",
       "      <td>2021-11-25 12:31:56.482</td>\n",
       "      <td>2021-11-25 16:30:00.000</td>\n",
       "      <td>238.070000000</td>\n",
       "      <td>2021-11-25</td>\n",
       "    </tr>\n",
       "    <tr>\n",
       "      <th>4</th>\n",
       "      <td>contreras_correia@hotmail.com</td>\n",
       "      <td>2021-12-24 16:59:28.890</td>\n",
       "      <td>2021-12-24 17:03:08.108</td>\n",
       "      <td>3.670000000</td>\n",
       "      <td>2021-12-24</td>\n",
       "    </tr>\n",
       "  </tbody>\n",
       "</table>\n",
       "</div>"
      ],
      "text/plain": [
       "                    DRVR_USER_ID           ACTV_START_TS  \\\n",
       "0  contreras_correia@hotmail.com 2021-11-25 09:04:09.691   \n",
       "1  contreras_correia@hotmail.com 2021-11-25 08:32:07.297   \n",
       "2  contreras_correia@hotmail.com 2021-11-25 12:09:39.648   \n",
       "3  contreras_correia@hotmail.com 2021-11-25 12:31:56.482   \n",
       "4  contreras_correia@hotmail.com 2021-12-24 16:59:28.890   \n",
       "\n",
       "         ACTL_ACTV_END_TS ACTV_DUR_MIN_QTY     ACTV_DT  \n",
       "0 2021-11-25 09:05:06.584      0.950000000  2021-11-25  \n",
       "1 2021-11-25 09:00:00.000     27.880000000  2021-11-25  \n",
       "2 2021-11-25 12:10:54.513      1.250000000  2021-11-25  \n",
       "3 2021-11-25 16:30:00.000    238.070000000  2021-11-25  \n",
       "4 2021-12-24 17:03:08.108      3.670000000  2021-12-24  "
      ]
     },
     "execution_count": 100,
     "metadata": {},
     "output_type": "execute_result"
    }
   ],
   "source": [
    "code = \"\"\"select A.DRVR_USER_ID, \n",
    "B.ACTV_START_TS, B.ACTL_ACTV_END_TS, B.ACTV_DUR_MIN_QTY, B.ACTV_DT, \n",
    "from `wmt-edw-prod.WW_GEC_VM.DRVR` A inner join `wmt-edw-prod.WW_GEC_VM.DRVR_APPLN_ACTV` B on A.DRVR_USER_ID = B.DRVR_USER_ID\n",
    "where A.MARKET_NM = 'Walmart Orlando' AND B.ACTV_NM = \"ONLINE\" and A.DRVR_USER_ID = \"contreras_correia@hotmail.com\"\n",
    "\"\"\"\n",
    "df = query_bq(code)\n",
    "df[\"ACTV_START_TS\"] = pd.to_datetime(df[\"ACTV_START_TS\"])\n",
    "df[\"ACTL_ACTV_END_TS\"] = pd.to_datetime(df[\"ACTL_ACTV_END_TS\"])\n",
    "df[\"ACTV_START_TS\"] = df[\"ACTV_START_TS\"] + pd.Timedelta(hours=3) #converting pacific time to eastern time (orlando market)\n",
    "df[\"ACTL_ACTV_END_TS\"] = df[\"ACTL_ACTV_END_TS\"] + pd.Timedelta(hours=3)\n",
    "df.head()"
   ]
  },
  {
   "cell_type": "code",
   "execution_count": 102,
   "id": "fffa9059",
   "metadata": {
    "scrolled": true
   },
   "outputs": [
    {
     "data": {
      "text/html": [
       "<div>\n",
       "<style scoped>\n",
       "    .dataframe tbody tr th:only-of-type {\n",
       "        vertical-align: middle;\n",
       "    }\n",
       "\n",
       "    .dataframe tbody tr th {\n",
       "        vertical-align: top;\n",
       "    }\n",
       "\n",
       "    .dataframe thead th {\n",
       "        text-align: right;\n",
       "    }\n",
       "</style>\n",
       "<table border=\"1\" class=\"dataframe\">\n",
       "  <thead>\n",
       "    <tr style=\"text-align: right;\">\n",
       "      <th></th>\n",
       "      <th>minutes</th>\n",
       "    </tr>\n",
       "    <tr>\n",
       "      <th>start_hour</th>\n",
       "      <th></th>\n",
       "    </tr>\n",
       "  </thead>\n",
       "  <tbody>\n",
       "    <tr>\n",
       "      <th>2021-10-10 15:00:00</th>\n",
       "      <td>16</td>\n",
       "    </tr>\n",
       "    <tr>\n",
       "      <th>2021-10-10 16:00:00</th>\n",
       "      <td>60</td>\n",
       "    </tr>\n",
       "    <tr>\n",
       "      <th>2021-10-10 17:00:00</th>\n",
       "      <td>60</td>\n",
       "    </tr>\n",
       "    <tr>\n",
       "      <th>2021-10-10 18:00:00</th>\n",
       "      <td>60</td>\n",
       "    </tr>\n",
       "    <tr>\n",
       "      <th>2021-10-10 19:00:00</th>\n",
       "      <td>60</td>\n",
       "    </tr>\n",
       "    <tr>\n",
       "      <th>...</th>\n",
       "      <td>...</td>\n",
       "    </tr>\n",
       "    <tr>\n",
       "      <th>2022-07-11 18:00:00</th>\n",
       "      <td>60</td>\n",
       "    </tr>\n",
       "    <tr>\n",
       "      <th>2022-07-11 19:00:00</th>\n",
       "      <td>60</td>\n",
       "    </tr>\n",
       "    <tr>\n",
       "      <th>2022-07-11 20:00:00</th>\n",
       "      <td>60</td>\n",
       "    </tr>\n",
       "    <tr>\n",
       "      <th>2022-07-11 21:00:00</th>\n",
       "      <td>60</td>\n",
       "    </tr>\n",
       "    <tr>\n",
       "      <th>2022-07-11 22:00:00</th>\n",
       "      <td>0</td>\n",
       "    </tr>\n",
       "  </tbody>\n",
       "</table>\n",
       "<p>6584 rows × 1 columns</p>\n",
       "</div>"
      ],
      "text/plain": [
       "                     minutes\n",
       "start_hour                  \n",
       "2021-10-10 15:00:00       16\n",
       "2021-10-10 16:00:00       60\n",
       "2021-10-10 17:00:00       60\n",
       "2021-10-10 18:00:00       60\n",
       "2021-10-10 19:00:00       60\n",
       "...                      ...\n",
       "2022-07-11 18:00:00       60\n",
       "2022-07-11 19:00:00       60\n",
       "2022-07-11 20:00:00       60\n",
       "2022-07-11 21:00:00       60\n",
       "2022-07-11 22:00:00        0\n",
       "\n",
       "[6584 rows x 1 columns]"
      ]
     },
     "execution_count": 102,
     "metadata": {},
     "output_type": "execute_result"
    }
   ],
   "source": [
    "df['dayhour'] = df[\"ACTV_START_TS\"].apply(lambda x: x.replace(minute=0, second=0, microsecond=0))\n",
    "time_line = pd.date_range(df[\"dayhour\"].min(),df[\"dayhour\"].max(),freq='H')\n",
    "time_line = time_line.to_series()\n",
    "ts = pd.DataFrame(time_line,columns = [\"dayhour\"])\n",
    "ts = ts.set_index(\"dayhour\")\n",
    "ts = pd.merge(ts,df,how=\"left\",on=[\"dayhour\"])\n",
    "ts[\"ACTV_DUR_MIN_QTY\"] = ts[\"ACTV_DUR_MIN_QTY\"].fillna(0)\n",
    "ts = ts.drop([\"DRVR_USER_ID\",\"ACTV_DT\"],axis=1)\n",
    "ts = ts.set_index([\"dayhour\"],drop=True)\n",
    "ts = ts.drop_duplicates()\n",
    "ts = ts.dropna()\n",
    "ts = ts.reset_index(drop=False)\n",
    "ts['ACTV_START_TS'] = ts[\"ACTV_START_TS\"].apply(lambda x: x.replace(second=0, microsecond=0))\n",
    "ts['ACTL_ACTV_END_TS'] = ts[\"ACTL_ACTV_END_TS\"].apply(lambda x: x.replace(second=0, microsecond=0))\n",
    "def create_final_data(df):\n",
    "    df['minutes'] = (df['ACTL_ACTV_END_TS'] - df['ACTV_START_TS']).dt.total_seconds()/60\n",
    "    df = df[df['minutes']>0].reset_index(drop=True)\n",
    "    # create an IntervalIndex which we can set as the axis (needed for re-indexing).\n",
    "    # subtract one minute from end_time so that the minute of the termination is excluded.\n",
    "    iv_idx = pd.IntervalIndex.from_arrays(df['ACTV_START_TS'],\n",
    "                                          df['ACTL_ACTV_END_TS']-pd.Timedelta(minutes=1),\n",
    "                                          closed='both')\n",
    "    # create a new index with the extended frequency:\n",
    "    new_idx = pd.date_range(df['ACTV_START_TS'].min(), df['ACTL_ACTV_END_TS'].max(), freq='min')\n",
    "    # set the new index to get the extended frequency;\n",
    "    # all minutes will have the value of the whole interval\n",
    "    result = df['minutes'].set_axis(iv_idx).reindex(new_idx)\n",
    "    # we can now calculate the duration per hour by resampling and summing the\n",
    "    # boolean representation of the duration (1/0):\n",
    "    result= result.fillna(0).astype(int).astype(bool).resample('H').sum()\n",
    "    result.index.name = 'start_hour'\n",
    "    return result\n",
    "re = create_final_data(ts)\n",
    "re = pd.DataFrame(re)\n",
    "re"
   ]
  },
  {
   "cell_type": "code",
   "execution_count": 111,
   "id": "bc8beacf",
   "metadata": {
    "scrolled": false
   },
   "outputs": [],
   "source": [
    "re = re.loc[(re.index.hour <= 21) & (re.index.hour >= 6)]"
   ]
  },
  {
   "cell_type": "code",
   "execution_count": 115,
   "id": "4394ff05",
   "metadata": {},
   "outputs": [
    {
     "data": {
      "text/plain": [
       "<AxesSubplot:xlabel='start_hour'>"
      ]
     },
     "execution_count": 115,
     "metadata": {},
     "output_type": "execute_result"
    },
    {
     "data": {
      "image/png": "[encoded data removed]",
      "text/plain": [
       "<Figure size 432x288 with 1 Axes>"
      ]
     },
     "metadata": {},
     "output_type": "display_data"
    }
   ],
   "source": [
    "re.loc[(re.index >= \"2022-07-09 01:00:00\")].plot()"
   ]
  },
  {
   "cell_type": "code",
   "execution_count": 116,
   "id": "43aad6ef",
   "metadata": {},
   "outputs": [
    {
     "data": {
      "text/plain": [
       "DatetimeIndex(['2021-10-10 15:00:00', '2021-10-10 16:00:00',\n",
       "               '2021-10-10 17:00:00', '2021-10-10 18:00:00',\n",
       "               '2021-10-10 19:00:00', '2021-10-10 20:00:00',\n",
       "               '2021-10-10 21:00:00', '2021-10-11 06:00:00',\n",
       "               '2021-10-11 07:00:00', '2021-10-11 08:00:00',\n",
       "               ...\n",
       "               '2022-07-11 12:00:00', '2022-07-11 13:00:00',\n",
       "               '2022-07-11 14:00:00', '2022-07-11 15:00:00',\n",
       "               '2022-07-11 16:00:00', '2022-07-11 17:00:00',\n",
       "               '2022-07-11 18:00:00', '2022-07-11 19:00:00',\n",
       "               '2022-07-11 20:00:00', '2022-07-11 21:00:00'],\n",
       "              dtype='datetime64[ns]', name='start_hour', length=4391, freq=None)"
      ]
     },
     "execution_count": 116,
     "metadata": {},
     "output_type": "execute_result"
    }
   ],
   "source": [
    "re.index"
   ]
  },
  {
   "cell_type": "code",
   "execution_count": 117,
   "id": "a2bff05c",
   "metadata": {},
   "outputs": [],
   "source": [
    "def my_rmse(x,y):\n",
    "    return(np.round( np.sqrt(mse(x,y)),4))"
   ]
  },
  {
   "cell_type": "code",
   "execution_count": 118,
   "id": "f1714bde",
   "metadata": {},
   "outputs": [
    {
     "name": "stdout",
     "output_type": "stream",
     "text": [
      "<class 'pandas.core.frame.DataFrame'>\n",
      "DatetimeIndex: 4391 entries, 2021-10-10 15:00:00 to 2022-07-11 21:00:00\n",
      "Data columns (total 1 columns):\n",
      " #   Column   Non-Null Count  Dtype\n",
      "---  ------   --------------  -----\n",
      " 0   minutes  4391 non-null   int64\n",
      "dtypes: int64(1)\n",
      "memory usage: 68.6 KB\n"
     ]
    }
   ],
   "source": [
    "re.info()"
   ]
  },
  {
   "cell_type": "code",
   "execution_count": 119,
   "id": "007ea683",
   "metadata": {},
   "outputs": [],
   "source": [
    "def Croston(ts,extra_periods=1,alpha=0.4):\n",
    "    \n",
    "    d = np.array(ts) # Transform the input into a numpy array\n",
    "    cols = len(d) # Historical period length\n",
    "    d = np.append(d,[np.nan]*extra_periods) # Append np.nan into the demand array to cover future periods\n",
    "    \n",
    "    #level (a), periodicity(p) and forecast (f)\n",
    "    a,p,f = np.full((3,cols+extra_periods),np.nan)\n",
    "    q = 1 #periods since last demand observation\n",
    "    \n",
    "    # Initialization\n",
    "    first_occurence = np.argmax(d[:cols]>0)\n",
    "    a[0] = d[first_occurence]\n",
    "    p[0] = 1 + first_occurence\n",
    "    f[0] = a[0]/p[0]\n",
    "    # Create all the t+1 forecasts\n",
    "    for t in range(0,cols):        \n",
    "        if d[t] > 0:\n",
    "            a[t+1] = alpha*d[t] + (1-alpha)*a[t] \n",
    "            p[t+1] = alpha*q + (1-alpha)*p[t]\n",
    "            f[t+1] = a[t+1]/p[t+1]\n",
    "            q = 1           \n",
    "        else:\n",
    "            a[t+1] = a[t]\n",
    "            p[t+1] = p[t]\n",
    "            f[t+1] = f[t]\n",
    "            q += 1\n",
    "       \n",
    "    # Future Forecast \n",
    "    a[cols+1:cols+extra_periods] = a[cols]\n",
    "    p[cols+1:cols+extra_periods] = p[cols]\n",
    "    f[cols+1:cols+extra_periods] = f[cols]\n",
    "                      \n",
    "    df = pd.DataFrame.from_dict({\"Demand\":d,\"Forecast\":f,\"Period\":p,\"Level\":a,\"Error\":d-f})\n",
    "    return df"
   ]
  },
  {
   "cell_type": "code",
   "execution_count": 120,
   "id": "b4b17698",
   "metadata": {},
   "outputs": [],
   "source": [
    "pred_croston =  Croston(re.minutes, extra_periods = 10, alpha=0.4)"
   ]
  },
  {
   "cell_type": "code",
   "execution_count": 121,
   "id": "876980bd",
   "metadata": {},
   "outputs": [
    {
     "data": {
      "text/html": [
       "<div>\n",
       "<style scoped>\n",
       "    .dataframe tbody tr th:only-of-type {\n",
       "        vertical-align: middle;\n",
       "    }\n",
       "\n",
       "    .dataframe tbody tr th {\n",
       "        vertical-align: top;\n",
       "    }\n",
       "\n",
       "    .dataframe thead th {\n",
       "        text-align: right;\n",
       "    }\n",
       "</style>\n",
       "<table border=\"1\" class=\"dataframe\">\n",
       "  <thead>\n",
       "    <tr style=\"text-align: right;\">\n",
       "      <th></th>\n",
       "      <th>Demand</th>\n",
       "      <th>Forecast</th>\n",
       "      <th>Period</th>\n",
       "      <th>Level</th>\n",
       "      <th>Error</th>\n",
       "    </tr>\n",
       "  </thead>\n",
       "  <tbody>\n",
       "    <tr>\n",
       "      <th>0</th>\n",
       "      <td>16.0</td>\n",
       "      <td>16.000000</td>\n",
       "      <td>1.000000</td>\n",
       "      <td>16.000000</td>\n",
       "      <td>0.000</td>\n",
       "    </tr>\n",
       "    <tr>\n",
       "      <th>1</th>\n",
       "      <td>60.0</td>\n",
       "      <td>16.000000</td>\n",
       "      <td>1.000000</td>\n",
       "      <td>16.000000</td>\n",
       "      <td>44.000</td>\n",
       "    </tr>\n",
       "    <tr>\n",
       "      <th>2</th>\n",
       "      <td>60.0</td>\n",
       "      <td>33.600000</td>\n",
       "      <td>1.000000</td>\n",
       "      <td>33.600000</td>\n",
       "      <td>26.400</td>\n",
       "    </tr>\n",
       "    <tr>\n",
       "      <th>3</th>\n",
       "      <td>60.0</td>\n",
       "      <td>44.160000</td>\n",
       "      <td>1.000000</td>\n",
       "      <td>44.160000</td>\n",
       "      <td>15.840</td>\n",
       "    </tr>\n",
       "    <tr>\n",
       "      <th>4</th>\n",
       "      <td>60.0</td>\n",
       "      <td>50.496000</td>\n",
       "      <td>1.000000</td>\n",
       "      <td>50.496000</td>\n",
       "      <td>9.504</td>\n",
       "    </tr>\n",
       "    <tr>\n",
       "      <th>...</th>\n",
       "      <td>...</td>\n",
       "      <td>...</td>\n",
       "      <td>...</td>\n",
       "      <td>...</td>\n",
       "      <td>...</td>\n",
       "    </tr>\n",
       "    <tr>\n",
       "      <th>4396</th>\n",
       "      <td>NaN</td>\n",
       "      <td>54.361521</td>\n",
       "      <td>1.001759</td>\n",
       "      <td>54.457151</td>\n",
       "      <td>NaN</td>\n",
       "    </tr>\n",
       "    <tr>\n",
       "      <th>4397</th>\n",
       "      <td>NaN</td>\n",
       "      <td>54.361521</td>\n",
       "      <td>1.001759</td>\n",
       "      <td>54.457151</td>\n",
       "      <td>NaN</td>\n",
       "    </tr>\n",
       "    <tr>\n",
       "      <th>4398</th>\n",
       "      <td>NaN</td>\n",
       "      <td>54.361521</td>\n",
       "      <td>1.001759</td>\n",
       "      <td>54.457151</td>\n",
       "      <td>NaN</td>\n",
       "    </tr>\n",
       "    <tr>\n",
       "      <th>4399</th>\n",
       "      <td>NaN</td>\n",
       "      <td>54.361521</td>\n",
       "      <td>1.001759</td>\n",
       "      <td>54.457151</td>\n",
       "      <td>NaN</td>\n",
       "    </tr>\n",
       "    <tr>\n",
       "      <th>4400</th>\n",
       "      <td>NaN</td>\n",
       "      <td>54.361521</td>\n",
       "      <td>1.001759</td>\n",
       "      <td>54.457151</td>\n",
       "      <td>NaN</td>\n",
       "    </tr>\n",
       "  </tbody>\n",
       "</table>\n",
       "<p>4401 rows × 5 columns</p>\n",
       "</div>"
      ],
      "text/plain": [
       "      Demand   Forecast    Period      Level   Error\n",
       "0       16.0  16.000000  1.000000  16.000000   0.000\n",
       "1       60.0  16.000000  1.000000  16.000000  44.000\n",
       "2       60.0  33.600000  1.000000  33.600000  26.400\n",
       "3       60.0  44.160000  1.000000  44.160000  15.840\n",
       "4       60.0  50.496000  1.000000  50.496000   9.504\n",
       "...      ...        ...       ...        ...     ...\n",
       "4396     NaN  54.361521  1.001759  54.457151     NaN\n",
       "4397     NaN  54.361521  1.001759  54.457151     NaN\n",
       "4398     NaN  54.361521  1.001759  54.457151     NaN\n",
       "4399     NaN  54.361521  1.001759  54.457151     NaN\n",
       "4400     NaN  54.361521  1.001759  54.457151     NaN\n",
       "\n",
       "[4401 rows x 5 columns]"
      ]
     },
     "execution_count": 121,
     "metadata": {},
     "output_type": "execute_result"
    }
   ],
   "source": [
    "pred_croston"
   ]
  },
  {
   "cell_type": "code",
   "execution_count": 122,
   "id": "07e0a91e",
   "metadata": {},
   "outputs": [
    {
     "name": "stdout",
     "output_type": "stream",
     "text": [
      "RMSE: 25.4663\n"
     ]
    }
   ],
   "source": [
    "pred_croston = pred_croston.Forecast.head(len(re))\n",
    "\n",
    "print('RMSE: ' + str(my_rmse(re.minutes,pred_croston)))\n",
    "#print('MAE: ' + str(mae(re.minutes,pred_croston)))"
   ]
  },
  {
   "cell_type": "code",
   "execution_count": 123,
   "id": "80c79ed7",
   "metadata": {},
   "outputs": [
    {
     "data": {
      "text/plain": [
       "<AxesSubplot:xlabel='start_hour'>"
      ]
     },
     "execution_count": 123,
     "metadata": {},
     "output_type": "execute_result"
    },
    {
     "data": {
      "image/png": "[encoded data removed]",
      "text/plain": [
       "<Figure size 432x288 with 1 Axes>"
      ]
     },
     "metadata": {},
     "output_type": "display_data"
    }
   ],
   "source": [
    "re['Croston'] = pred_croston.values\n",
    "re.loc[(re.index >= \"2022-07-09 01:00:00\")].plot()"
   ]
  },
  {
   "cell_type": "code",
   "execution_count": 124,
   "id": "d857c49a",
   "metadata": {},
   "outputs": [],
   "source": [
    "def Croston_TSB(ts,extra_periods=1,alpha=0.4,beta=0.1):\n",
    "    d = np.array(ts) # Transform the input into a numpy array\n",
    "    cols = len(d) # Historical period length\n",
    "    d = np.append(d,[np.nan]*extra_periods) # Append np.nan into the demand array to cover future periods\n",
    "    \n",
    "    #level (a), probability(p) and forecast (f)\n",
    "    a,p,f = np.full((3,cols+extra_periods),np.nan)\n",
    "    # Initialization\n",
    "    first_occurence = np.argmax(d[:cols]>0)\n",
    "    a[0] = d[first_occurence]\n",
    "    p[0] = 1/(1 + first_occurence)\n",
    "    f[0] = p[0]*a[0]\n",
    "                 \n",
    "    # Create all the t+1 forecasts\n",
    "    for t in range(0,cols): \n",
    "        if d[t] > 0:\n",
    "            a[t+1] = alpha*d[t] + (1-alpha)*a[t] \n",
    "            p[t+1] = beta*(1) + (1-beta)*p[t]  \n",
    "        else:\n",
    "            a[t+1] = a[t]\n",
    "            p[t+1] = (1-beta)*p[t]       \n",
    "        f[t+1] = p[t+1]*a[t+1]\n",
    "        \n",
    "    # Future Forecast\n",
    "    a[cols+1:cols+extra_periods] = a[cols]\n",
    "    p[cols+1:cols+extra_periods] = p[cols]\n",
    "    f[cols+1:cols+extra_periods] = f[cols]\n",
    "                      \n",
    "    df = pd.DataFrame.from_dict({\"Demand\":d,\"Forecast\":f,\"Period\":p,\"Level\":a,\"Error\":d-f})\n",
    "    return df"
   ]
  },
  {
   "cell_type": "code",
   "execution_count": 125,
   "id": "e14a9014",
   "metadata": {},
   "outputs": [
    {
     "name": "stdout",
     "output_type": "stream",
     "text": [
      "RMSE: 21.1397\n"
     ]
    }
   ],
   "source": [
    "pred_croston_tsb =  Croston_TSB(re.minutes, extra_periods = 10, alpha = 0.1, beta = 0.1)\n",
    "\n",
    "pred_croston_tsb = pred_croston_tsb.Forecast.head(len(re))\n",
    "print('RMSE: ' + str(my_rmse(re.minutes,pred_croston_tsb)))"
   ]
  },
  {
   "cell_type": "code",
   "execution_count": 126,
   "id": "426ac3ef",
   "metadata": {
    "scrolled": true
   },
   "outputs": [
    {
     "data": {
      "text/plain": [
       "0       16.000000\n",
       "1       16.000000\n",
       "2       20.400000\n",
       "3       24.360000\n",
       "4       27.924000\n",
       "          ...    \n",
       "4386    20.716234\n",
       "4387    21.064456\n",
       "4388    24.452202\n",
       "4389    27.597276\n",
       "4390    30.505688\n",
       "Name: Forecast, Length: 4391, dtype: float64"
      ]
     },
     "execution_count": 126,
     "metadata": {},
     "output_type": "execute_result"
    }
   ],
   "source": [
    "pred_croston_tsb"
   ]
  },
  {
   "cell_type": "code",
   "execution_count": 127,
   "id": "b52fff79",
   "metadata": {
    "scrolled": true
   },
   "outputs": [
    {
     "data": {
      "text/plain": [
       "<AxesSubplot:xlabel='start_hour'>"
      ]
     },
     "execution_count": 127,
     "metadata": {},
     "output_type": "execute_result"
    },
    {
     "data": {
      "image/png": "[encoded data removed]",
      "text/plain": [
       "<Figure size 432x288 with 1 Axes>"
      ]
     },
     "metadata": {},
     "output_type": "display_data"
    }
   ],
   "source": [
    "re[\"Croston_TSB\"] =  pred_croston_tsb.values\n",
    "re.loc[(re.index >= \"2022-07-09 01:00:00\")].plot()"
   ]
  },
  {
   "cell_type": "code",
   "execution_count": 128,
   "id": "3091c03e",
   "metadata": {},
   "outputs": [],
   "source": [
    "import plotly.graph_objects as go\n",
    "import plotly.express as px\n",
    "from plotly.subplots import make_subplots\n",
    "\n",
    "import seaborn as sns\n",
    "import matplotlib.pylab as plab\n",
    "\n",
    "from sklearn.model_selection import train_test_split"
   ]
  },
  {
   "cell_type": "code",
   "execution_count": 129,
   "id": "7cd09048",
   "metadata": {},
   "outputs": [],
   "source": [
    "from statsmodels.tsa.api import STLForecast\n",
    "from statsmodels.tsa.arima.model import ARIMA\n",
    "from statsmodels.datasets import macrodata"
   ]
  },
  {
   "cell_type": "code",
   "execution_count": 130,
   "id": "d7c5a850",
   "metadata": {},
   "outputs": [],
   "source": [
    "split_date = '01-Jun-2022'\n",
    "ts_train = re.loc[re.index <= split_date].copy()\n",
    "ts_test = re.loc[re.index > split_date].copy()"
   ]
  },
  {
   "cell_type": "code",
   "execution_count": 131,
   "id": "28350a94",
   "metadata": {
    "scrolled": false
   },
   "outputs": [
    {
     "data": {
      "text/html": [
       "<div>\n",
       "<style scoped>\n",
       "    .dataframe tbody tr th:only-of-type {\n",
       "        vertical-align: middle;\n",
       "    }\n",
       "\n",
       "    .dataframe tbody tr th {\n",
       "        vertical-align: top;\n",
       "    }\n",
       "\n",
       "    .dataframe thead th {\n",
       "        text-align: right;\n",
       "    }\n",
       "</style>\n",
       "<table border=\"1\" class=\"dataframe\">\n",
       "  <thead>\n",
       "    <tr style=\"text-align: right;\">\n",
       "      <th></th>\n",
       "      <th>minutes</th>\n",
       "      <th>Croston</th>\n",
       "      <th>Croston_TSB</th>\n",
       "    </tr>\n",
       "    <tr>\n",
       "      <th>start_hour</th>\n",
       "      <th></th>\n",
       "      <th></th>\n",
       "      <th></th>\n",
       "    </tr>\n",
       "  </thead>\n",
       "  <tbody>\n",
       "    <tr>\n",
       "      <th>2021-10-10 15:00:00</th>\n",
       "      <td>16</td>\n",
       "      <td>16.000000</td>\n",
       "      <td>16.000000</td>\n",
       "    </tr>\n",
       "    <tr>\n",
       "      <th>2021-10-10 16:00:00</th>\n",
       "      <td>60</td>\n",
       "      <td>16.000000</td>\n",
       "      <td>16.000000</td>\n",
       "    </tr>\n",
       "    <tr>\n",
       "      <th>2021-10-10 17:00:00</th>\n",
       "      <td>60</td>\n",
       "      <td>33.600000</td>\n",
       "      <td>20.400000</td>\n",
       "    </tr>\n",
       "    <tr>\n",
       "      <th>2021-10-10 18:00:00</th>\n",
       "      <td>60</td>\n",
       "      <td>44.160000</td>\n",
       "      <td>24.360000</td>\n",
       "    </tr>\n",
       "    <tr>\n",
       "      <th>2021-10-10 19:00:00</th>\n",
       "      <td>60</td>\n",
       "      <td>50.496000</td>\n",
       "      <td>27.924000</td>\n",
       "    </tr>\n",
       "    <tr>\n",
       "      <th>...</th>\n",
       "      <td>...</td>\n",
       "      <td>...</td>\n",
       "      <td>...</td>\n",
       "    </tr>\n",
       "    <tr>\n",
       "      <th>2022-05-31 17:00:00</th>\n",
       "      <td>17</td>\n",
       "      <td>33.751881</td>\n",
       "      <td>25.520089</td>\n",
       "    </tr>\n",
       "    <tr>\n",
       "      <th>2022-05-31 18:00:00</th>\n",
       "      <td>46</td>\n",
       "      <td>28.253926</td>\n",
       "      <td>25.144330</td>\n",
       "    </tr>\n",
       "    <tr>\n",
       "      <th>2022-05-31 19:00:00</th>\n",
       "      <td>60</td>\n",
       "      <td>34.528709</td>\n",
       "      <td>26.948746</td>\n",
       "    </tr>\n",
       "    <tr>\n",
       "      <th>2022-05-31 20:00:00</th>\n",
       "      <td>60</td>\n",
       "      <td>43.973383</td>\n",
       "      <td>29.736377</td>\n",
       "    </tr>\n",
       "    <tr>\n",
       "      <th>2022-05-31 21:00:00</th>\n",
       "      <td>9</td>\n",
       "      <td>50.094766</td>\n",
       "      <td>32.343569</td>\n",
       "    </tr>\n",
       "  </tbody>\n",
       "</table>\n",
       "<p>3735 rows × 3 columns</p>\n",
       "</div>"
      ],
      "text/plain": [
       "                     minutes    Croston  Croston_TSB\n",
       "start_hour                                          \n",
       "2021-10-10 15:00:00       16  16.000000    16.000000\n",
       "2021-10-10 16:00:00       60  16.000000    16.000000\n",
       "2021-10-10 17:00:00       60  33.600000    20.400000\n",
       "2021-10-10 18:00:00       60  44.160000    24.360000\n",
       "2021-10-10 19:00:00       60  50.496000    27.924000\n",
       "...                      ...        ...          ...\n",
       "2022-05-31 17:00:00       17  33.751881    25.520089\n",
       "2022-05-31 18:00:00       46  28.253926    25.144330\n",
       "2022-05-31 19:00:00       60  34.528709    26.948746\n",
       "2022-05-31 20:00:00       60  43.973383    29.736377\n",
       "2022-05-31 21:00:00        9  50.094766    32.343569\n",
       "\n",
       "[3735 rows x 3 columns]"
      ]
     },
     "execution_count": 131,
     "metadata": {},
     "output_type": "execute_result"
    }
   ],
   "source": [
    "ts_train"
   ]
  },
  {
   "cell_type": "code",
   "execution_count": 132,
   "id": "22c04a88",
   "metadata": {},
   "outputs": [
    {
     "data": {
      "text/plain": [
       "656"
      ]
     },
     "execution_count": 132,
     "metadata": {},
     "output_type": "execute_result"
    }
   ],
   "source": [
    "len(ts_test)"
   ]
  },
  {
   "cell_type": "code",
   "execution_count": 135,
   "id": "447ac6c2",
   "metadata": {},
   "outputs": [
    {
     "name": "stderr",
     "output_type": "stream",
     "text": [
      "C:\\Users\\V0V01S7\\AppData\\Local\\Programs\\Python\\Python310\\lib\\site-packages\\statsmodels\\tsa\\base\\tsa_model.py:471: ValueWarning: A date index has been provided, but it has no associated frequency information and so will be ignored when e.g. forecasting.\n",
      "  self._init_dates(dates, freq)\n",
      "C:\\Users\\V0V01S7\\AppData\\Local\\Programs\\Python\\Python310\\lib\\site-packages\\statsmodels\\tsa\\base\\tsa_model.py:471: ValueWarning: A date index has been provided, but it has no associated frequency information and so will be ignored when e.g. forecasting.\n",
      "  self._init_dates(dates, freq)\n",
      "C:\\Users\\V0V01S7\\AppData\\Local\\Programs\\Python\\Python310\\lib\\site-packages\\statsmodels\\tsa\\base\\tsa_model.py:471: ValueWarning: A date index has been provided, but it has no associated frequency information and so will be ignored when e.g. forecasting.\n",
      "  self._init_dates(dates, freq)\n",
      "C:\\Users\\V0V01S7\\AppData\\Local\\Programs\\Python\\Python310\\lib\\site-packages\\statsmodels\\tsa\\base\\tsa_model.py:834: ValueWarning: No supported index is available. Prediction results will be given with an integer index beginning at `start`.\n",
      "  return get_prediction_index(\n"
     ]
    }
   ],
   "source": [
    "stlf = STLForecast(ts_train['minutes'], ARIMA, model_kwargs={\"order\": (0, 1, 5)}, period = 15)\n",
    "res = stlf.fit()\n",
    "forecasts = res.forecast(656)"
   ]
  },
  {
   "cell_type": "code",
   "execution_count": 136,
   "id": "ce40f24f",
   "metadata": {},
   "outputs": [
    {
     "data": {
      "text/plain": [
       "3735     5.130360\n",
       "3736    15.572681\n",
       "3737    21.094993\n",
       "3738    47.841233\n",
       "3739    30.984162\n",
       "          ...    \n",
       "4386    39.329680\n",
       "4387    22.853456\n",
       "4388    50.123055\n",
       "4389    48.263691\n",
       "4390    29.001309\n",
       "Length: 656, dtype: float64"
      ]
     },
     "execution_count": 136,
     "metadata": {},
     "output_type": "execute_result"
    }
   ],
   "source": [
    "forecasts"
   ]
  },
  {
   "cell_type": "code",
   "execution_count": 137,
   "id": "e66b3e8b",
   "metadata": {},
   "outputs": [
    {
     "data": {
      "text/plain": [
       "3735     5.130360\n",
       "3736    15.572681\n",
       "3737    21.094993\n",
       "3738    47.841233\n",
       "3739    30.984162\n",
       "          ...    \n",
       "4386    39.329680\n",
       "4387    22.853456\n",
       "4388    50.123055\n",
       "4389    48.263691\n",
       "4390    29.001309\n",
       "Length: 656, dtype: float64"
      ]
     },
     "execution_count": 137,
     "metadata": {},
     "output_type": "execute_result"
    }
   ],
   "source": [
    "forecasts[forecasts < 0] = 0\n",
    "forecasts"
   ]
  },
  {
   "cell_type": "code",
   "execution_count": 138,
   "id": "6bd67f29",
   "metadata": {},
   "outputs": [
    {
     "name": "stdout",
     "output_type": "stream",
     "text": [
      "RMSE: 28.0562\n"
     ]
    }
   ],
   "source": [
    "#re.loc[(re.index >= \"2022-07-09 01:00:00\")].plot()\n",
    "print('RMSE: ' + str(my_rmse(ts_test.minutes,forecasts)))"
   ]
  },
  {
   "cell_type": "code",
   "execution_count": 139,
   "id": "83920576",
   "metadata": {},
   "outputs": [
    {
     "name": "stdout",
     "output_type": "stream",
     "text": [
      "MAE: 23.120968987312292\n"
     ]
    }
   ],
   "source": [
    "print('MAE: ' + str(mae(ts_test.minutes,forecasts)))"
   ]
  },
  {
   "cell_type": "code",
   "execution_count": 140,
   "id": "c6e45933",
   "metadata": {
    "scrolled": true
   },
   "outputs": [
    {
     "data": {
      "text/html": [
       "<div>\n",
       "<style scoped>\n",
       "    .dataframe tbody tr th:only-of-type {\n",
       "        vertical-align: middle;\n",
       "    }\n",
       "\n",
       "    .dataframe tbody tr th {\n",
       "        vertical-align: top;\n",
       "    }\n",
       "\n",
       "    .dataframe thead th {\n",
       "        text-align: right;\n",
       "    }\n",
       "</style>\n",
       "<table border=\"1\" class=\"dataframe\">\n",
       "  <thead>\n",
       "    <tr style=\"text-align: right;\">\n",
       "      <th></th>\n",
       "      <th>minutes</th>\n",
       "      <th>Croston</th>\n",
       "      <th>Croston_TSB</th>\n",
       "      <th>SLTF_pred</th>\n",
       "    </tr>\n",
       "    <tr>\n",
       "      <th>start_hour</th>\n",
       "      <th></th>\n",
       "      <th></th>\n",
       "      <th></th>\n",
       "      <th></th>\n",
       "    </tr>\n",
       "  </thead>\n",
       "  <tbody>\n",
       "    <tr>\n",
       "      <th>2022-06-01 06:00:00</th>\n",
       "      <td>0</td>\n",
       "      <td>34.110071</td>\n",
       "      <td>30.524690</td>\n",
       "      <td>NaN</td>\n",
       "    </tr>\n",
       "    <tr>\n",
       "      <th>2022-06-01 07:00:00</th>\n",
       "      <td>0</td>\n",
       "      <td>34.110071</td>\n",
       "      <td>27.472221</td>\n",
       "      <td>NaN</td>\n",
       "    </tr>\n",
       "    <tr>\n",
       "      <th>2022-06-01 08:00:00</th>\n",
       "      <td>0</td>\n",
       "      <td>34.110071</td>\n",
       "      <td>24.724999</td>\n",
       "      <td>NaN</td>\n",
       "    </tr>\n",
       "    <tr>\n",
       "      <th>2022-06-01 09:00:00</th>\n",
       "      <td>46</td>\n",
       "      <td>34.110071</td>\n",
       "      <td>22.252499</td>\n",
       "      <td>NaN</td>\n",
       "    </tr>\n",
       "    <tr>\n",
       "      <th>2022-06-01 10:00:00</th>\n",
       "      <td>60</td>\n",
       "      <td>17.792559</td>\n",
       "      <td>24.297166</td>\n",
       "      <td>NaN</td>\n",
       "    </tr>\n",
       "    <tr>\n",
       "      <th>...</th>\n",
       "      <td>...</td>\n",
       "      <td>...</td>\n",
       "      <td>...</td>\n",
       "      <td>...</td>\n",
       "    </tr>\n",
       "    <tr>\n",
       "      <th>2022-07-11 17:00:00</th>\n",
       "      <td>24</td>\n",
       "      <td>12.437142</td>\n",
       "      <td>20.716234</td>\n",
       "      <td>NaN</td>\n",
       "    </tr>\n",
       "    <tr>\n",
       "      <th>2022-07-11 18:00:00</th>\n",
       "      <td>60</td>\n",
       "      <td>17.000346</td>\n",
       "      <td>21.064456</td>\n",
       "      <td>NaN</td>\n",
       "    </tr>\n",
       "    <tr>\n",
       "      <th>2022-07-11 19:00:00</th>\n",
       "      <td>60</td>\n",
       "      <td>34.061259</td>\n",
       "      <td>24.452202</td>\n",
       "      <td>NaN</td>\n",
       "    </tr>\n",
       "    <tr>\n",
       "      <th>2022-07-11 20:00:00</th>\n",
       "      <td>60</td>\n",
       "      <td>44.386302</td>\n",
       "      <td>27.597276</td>\n",
       "      <td>NaN</td>\n",
       "    </tr>\n",
       "    <tr>\n",
       "      <th>2022-07-11 21:00:00</th>\n",
       "      <td>60</td>\n",
       "      <td>50.613523</td>\n",
       "      <td>30.505688</td>\n",
       "      <td>NaN</td>\n",
       "    </tr>\n",
       "  </tbody>\n",
       "</table>\n",
       "<p>656 rows × 4 columns</p>\n",
       "</div>"
      ],
      "text/plain": [
       "                     minutes    Croston  Croston_TSB  SLTF_pred\n",
       "start_hour                                                     \n",
       "2022-06-01 06:00:00        0  34.110071    30.524690        NaN\n",
       "2022-06-01 07:00:00        0  34.110071    27.472221        NaN\n",
       "2022-06-01 08:00:00        0  34.110071    24.724999        NaN\n",
       "2022-06-01 09:00:00       46  34.110071    22.252499        NaN\n",
       "2022-06-01 10:00:00       60  17.792559    24.297166        NaN\n",
       "...                      ...        ...          ...        ...\n",
       "2022-07-11 17:00:00       24  12.437142    20.716234        NaN\n",
       "2022-07-11 18:00:00       60  17.000346    21.064456        NaN\n",
       "2022-07-11 19:00:00       60  34.061259    24.452202        NaN\n",
       "2022-07-11 20:00:00       60  44.386302    27.597276        NaN\n",
       "2022-07-11 21:00:00       60  50.613523    30.505688        NaN\n",
       "\n",
       "[656 rows x 4 columns]"
      ]
     },
     "execution_count": 140,
     "metadata": {},
     "output_type": "execute_result"
    }
   ],
   "source": [
    "ts_test[\"SLTF_pred\"] = forecasts\n",
    "ts_test"
   ]
  },
  {
   "cell_type": "code",
   "execution_count": 141,
   "id": "301ea7cb",
   "metadata": {},
   "outputs": [],
   "source": [
    "ts_last = ts_test.loc[ts_test.index >= \"2022-07-09 01:00:00\"]"
   ]
  },
  {
   "cell_type": "code",
   "execution_count": 142,
   "id": "8c2d46a0",
   "metadata": {},
   "outputs": [
    {
     "data": {
      "text/plain": [
       "<AxesSubplot:xlabel='start_hour'>"
      ]
     },
     "execution_count": 142,
     "metadata": {},
     "output_type": "execute_result"
    },
    {
     "data": {
      "text/plain": [
       "<Figure size 432x288 with 0 Axes>"
      ]
     },
     "metadata": {},
     "output_type": "display_data"
    },
    {
     "data": {
      "image/png": "[encoded data removed]",
      "text/plain": [
       "<Figure size 1080x720 with 1 Axes>"
      ]
     },
     "metadata": {},
     "output_type": "display_data"
    }
   ],
   "source": [
    "plt.figure()\n",
    "\n",
    "ts_last.plot(y=[\"minutes\",\"SLTF_pred\"],figsize = (15,10))"
   ]
  },
  {
   "cell_type": "code",
   "execution_count": 92,
   "id": "af13d5b4",
   "metadata": {},
   "outputs": [
    {
     "data": {
      "text/plain": [
       "52.438917    41\n",
       "6.345492     41\n",
       "52.371167    41\n",
       "16.061609    41\n",
       "18.635834    41\n",
       "41.972731    41\n",
       "28.482064    41\n",
       "45.320062    41\n",
       "0.755756     41\n",
       "4.455940     41\n",
       "4.702392     41\n",
       "4.958712     41\n",
       "5.951654     40\n",
       "5.748501     40\n",
       "5.989992     40\n",
       "5.487061     40\n",
       "1.489311     40\n",
       "1.720119     40\n",
       "1.935668     40\n",
       "5.221554     40\n",
       "53.416589    40\n",
       "49.838000    40\n",
       "37.284184    40\n",
       "16.323788    40\n",
       "5.306926      1\n",
       "5.199423      1\n",
       "5.437352      1\n",
       "5.038319      1\n",
       "Name: SLTF_pred, dtype: int64"
      ]
     },
     "execution_count": 92,
     "metadata": {},
     "output_type": "execute_result"
    }
   ],
   "source": [
    "ts_test.SLTF_pred.value_counts()"
   ]
  },
  {
   "cell_type": "code",
   "execution_count": 93,
   "id": "d164465b",
   "metadata": {},
   "outputs": [
    {
     "data": {
      "text/html": [
       "<table class=\"simpletable\">\n",
       "<caption>SARIMAX Results</caption>\n",
       "<tr>\n",
       "  <th>Dep. Variable:</th>        <td>minutes</td>     <th>  No. Observations:  </th>    <td>5602</td>   \n",
       "</tr>\n",
       "<tr>\n",
       "  <th>Model:</th>            <td>ARIMA(0, 1, 5)</td>  <th>  Log Likelihood     </th> <td>-23315.044</td>\n",
       "</tr>\n",
       "<tr>\n",
       "  <th>Date:</th>            <td>Mon, 11 Jul 2022</td> <th>  AIC                </th>  <td>46642.088</td>\n",
       "</tr>\n",
       "<tr>\n",
       "  <th>Time:</th>                <td>15:03:18</td>     <th>  BIC                </th>  <td>46681.872</td>\n",
       "</tr>\n",
       "<tr>\n",
       "  <th>Sample:</th>             <td>10-10-2021</td>    <th>  HQIC               </th>  <td>46655.952</td>\n",
       "</tr>\n",
       "<tr>\n",
       "  <th></th>                   <td>- 06-01-2022</td>   <th>                     </th>      <td> </td>    \n",
       "</tr>\n",
       "<tr>\n",
       "  <th>Covariance Type:</th>        <td>opg</td>       <th>                     </th>      <td> </td>    \n",
       "</tr>\n",
       "</table>\n",
       "<table class=\"simpletable\">\n",
       "<tr>\n",
       "     <td></td>       <th>coef</th>     <th>std err</th>      <th>z</th>      <th>P>|z|</th>  <th>[0.025</th>    <th>0.975]</th>  \n",
       "</tr>\n",
       "<tr>\n",
       "  <th>ma.L1</th>  <td>   -0.1525</td> <td>    0.014</td> <td>  -10.566</td> <td> 0.000</td> <td>   -0.181</td> <td>   -0.124</td>\n",
       "</tr>\n",
       "<tr>\n",
       "  <th>ma.L2</th>  <td>   -0.2202</td> <td>    0.013</td> <td>  -16.549</td> <td> 0.000</td> <td>   -0.246</td> <td>   -0.194</td>\n",
       "</tr>\n",
       "<tr>\n",
       "  <th>ma.L3</th>  <td>   -0.1623</td> <td>    0.013</td> <td>  -12.231</td> <td> 0.000</td> <td>   -0.188</td> <td>   -0.136</td>\n",
       "</tr>\n",
       "<tr>\n",
       "  <th>ma.L4</th>  <td>   -0.2110</td> <td>    0.013</td> <td>  -16.126</td> <td> 0.000</td> <td>   -0.237</td> <td>   -0.185</td>\n",
       "</tr>\n",
       "<tr>\n",
       "  <th>ma.L5</th>  <td>   -0.2196</td> <td>    0.015</td> <td>  -14.952</td> <td> 0.000</td> <td>   -0.248</td> <td>   -0.191</td>\n",
       "</tr>\n",
       "<tr>\n",
       "  <th>sigma2</th> <td>  241.5257</td> <td>    3.952</td> <td>   61.122</td> <td> 0.000</td> <td>  233.781</td> <td>  249.270</td>\n",
       "</tr>\n",
       "</table>\n",
       "<table class=\"simpletable\">\n",
       "<tr>\n",
       "  <th>Ljung-Box (L1) (Q):</th>     <td>3.63</td> <th>  Jarque-Bera (JB):  </th> <td>1500.40</td>\n",
       "</tr>\n",
       "<tr>\n",
       "  <th>Prob(Q):</th>                <td>0.06</td> <th>  Prob(JB):          </th>  <td>0.00</td>  \n",
       "</tr>\n",
       "<tr>\n",
       "  <th>Heteroskedasticity (H):</th> <td>1.48</td> <th>  Skew:              </th>  <td>0.22</td>  \n",
       "</tr>\n",
       "<tr>\n",
       "  <th>Prob(H) (two-sided):</th>    <td>0.00</td> <th>  Kurtosis:          </th>  <td>5.50</td>  \n",
       "</tr>\n",
       "</table><br/><br/>Warnings:<br/>[1] Covariance matrix calculated using the outer product of gradients (complex-step)."
      ],
      "text/plain": [
       "<class 'statsmodels.iolib.summary.Summary'>\n",
       "\"\"\"\n",
       "                               SARIMAX Results                                \n",
       "==============================================================================\n",
       "Dep. Variable:                minutes   No. Observations:                 5602\n",
       "Model:                 ARIMA(0, 1, 5)   Log Likelihood              -23315.044\n",
       "Date:                Mon, 11 Jul 2022   AIC                          46642.088\n",
       "Time:                        15:03:18   BIC                          46681.872\n",
       "Sample:                    10-10-2021   HQIC                         46655.952\n",
       "                         - 06-01-2022                                         \n",
       "Covariance Type:                  opg                                         \n",
       "==============================================================================\n",
       "                 coef    std err          z      P>|z|      [0.025      0.975]\n",
       "------------------------------------------------------------------------------\n",
       "ma.L1         -0.1525      0.014    -10.566      0.000      -0.181      -0.124\n",
       "ma.L2         -0.2202      0.013    -16.549      0.000      -0.246      -0.194\n",
       "ma.L3         -0.1623      0.013    -12.231      0.000      -0.188      -0.136\n",
       "ma.L4         -0.2110      0.013    -16.126      0.000      -0.237      -0.185\n",
       "ma.L5         -0.2196      0.015    -14.952      0.000      -0.248      -0.191\n",
       "sigma2       241.5257      3.952     61.122      0.000     233.781     249.270\n",
       "===================================================================================\n",
       "Ljung-Box (L1) (Q):                   3.63   Jarque-Bera (JB):              1500.40\n",
       "Prob(Q):                              0.06   Prob(JB):                         0.00\n",
       "Heteroskedasticity (H):               1.48   Skew:                             0.22\n",
       "Prob(H) (two-sided):                  0.00   Kurtosis:                         5.50\n",
       "===================================================================================\n",
       "\n",
       "Warnings:\n",
       "[1] Covariance matrix calculated using the outer product of gradients (complex-step).\n",
       "\"\"\""
      ]
     },
     "execution_count": 93,
     "metadata": {},
     "output_type": "execute_result"
    }
   ],
   "source": [
    "from statsmodels.tsa.arima.model import ARIMA\n",
    "model=ARIMA(ts_train['minutes'],order=(0,1,5))\n",
    "model=model.fit()\n",
    "model.summary()"
   ]
  },
  {
   "cell_type": "code",
   "execution_count": 94,
   "id": "a8d90235",
   "metadata": {
    "scrolled": true
   },
   "outputs": [
    {
     "data": {
      "text/plain": [
       "[<matplotlib.lines.Line2D at 0x19f0f37e680>]"
      ]
     },
     "execution_count": 94,
     "metadata": {},
     "output_type": "execute_result"
    },
    {
     "data": {
      "image/png": "[encoded data removed]",
      "text/plain": [
       "<Figure size 1080x360 with 1 Axes>"
      ]
     },
     "metadata": {
      "needs_background": "light"
     },
     "output_type": "display_data"
    }
   ],
   "source": [
    "start=len(ts_train)\n",
    "end=len(ts_train)+len(ts_test)-1\n",
    "pred=model.predict(start=start,end=end,typ='levels').rename('ARIMA Predictions')\n",
    "f, ax = plt.subplots(1)\n",
    "f.set_figheight(5)\n",
    "f.set_figwidth(15)z\n",
    "ax.plot(ts_test.index, ts_test['minutes'], color='r')"
   ]
  },
  {
   "cell_type": "code",
   "execution_count": 97,
   "id": "c1c871bc",
   "metadata": {},
   "outputs": [
    {
     "data": {
      "text/plain": [
       "<AxesSubplot:>"
      ]
     },
     "execution_count": 97,
     "metadata": {},
     "output_type": "execute_result"
    },
    {
     "data": {
      "image/png": "[encoded data removed]",
      "text/plain": [
       "<Figure size 432x288 with 1 Axes>"
      ]
     },
     "metadata": {
      "needs_background": "light"
     },
     "output_type": "display_data"
    }
   ],
   "source": [
    "pred.plot()"
   ]
  },
  {
   "cell_type": "code",
   "execution_count": 95,
   "id": "ae3c4365",
   "metadata": {},
   "outputs": [],
   "source": [
    "ts_last = ts_test.loc[ts_test.index >= \"2022-07-09 01:00:00\"]"
   ]
  },
  {
   "cell_type": "code",
   "execution_count": null,
   "id": "01773ef1",
   "metadata": {},
   "outputs": [],
   "source": [
    "plt.figure()\n",
    "\n",
    "ts_last.plot(y=[\"minutes\",\"SLTF_pred\"],figsize = (15,10))"
   ]
  }
 ],
 "metadata": {
  "kernelspec": {
   "display_name": "Python 3 (ipykernel)",
   "language": "python",
   "name": "python3"
  },
  "language_info": {
   "codemirror_mode": {
    "name": "ipython",
    "version": 3
   },
   "file_extension": ".py",
   "mimetype": "text/x-python",
   "name": "python",
   "nbconvert_exporter": "python",
   "pygments_lexer": "ipython3",
   "version": "3.10.5"
  }
 },
 "nbformat": 4,
 "nbformat_minor": 5
}
